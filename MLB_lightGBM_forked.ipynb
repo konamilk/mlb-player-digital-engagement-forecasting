{
  "nbformat": 4,
  "nbformat_minor": 0,
  "metadata": {
    "colab": {
      "name": "MLB_lightGBM_forked.ipynb",
      "provenance": [],
      "collapsed_sections": [],
      "machine_shape": "hm",
      "include_colab_link": true
    },
    "kernelspec": {
      "display_name": "Python 3",
      "language": "python",
      "name": "python3"
    },
    "language_info": {
      "codemirror_mode": {
        "name": "ipython",
        "version": 3
      },
      "file_extension": ".py",
      "mimetype": "text/x-python",
      "name": "python",
      "nbconvert_exporter": "python",
      "pygments_lexer": "ipython3",
      "version": "3.7.10"
    }
  },
  "cells": [
    {
      "cell_type": "markdown",
      "metadata": {
        "id": "view-in-github",
        "colab_type": "text"
      },
      "source": [
        "<a href=\"https://colab.research.google.com/github/konamilk/mlb-player-digital-engagement-forecasting/blob/main/MLB_lightGBM_forked.ipynb\" target=\"_parent\"><img src=\"https://colab.research.google.com/assets/colab-badge.svg\" alt=\"Open In Colab\"/></a>"
      ]
    },
    {
      "cell_type": "markdown",
      "metadata": {
        "id": "OjpB9kt47C8C"
      },
      "source": [
        "## Training"
      ]
    },
    {
      "cell_type": "code",
      "metadata": {
        "id": "2cAGsiMZ-lvU"
      },
      "source": [
        "import sys\n",
        "from pathlib import Path"
      ],
      "execution_count": 1,
      "outputs": []
    },
    {
      "cell_type": "code",
      "metadata": {
        "id": "XbX3D80_8fWH"
      },
      "source": [
        "# # Install_LightGBM_with_GPU\n",
        "# if 'google.colab' in sys.modules:\n",
        "#     ! git clone --recursive https://github.com/Microsoft/LightGBM\n",
        "\n",
        "#     %cd /content/LightGBM\n",
        "#     ! mkdir -p build\n",
        "\n",
        "#     %cd build\n",
        "#     ! cmake -DUSE_GPU=1 /content/LightGBM\n",
        "#     ! make -j$(nproc)\n",
        "#     ! sudo apt-get -y install python-pip\n",
        "#     ! sudo -H pip install setuptools pandas numpy scipy scikit-learn -U\n",
        "\n",
        "#     %cd /content/LightGBM/python-package\n",
        "#     ! sudo python setup.py install --precompile\n",
        "\n",
        "#     %cd /content/"
      ],
      "execution_count": 2,
      "outputs": []
    },
    {
      "cell_type": "code",
      "metadata": {
        "id": "QAyMxdEr7C8C"
      },
      "source": [
        "import numpy as np\n",
        "import pandas as pd\n",
        "pd.set_option('display.max_columns', 100)\n",
        "from pathlib import Path\n",
        "from sklearn.metrics import mean_absolute_error\n",
        "from datetime import timedelta\n",
        "from functools import reduce\n",
        "from tqdm import tqdm\n",
        "import lightgbm as lgbm\n",
        "import datetime\n",
        "import gc"
      ],
      "execution_count": 3,
      "outputs": []
    },
    {
      "cell_type": "code",
      "metadata": {
        "id": "3JarsAv27l67",
        "colab": {
          "base_uri": "https://localhost:8080/"
        },
        "outputId": "089a2cb6-0dc1-434c-b82f-958025dd5e08"
      },
      "source": [
        "if 'google.colab' in sys.modules:\n",
        "    from google.colab import drive\n",
        "    drive.mount('/content/drive')\n",
        "    BASE_DIR = Path('/content/input/mlb-player-digital-engagement-forecasting')\n",
        "    TRAIN_DIR = Path('/content/input/mlb-pdef-train-dataset')\n",
        "elif 'kaggle_web_client' in sys.modules:\n",
        "    BASE_DIR = Path('../input/mlb-player-digital-engagement-forecasting')\n",
        "    TRAIN_DIR = Path('../input/mlb-pdef-train-dataset')"
      ],
      "execution_count": 4,
      "outputs": [
        {
          "output_type": "stream",
          "text": [
            "Drive already mounted at /content/drive; to attempt to forcibly remount, call drive.mount(\"/content/drive\", force_remount=True).\n"
          ],
          "name": "stdout"
        }
      ]
    },
    {
      "cell_type": "code",
      "metadata": {
        "colab": {
          "base_uri": "https://localhost:8080/"
        },
        "id": "njAMCtlm8Ewr",
        "outputId": "990153cf-dcd3-4775-8dc3-ed85190c1433"
      },
      "source": [
        "if 'google.colab' in sys.modules:\n",
        "    !mkdir ~/.kaggle\n",
        "    !cp /content/drive/MyDrive/.kaggle/kaggle.json ~/.kaggle\n",
        "    !chmod 600 ~/.kaggle/kaggle.json\n",
        "    !pip install kaggle > /dev/null\n",
        "    !mkdir input\n",
        "    # original datasets\n",
        "    !kaggle competitions download -c mlb-player-digital-engagement-forecasting\n",
        "    !mkdir input/mlb-player-digital-engagement-forecasting\n",
        "    !unzip -o '*.zip' -d ./input/mlb-player-digital-engagement-forecasting\n",
        "    !mv *.csv ./input/mlb-player-digital-engagement-forecasting\n",
        "    !rm *.zip\n",
        "    # MLB_PDEF_train_dataset\n",
        "    !kaggle datasets download -d columbia2131/mlb-pdef-train-dataset\n",
        "    !mkdir input/mlb-pdef-train-dataset\n",
        "    !unzip -o '*.zip' -d ./input/mlb-pdef-train-dataset\n",
        "    !rm *.zip"
      ],
      "execution_count": 5,
      "outputs": [
        {
          "output_type": "stream",
          "text": [
            "mkdir: cannot create directory ‘/root/.kaggle’: File exists\n",
            "mkdir: cannot create directory ‘input’: File exists\n",
            "Warning: Looks like you're using an outdated API Version, please consider updating (server 1.5.12 / client 1.5.4)\n",
            "competition.cpython-37m-x86_64-linux-gnu.so: Skipping, found more recently modified local copy (use --force to force download)\n",
            "__init__.py: Skipping, found more recently modified local copy (use --force to force download)\n",
            "Downloading seasons.csv to /content\n",
            "  0% 0.00/824 [00:00<?, ?B/s]\n",
            "100% 824/824 [00:00<00:00, 380kB/s]\n",
            "Downloading example_test.csv.zip to /content\n",
            "  0% 0.00/3.96M [00:00<?, ?B/s]\n",
            "100% 3.96M/3.96M [00:00<00:00, 36.1MB/s]\n",
            "Downloading train.csv.zip to /content\n",
            " 97% 456M/470M [00:11<00:00, 29.2MB/s]\n",
            "100% 470M/470M [00:11<00:00, 42.8MB/s]\n",
            "Downloading teams.csv to /content\n",
            "  0% 0.00/3.68k [00:00<?, ?B/s]\n",
            "100% 3.68k/3.68k [00:00<00:00, 3.56MB/s]\n",
            "Downloading awards.csv to /content\n",
            "  0% 0.00/820k [00:00<?, ?B/s]\n",
            "100% 820k/820k [00:00<00:00, 26.1MB/s]\n",
            "Downloading players.csv to /content\n",
            "  0% 0.00/173k [00:00<?, ?B/s]\n",
            "100% 173k/173k [00:00<00:00, 53.8MB/s]\n",
            "Downloading example_sample_submission.csv to /content\n",
            "  0% 0.00/191k [00:00<?, ?B/s]\n",
            "100% 191k/191k [00:00<00:00, 58.8MB/s]\n",
            "mkdir: cannot create directory ‘input/mlb-player-digital-engagement-forecasting’: File exists\n",
            "Archive:  example_test.csv.zip\n",
            "  inflating: ./input/mlb-player-digital-engagement-forecasting/example_test.csv  \n",
            "\n",
            "Archive:  train.csv.zip\n",
            "  inflating: ./input/mlb-player-digital-engagement-forecasting/train.csv  \n",
            "\n",
            "2 archives were successfully processed.\n",
            "Downloading mlb-pdef-train-dataset.zip to /content\n",
            "100% 521M/522M [00:07<00:00, 52.5MB/s]\n",
            "100% 522M/522M [00:07<00:00, 68.9MB/s]\n",
            "mkdir: cannot create directory ‘input/mlb-pdef-train-dataset’: File exists\n",
            "Archive:  mlb-pdef-train-dataset.zip\n",
            "  inflating: ./input/mlb-pdef-train-dataset/awards_train.csv  \n",
            "  inflating: ./input/mlb-pdef-train-dataset/awards_train.pkl  \n",
            "  inflating: ./input/mlb-pdef-train-dataset/events_train.csv  \n",
            "  inflating: ./input/mlb-pdef-train-dataset/events_train.pkl  \n",
            "  inflating: ./input/mlb-pdef-train-dataset/games_train.csv  \n",
            "  inflating: ./input/mlb-pdef-train-dataset/games_train.pkl  \n",
            "  inflating: ./input/mlb-pdef-train-dataset/nextDayPlayerEngagement_train.csv  \n",
            "  inflating: ./input/mlb-pdef-train-dataset/nextDayPlayerEngagement_train.pkl  \n",
            "  inflating: ./input/mlb-pdef-train-dataset/playerBoxScores_train.csv  \n",
            "  inflating: ./input/mlb-pdef-train-dataset/playerBoxScores_train.pkl  \n",
            "  inflating: ./input/mlb-pdef-train-dataset/playerTwitterFollowers_train.csv  \n",
            "  inflating: ./input/mlb-pdef-train-dataset/playerTwitterFollowers_train.pkl  \n",
            "  inflating: ./input/mlb-pdef-train-dataset/rosters_train.csv  \n",
            "  inflating: ./input/mlb-pdef-train-dataset/rosters_train.pkl  \n",
            "  inflating: ./input/mlb-pdef-train-dataset/standings_train.csv  \n",
            "  inflating: ./input/mlb-pdef-train-dataset/standings_train.pkl  \n",
            "  inflating: ./input/mlb-pdef-train-dataset/teamBoxScores_train.csv  \n",
            "  inflating: ./input/mlb-pdef-train-dataset/teamBoxScores_train.pkl  \n",
            "  inflating: ./input/mlb-pdef-train-dataset/teamTwitterFollowers_train.csv  \n",
            "  inflating: ./input/mlb-pdef-train-dataset/teamTwitterFollowers_train.pkl  \n",
            "  inflating: ./input/mlb-pdef-train-dataset/transactions_train.csv  \n",
            "  inflating: ./input/mlb-pdef-train-dataset/transactions_train.pkl  \n"
          ],
          "name": "stdout"
        }
      ]
    },
    {
      "cell_type": "code",
      "metadata": {
        "id": "QRn-w2Xh7C8F"
      },
      "source": [
        "targets_cols = ['playerId', 'target1', 'target2', 'target3', 'target4', 'date']\n",
        "players_cols = ['playerId', 'primaryPositionName', 'DOB']\n",
        "rosters_cols = ['playerId', 'teamId', 'status', 'date']\n",
        "scores_cols = ['playerId', 'battingOrder', 'gamesPlayedBatting', 'flyOuts',\n",
        "       'groundOuts', 'runsScored', 'doubles', 'triples', 'homeRuns',\n",
        "       'strikeOuts', 'baseOnBalls', 'intentionalWalks', 'hits', 'hitByPitch',\n",
        "       'atBats', 'caughtStealing', 'stolenBases', 'groundIntoDoublePlay',\n",
        "       'groundIntoTriplePlay', 'plateAppearances', 'totalBases', 'rbi',\n",
        "       'leftOnBase', 'sacBunts', 'sacFlies', 'catchersInterference',\n",
        "       'pickoffs', 'gamesPlayedPitching', 'gamesStartedPitching',\n",
        "       'completeGamesPitching', 'shutoutsPitching', 'winsPitching',\n",
        "       'lossesPitching', 'flyOutsPitching', 'airOutsPitching',\n",
        "       'groundOutsPitching', 'runsPitching', 'doublesPitching',\n",
        "       'triplesPitching', 'homeRunsPitching', 'strikeOutsPitching',\n",
        "       'baseOnBallsPitching', 'intentionalWalksPitching', 'hitsPitching',\n",
        "       'hitByPitchPitching', 'atBatsPitching', 'caughtStealingPitching',\n",
        "       'stolenBasesPitching', 'inningsPitched', 'saveOpportunities',\n",
        "       'earnedRuns', 'battersFaced', 'outsPitching', 'pitchesThrown', 'balls',\n",
        "       'strikes', 'hitBatsmen', 'balks', 'wildPitches', 'pickoffsPitching',\n",
        "       'rbiPitching', 'gamesFinishedPitching', 'inheritedRunners',\n",
        "       'inheritedRunnersScored', 'catchersInterferencePitching',\n",
        "       'sacBuntsPitching', 'sacFliesPitching', 'saves', 'holds', 'blownSaves',\n",
        "       'assists', 'putOuts', 'errors', 'chances', 'date']\n",
        "\n",
        "feature_cols = ['label_playerId', 'label_primaryPositionName', 'label_teamId',\n",
        "       'label_status', 'battingOrder', 'gamesPlayedBatting', 'flyOuts',\n",
        "       'groundOuts', 'runsScored', 'doubles', 'triples', 'homeRuns',\n",
        "       'strikeOuts', 'baseOnBalls', 'intentionalWalks', 'hits', 'hitByPitch',\n",
        "       'atBats', 'caughtStealing', 'stolenBases', 'groundIntoDoublePlay',\n",
        "       'groundIntoTriplePlay', 'plateAppearances', 'totalBases', 'rbi',\n",
        "       'leftOnBase', 'sacBunts', 'sacFlies', 'catchersInterference',\n",
        "       'pickoffs', 'gamesPlayedPitching', 'gamesStartedPitching',\n",
        "       'completeGamesPitching', 'shutoutsPitching', 'winsPitching',\n",
        "       'lossesPitching', 'flyOutsPitching', 'airOutsPitching',\n",
        "       'groundOutsPitching', 'runsPitching', 'doublesPitching',\n",
        "       'triplesPitching', 'homeRunsPitching', 'strikeOutsPitching',\n",
        "       'baseOnBallsPitching', 'intentionalWalksPitching', 'hitsPitching',\n",
        "       'hitByPitchPitching', 'atBatsPitching', 'caughtStealingPitching',\n",
        "       'stolenBasesPitching', 'inningsPitched', 'saveOpportunities',\n",
        "       'earnedRuns', 'battersFaced', 'outsPitching', 'pitchesThrown', 'balls',\n",
        "       'strikes', 'hitBatsmen', 'balks', 'wildPitches', 'pickoffsPitching',\n",
        "       'rbiPitching', 'gamesFinishedPitching', 'inheritedRunners',\n",
        "       'inheritedRunnersScored', 'catchersInterferencePitching',\n",
        "       'sacBuntsPitching', 'sacFliesPitching', 'saves', 'holds', 'blownSaves',\n",
        "       'assists', 'putOuts', 'errors', 'chances',\n",
        "       'isBirthday', 'playerFollowers', 'teamFollowers',\n",
        "       'year', 'month', 'day', 'dayofweek',\n",
        "       'preSeason', 'regularSeason', '1stHalf', '2ndHalf', 'allStar', 'postSeason',\n",
        "       ]"
      ],
      "execution_count": 6,
      "outputs": []
    },
    {
      "cell_type": "code",
      "metadata": {
        "id": "77AMUlSd7C8D"
      },
      "source": [
        "players = pd.read_csv(BASE_DIR / 'players.csv')\n",
        "rosters = pd.read_pickle(TRAIN_DIR / 'rosters_train.pkl')\n",
        "targets = pd.read_pickle(TRAIN_DIR / 'nextDayPlayerEngagement_train.pkl')\n",
        "scores = pd.read_pickle(TRAIN_DIR / 'playerBoxScores_train.pkl')\n",
        "scores = scores.groupby(['playerId', 'date']).sum().reset_index()"
      ],
      "execution_count": 7,
      "outputs": []
    },
    {
      "cell_type": "code",
      "metadata": {
        "id": "fqM-dvUIuk3Q"
      },
      "source": [
        "playerFollowers = pd.read_pickle(TRAIN_DIR/'playerTwitterFollowers_train.pkl').drop(['index'], axis=1)\n",
        "playerFollowers = playerFollowers[playerFollowers['date'] != 20210401]\n",
        "teamFollowers = pd.read_pickle(TRAIN_DIR/'teamTwitterFollowers_train.pkl').drop(['index'], axis=1)\n",
        "teamFollowers = teamFollowers[teamFollowers['date'] != 20210401]"
      ],
      "execution_count": 8,
      "outputs": []
    },
    {
      "cell_type": "code",
      "metadata": {
        "id": "SWaOk6huzpXR"
      },
      "source": [
        "seasons = pd.read_csv(BASE_DIR / 'seasons.csv')\n",
        "for col in seasons.columns:\n",
        "    if col == 'seasonId':\n",
        "        continue\n",
        "    seasons[col] = pd.to_datetime(seasons[col])"
      ],
      "execution_count": 9,
      "outputs": []
    },
    {
      "cell_type": "code",
      "metadata": {
        "id": "lC9XB2Bj7C8H"
      },
      "source": [
        "# creat dataset\n",
        "train = targets[targets_cols].merge(players[players_cols], on=['playerId'], how='left')\n",
        "train = train.merge(rosters[rosters_cols], on=['playerId', 'date'], how='left')\n",
        "train = train.merge(scores[scores_cols], on=['playerId', 'date'], how='left')\n",
        "\n",
        "train['_date'] = pd.to_datetime(train['date'].astype(str))\n",
        "train['year'] = train['_date'].dt.year\n",
        "train['month'] = train['_date'].dt.month\n",
        "train['day'] = train['_date'].dt.day\n",
        "train['dayofweek'] = train['_date'].dt.dayofweek\n",
        "\n",
        "# add followers\n",
        "train['_date_ym'] = train['date'] // 100\n",
        "playerFollowers['_date_ym'] = playerFollowers['date'] // 100\n",
        "playerFollowers['playerFollowers'] = playerFollowers['numberOfFollowers']\n",
        "train = train.merge(playerFollowers[['playerId', '_date_ym', 'playerFollowers']], on=['playerId', '_date_ym'], how='left')\n",
        "playerFollowers.drop(['_date_ym', 'playerFollowers'], axis=1, inplace=True)\n",
        "\n",
        "teamFollowers['_date_ym'] = teamFollowers['date'] // 100\n",
        "teamFollowers['teamFollowers'] = teamFollowers['numberOfFollowers']\n",
        "train = train.merge(teamFollowers[['teamId', '_date_ym', 'teamFollowers']], on=['teamId', '_date_ym'], how='left')\n",
        "teamFollowers.drop(['_date_ym', 'teamFollowers'], axis=1, inplace=True)\n",
        "train.drop('_date_ym', axis=1, inplace=True)\n",
        "\n",
        "# label encoding\n",
        "player2num = {c: i for i, c in enumerate(train['playerId'].unique())}\n",
        "position2num = {c: i for i, c in enumerate(train['primaryPositionName'].unique())}\n",
        "teamid2num = {c: i for i, c in enumerate(train['teamId'].unique())}\n",
        "status2num = {c: i for i, c in enumerate(train['status'].unique())}\n",
        "train['label_playerId'] = train['playerId'].map(player2num)\n",
        "train['label_primaryPositionName'] = train['primaryPositionName'].map(position2num)\n",
        "train['label_teamId'] = train['teamId'].map(teamid2num)\n",
        "train['label_status'] = train['status'].map(status2num)\n",
        "\n",
        "# add season\n",
        "train['preSeason'] = False\n",
        "train['regularSeason'] = False\n",
        "train['1stHalf'] = False\n",
        "train['2ndHalf'] = False\n",
        "train['allStar'] = False\n",
        "train['postSeason'] = False\n",
        "for _, row in seasons.iterrows():\n",
        "    train['preSeason'] = train['preSeason'] | ((row['preSeasonStartDate'] <=  train['_date']) & (train['_date'] <= row['preSeasonEndDate']))\n",
        "    train['regularSeason'] = train['regularSeason'] | ((row['regularSeasonStartDate'] <=  train['_date']) & (train['_date'] <= row['regularSeasonEndDate']))\n",
        "    train['1stHalf'] = train['1stHalf'] | ((row['regularSeasonStartDate'] <=  train['_date']) & (train['_date'] <= row['lastDate1stHalf']))\n",
        "    train['2ndHalf'] = train['2ndHalf'] | ((row['firstDate2ndHalf'] <=  train['_date']) & (train['_date'] <= row['regularSeasonEndDate']))\n",
        "    train['allStar'] = train['allStar'] | (row['allStarDate'] ==  train['_date'])\n",
        "    train['postSeason'] = train['postSeason'] | ((row['postSeasonStartDate'] <=  train['_date']) & (train['_date'] <= row['postSeasonEndDate']))\n",
        "\n",
        "# feature engineering\n",
        "train['DOB'] = pd.to_datetime(train['DOB'])\n",
        "train['isBirthday'] = train['date'] % 1000 == train['DOB'].dt.month * 100 + train['DOB'].dt.day\n",
        "\n",
        "# train.drop('_date', axis=1, inplace=True)"
      ],
      "execution_count": 10,
      "outputs": []
    },
    {
      "cell_type": "code",
      "metadata": {
        "id": "KhFQ95Pf7C8H"
      },
      "source": [
        "train_X = train[feature_cols]\n",
        "train_y = train[['target1', 'target2', 'target3', 'target4']]\n",
        "\n",
        "# _index = (train['date'] < 20210301)\n",
        "x_train = train_X.loc[train['date'] < 20210301].reset_index(drop=True)\n",
        "y_train = train_y.loc[train['date'] < 20210301].reset_index(drop=True)\n",
        "x_valid = train_X.loc[(train['date'] >= 20210301) & (train['date'] < 20210401)].reset_index(drop=True)\n",
        "y_valid = train_y.loc[(train['date'] >= 20210301) & (train['date'] < 20210401)].reset_index(drop=True)\n"
      ],
      "execution_count": 11,
      "outputs": []
    },
    {
      "cell_type": "code",
      "metadata": {
        "colab": {
          "base_uri": "https://localhost:8080/"
        },
        "id": "e42hLsBA1IKj",
        "outputId": "d7261f1d-0a4e-4186-8b95-4b052253f106"
      },
      "source": [
        "gc.collect()"
      ],
      "execution_count": 12,
      "outputs": [
        {
          "output_type": "execute_result",
          "data": {
            "text/plain": [
              "176"
            ]
          },
          "metadata": {
            "tags": []
          },
          "execution_count": 12
        }
      ]
    },
    {
      "cell_type": "code",
      "metadata": {
        "colab": {
          "base_uri": "https://localhost:8080/"
        },
        "id": "eRsqxwgd7C8I",
        "outputId": "9321ccf9-0ba8-4ecb-817e-c2b5448538cf"
      },
      "source": [
        "%%time\n",
        "def fit_lgbm(x_train, y_train, x_valid, y_valid, params: dict=None, verbose=100):\n",
        "    oof_pred = np.zeros(len(y_valid), dtype=np.float32)\n",
        "    model = lgbm.LGBMRegressor(**params)\n",
        "    model.fit(x_train, y_train, \n",
        "        eval_set=[(x_valid, y_valid)],  \n",
        "        early_stopping_rounds=verbose, \n",
        "        verbose=verbose)\n",
        "    oof_pred = model.predict(x_valid)\n",
        "    score = mean_absolute_error(oof_pred, y_valid)\n",
        "    print('mae:', score)\n",
        "    return oof_pred, model, score\n",
        "\n",
        "\n",
        "# training lightgbm\n",
        "params = {\n",
        " 'objective':'mae',\n",
        " 'reg_alpha': 0.1,\n",
        " 'reg_lambda': 0.1, \n",
        " 'n_estimators': 100000,\n",
        " 'learning_rate': 0.1,\n",
        " 'random_state': 42,\n",
        "#  'device': 'gpu',\n",
        "}\n",
        "\n",
        "oof1, model1, score1 = fit_lgbm(\n",
        "    x_train, y_train['target1'],\n",
        "    x_valid, y_valid['target1'],\n",
        "    params\n",
        ")\n",
        "oof2, model2, score2 = fit_lgbm(\n",
        "    x_train, y_train['target2'],\n",
        "    x_valid, y_valid['target2'],\n",
        "    params\n",
        ")\n",
        "oof3, model3, score3 = fit_lgbm(\n",
        "    x_train, y_train['target3'],\n",
        "    x_valid, y_valid['target3'],\n",
        "    params\n",
        ")\n",
        "oof4, model4, score4 = fit_lgbm(\n",
        "    x_train, y_train['target4'],\n",
        "    x_valid, y_valid['target4'],\n",
        "    params\n",
        ")\n",
        "\n",
        "score = (score1+score2+score3+score4) / 4\n",
        "print(f'score: {score}')"
      ],
      "execution_count": 13,
      "outputs": [
        {
          "output_type": "stream",
          "text": [
            "Training until validation scores don't improve for 100 rounds.\n",
            "[100]\tvalid_0's l1: 0.932694\n",
            "Early stopping, best iteration is:\n",
            "[83]\tvalid_0's l1: 0.932694\n",
            "mae: 0.9326941597339533\n",
            "Training until validation scores don't improve for 100 rounds.\n",
            "[100]\tvalid_0's l1: 2.87602\n",
            "Early stopping, best iteration is:\n",
            "[30]\tvalid_0's l1: 2.78844\n",
            "mae: 2.78844053747649\n",
            "Training until validation scores don't improve for 100 rounds.\n",
            "[100]\tvalid_0's l1: 0.967044\n",
            "Early stopping, best iteration is:\n",
            "[96]\tvalid_0's l1: 0.967027\n",
            "mae: 0.9670269661633346\n",
            "Training until validation scores don't improve for 100 rounds.\n",
            "[100]\tvalid_0's l1: 1.76343\n",
            "[200]\tvalid_0's l1: 1.67306\n",
            "[300]\tvalid_0's l1: 1.65672\n",
            "[400]\tvalid_0's l1: 1.63304\n",
            "[500]\tvalid_0's l1: 1.62335\n",
            "[600]\tvalid_0's l1: 1.6049\n",
            "[700]\tvalid_0's l1: 1.58873\n",
            "[800]\tvalid_0's l1: 1.58047\n",
            "[900]\tvalid_0's l1: 1.57441\n",
            "[1000]\tvalid_0's l1: 1.5654\n",
            "[1100]\tvalid_0's l1: 1.55809\n",
            "[1200]\tvalid_0's l1: 1.54772\n",
            "[1300]\tvalid_0's l1: 1.54513\n",
            "[1400]\tvalid_0's l1: 1.53841\n",
            "[1500]\tvalid_0's l1: 1.53201\n",
            "[1600]\tvalid_0's l1: 1.52891\n",
            "[1700]\tvalid_0's l1: 1.52315\n",
            "[1800]\tvalid_0's l1: 1.52174\n",
            "Early stopping, best iteration is:\n",
            "[1787]\tvalid_0's l1: 1.52098\n",
            "mae: 1.520984690960055\n",
            "score: 1.5522865885834582\n",
            "CPU times: user 1h 7s, sys: 23.5 s, total: 1h 31s\n",
            "Wall time: 16min 52s\n"
          ],
          "name": "stdout"
        }
      ]
    },
    {
      "cell_type": "code",
      "metadata": {
        "id": "Hs6QdeJ_NvUE"
      },
      "source": [
        ""
      ],
      "execution_count": 13,
      "outputs": []
    },
    {
      "cell_type": "code",
      "metadata": {
        "id": "wflA0r6L7C8L"
      },
      "source": [
        "class TestDataset(object):\n",
        "  def __init__(self, batch_size=5):\n",
        "    self.current = 0\n",
        "    self.batch_size = batch_size\n",
        "    _df = pd.read_csv(BASE_DIR/ 'train.csv')\n",
        "    self.df_test = _df[_df['date'] >= 20210401]\n",
        "\n",
        "  def __iter__(self):\n",
        "    return self\n",
        "\n",
        "  def __next__(self):\n",
        "    start = self.current * self.batch_size\n",
        "    end = (self.current + 1) * self.batch_size\n",
        "    self.current += 1\n",
        "\n",
        "    if start >= self.df_test.shape[0]:\n",
        "      raise StopIteration()\n",
        "\n",
        "    # df_example_test\n",
        "    df_example_test = self.df_test[start:end].drop('nextDayPlayerEngagement', axis=1)\n",
        "    df_example_test.set_index('date', inplace=True)\n",
        "\n",
        "    # df_example_sample_submission\n",
        "    df_example_sample_submission = pd.DataFrame()\n",
        "    for index, row in self.df_test[start:end].iterrows():\n",
        "        _date = row.date\n",
        "        _nextDayPlayerEngagement = pd.DataFrame(eval(row.nextDayPlayerEngagement))\n",
        "        _nextDayPlayerEngagement['date'] = _date\n",
        "        df_example_sample_submission = pd.concat([df_example_sample_submission, _nextDayPlayerEngagement], axis=0)\n",
        "    df_example_sample_submission['date_playerId'] = df_example_sample_submission['engagementMetricsDate'].str.replace('-', '') + '_' + df_example_sample_submission['playerId'].astype(str)\n",
        "    df_example_sample_submission.drop(['engagementMetricsDate', 'playerId'], axis=1, inplace=True)\n",
        "    df_example_sample_submission.target1 = 0.0\n",
        "    df_example_sample_submission.target2 = 0.0\n",
        "    df_example_sample_submission.target3 = 0.0\n",
        "    df_example_sample_submission.target4 = 0.0\n",
        "    df_example_sample_submission.set_index('date', inplace=True)\n",
        "    df_example_sample_submission = df_example_sample_submission[['date_playerId','target1','target2','target3','target4']]\n",
        "    \n",
        "    return df_example_test, df_example_sample_submission\n",
        "\n"
      ],
      "execution_count": 14,
      "outputs": []
    },
    {
      "cell_type": "code",
      "metadata": {
        "id": "Le0IqZ5AZGVk"
      },
      "source": [
        "if 'kaggle_secrets' in sys.modules:  # only run while on Kaggle\n",
        "    import mlb\n",
        "    env = mlb.make_env() # initialize the environment\n",
        "    iter_test = env.iter_test() # iterator which loops over each date in test set\n",
        "else:\n",
        "    iter_test = TestDataset()"
      ],
      "execution_count": 15,
      "outputs": []
    },
    {
      "cell_type": "code",
      "metadata": {
        "id": "DXLVzOVl7C8J"
      },
      "source": [
        "players_cols = ['playerId', 'primaryPositionName', 'DOB']\n",
        "rosters_cols = ['playerId', 'teamId', 'status']\n",
        "scores_cols = ['playerId', 'battingOrder', 'gamesPlayedBatting', 'flyOuts',\n",
        "       'groundOuts', 'runsScored', 'doubles', 'triples', 'homeRuns',\n",
        "       'strikeOuts', 'baseOnBalls', 'intentionalWalks', 'hits', 'hitByPitch',\n",
        "       'atBats', 'caughtStealing', 'stolenBases', 'groundIntoDoublePlay',\n",
        "       'groundIntoTriplePlay', 'plateAppearances', 'totalBases', 'rbi',\n",
        "       'leftOnBase', 'sacBunts', 'sacFlies', 'catchersInterference',\n",
        "       'pickoffs', 'gamesPlayedPitching', 'gamesStartedPitching',\n",
        "       'completeGamesPitching', 'shutoutsPitching', 'winsPitching',\n",
        "       'lossesPitching', 'flyOutsPitching', 'airOutsPitching',\n",
        "       'groundOutsPitching', 'runsPitching', 'doublesPitching',\n",
        "       'triplesPitching', 'homeRunsPitching', 'strikeOutsPitching',\n",
        "       'baseOnBallsPitching', 'intentionalWalksPitching', 'hitsPitching',\n",
        "       'hitByPitchPitching', 'atBatsPitching', 'caughtStealingPitching',\n",
        "       'stolenBasesPitching', 'inningsPitched', 'saveOpportunities',\n",
        "       'earnedRuns', 'battersFaced', 'outsPitching', 'pitchesThrown', 'balls',\n",
        "       'strikes', 'hitBatsmen', 'balks', 'wildPitches', 'pickoffsPitching',\n",
        "       'rbiPitching', 'gamesFinishedPitching', 'inheritedRunners',\n",
        "       'inheritedRunnersScored', 'catchersInterferencePitching',\n",
        "       'sacBuntsPitching', 'sacFliesPitching', 'saves', 'holds', 'blownSaves',\n",
        "       'assists', 'putOuts', 'errors', 'chances']\n",
        "\n",
        "null = np.nan\n",
        "true = True\n",
        "false = False\n",
        "\n",
        "for (test_df, sample_prediction_df) in iter_test: # make predictions here\n",
        "    \n",
        "    sample_prediction_df = sample_prediction_df.reset_index(drop=True)\n",
        "    \n",
        "    # creat dataset\n",
        "    sample_prediction_df['date'] = sample_prediction_df['date_playerId']\\\n",
        "                                        .map(lambda x: int(x.split('_')[0]))\n",
        "    sample_prediction_df['playerId'] = sample_prediction_df['date_playerId']\\\n",
        "                                        .map(lambda x: int(x.split('_')[1]))\n",
        "\n",
        "    # Dealing with missing values\n",
        "    if test_df['rosters'].iloc[0] == test_df['rosters'].iloc[0]:\n",
        "        test_rosters = pd.DataFrame(eval(test_df['rosters'].iloc[0]))\n",
        "    else:\n",
        "        test_rosters = pd.DataFrame({'playerId': sample_prediction_df['playerId']})\n",
        "        for col in rosters.columns:\n",
        "            if col == 'playerId': continue\n",
        "            test_rosters[col] = np.nan\n",
        "            \n",
        "    if test_df['playerBoxScores'].iloc[0] == test_df['playerBoxScores'].iloc[0]:\n",
        "        test_scores = pd.DataFrame(eval(test_df['playerBoxScores'].iloc[0]))\n",
        "    else:\n",
        "        test_scores = pd.DataFrame({'playerId': sample_prediction_df['playerId']})\n",
        "        for col in scores.columns:\n",
        "            if col == 'playerId': continue\n",
        "            test_scores[col] = np.nan\n",
        "    test_scores = test_scores.groupby('playerId').sum().reset_index()\n",
        "    test = sample_prediction_df[['playerId', 'date']].copy()\n",
        "    test = test.merge(players[players_cols], on='playerId', how='left')\n",
        "    test = test.merge(test_rosters[rosters_cols], on='playerId', how='left')\n",
        "    test = test.merge(test_scores[scores_cols], on='playerId', how='left')\n",
        "\n",
        "    test['label_playerId'] = test['playerId'].map(player2num)\n",
        "    test['label_primaryPositionName'] = test['primaryPositionName'].map(position2num)\n",
        "    test['label_teamId'] = test['teamId'].map(teamid2num)\n",
        "    test['label_status'] = test['status'].map(status2num)\n",
        "\n",
        "    # Update playerFollowers, teamFollowers\n",
        "    for index, row in test_df.iterrows():\n",
        "        if row.playerTwitterFollowers == row.playerTwitterFollowers:\n",
        "            _df = pd.DataFrame(eval(row.playerTwitterFollowers)).copy()\n",
        "            _df['date'] = pd.to_datetime(_df['date'])\n",
        "            _df['date'] = _df['date'].map(lambda x: x.year*10000+ x.month * 100 + x.day)\n",
        "            playerFollowers = pd.concat([playerFollowers, _df],axis=0)\n",
        "            playerFollowers.reset_index(drop=True)\n",
        "            del _df\n",
        "\n",
        "        if row.teamTwitterFollowers == row.teamTwitterFollowers:\n",
        "            _df = pd.DataFrame(eval(row.teamTwitterFollowers)).copy()\n",
        "            _df['date'] = pd.to_datetime(_df['date'])\n",
        "            _df['date'] = _df['date'].map(lambda x: x.year*10000+ x.month * 100 + x.day)\n",
        "            teamFollowers = pd.concat([teamFollowers, _df],axis=0)\n",
        "            teamFollowers.reset_index(drop=True)\n",
        "            del _df\n",
        "\n",
        "    test['_date'] = pd.to_datetime(test['date'].astype(str))\n",
        "    test['year'] = test['_date'].dt.year\n",
        "    test['month'] = test['_date'].dt.month\n",
        "    test['day'] = test['_date'].dt.day\n",
        "    test['dayofweek'] = test['_date'].dt.dayofweek\n",
        "\n",
        "    # add folowers\n",
        "    test['date_ym'] = test['date'] // 100\n",
        "    playerFollowers['date_ym'] = playerFollowers['date'] // 100\n",
        "    playerFollowers['playerFollowers'] = playerFollowers['numberOfFollowers']\n",
        "    test = test.merge(playerFollowers[['playerId', 'date_ym', 'playerFollowers']], on=['playerId', 'date_ym'], how='left')\n",
        "    playerFollowers.drop(['date_ym', 'playerFollowers'], axis=1, inplace=True)\n",
        "\n",
        "    teamFollowers['date_ym'] = teamFollowers['date'] // 100\n",
        "    teamFollowers['teamFollowers'] = teamFollowers['numberOfFollowers']\n",
        "    test = test.merge(teamFollowers[['teamId', 'date_ym', 'teamFollowers']], on=['teamId', 'date_ym'], how='left')\n",
        "    teamFollowers.drop(['date_ym', 'teamFollowers'], axis=1, inplace=True)\n",
        "\n",
        "    # add season\n",
        "    test['preSeason'] = False\n",
        "    test['regularSeason'] = False\n",
        "    test['1stHalf'] = False\n",
        "    test['2ndHalf'] = False\n",
        "    test['allStar'] = False\n",
        "    test['postSeason'] = False\n",
        "    for _, row in seasons.iterrows():\n",
        "        test['preSeason'] = test['preSeason'] | ((row['preSeasonStartDate'] <=  test['_date']) & (test['_date'] <= row['preSeasonEndDate']))\n",
        "        test['regularSeason'] = test['regularSeason'] | ((row['regularSeasonStartDate'] <=  test['_date']) & (test['_date'] <= row['regularSeasonEndDate']))\n",
        "        test['1stHalf'] = test['1stHalf'] | ((row['regularSeasonStartDate'] <=  test['_date']) & (test['_date'] <= row['lastDate1stHalf']))\n",
        "        test['2ndHalf'] = test['2ndHalf'] | ((row['firstDate2ndHalf'] <=  test['_date']) & (test['_date'] <= row['regularSeasonEndDate']))\n",
        "        test['allStar'] = test['allStar'] | (row['allStarDate'] ==  test['_date'])\n",
        "        test['postSeason'] = test['postSeason'] | ((row['postSeasonStartDate'] <=  test['_date']) & (test['_date'] <= row['postSeasonEndDate']))\n",
        "\n",
        "    # drop _date\n",
        "    test.drop('_date', axis=1, inplace=True)\n",
        "\n",
        "    # feature engineering\n",
        "    test['DOB'] = pd.to_datetime(test['DOB'])\n",
        "    test['isBirthday'] = test['date'] % 1000 == test['DOB'].dt.month * 100 + test['DOB'].dt.day\n",
        "    \n",
        "    test_X = test[feature_cols]\n",
        "    \n",
        "    # predict\n",
        "    pred1 = model1.predict(test_X)\n",
        "    pred2 = model2.predict(test_X)\n",
        "    pred3 = model3.predict(test_X)\n",
        "    pred4 = model4.predict(test_X)\n",
        "    \n",
        "    # merge submission\n",
        "    sample_prediction_df['target1'] = np.clip(pred1, 0, 100)\n",
        "    sample_prediction_df['target2'] = np.clip(pred2, 0, 100)\n",
        "    sample_prediction_df['target3'] = np.clip(pred3, 0, 100)\n",
        "    sample_prediction_df['target4'] = np.clip(pred4, 0, 100)\n",
        "    sample_prediction_df = sample_prediction_df.fillna(0.)\n",
        "    sample_prediction_df.drop(['playerId', 'date'], axis=1, inplace=True)\n",
        "    \n",
        "    if 'kaggle_secrets' in sys.modules:\n",
        "        env.predict(sample_prediction_df)"
      ],
      "execution_count": 18,
      "outputs": []
    },
    {
      "cell_type": "code",
      "metadata": {
        "colab": {
          "base_uri": "https://localhost:8080/",
          "height": 1000
        },
        "id": "e2rCeDT19ttL",
        "outputId": "571c9723-93f2-41ad-e03a-51486595e193"
      },
      "source": [
        "%matplotlib inline\n",
        "import matplotlib.pyplot as plt\n",
        "import seaborn as sns\n",
        "models = [model1, model2, model3, model4]\n",
        "\n",
        "fig, axes = plt.subplots(2, 2, figsize=(20,20))\n",
        "plt.subplots_adjust(wspace=0.4)\n",
        "for i, model in enumerate(models):\n",
        "    data = pd.DataFrame({'importance': model.feature_importances_, 'feature': feature_cols}).sort_values('importance', ascending = False)[0:30]\n",
        "\n",
        "    ax = axes[ i // 2, i % 2]\n",
        "    ax.yaxis.label.set_visible(False)\n",
        "    ax.set_title('target' + str(i+1))\n",
        "    \n",
        "    sns.barplot(x='importance', y='feature', data=data, ax=ax)"
      ],
      "execution_count": 19,
      "outputs": [
        {
          "output_type": "display_data",
          "data": {
            "image/png": "[encoded data removed]",
            "text/plain": [
              "<Figure size 1440x1440 with 4 Axes>"
            ]
          },
          "metadata": {
            "tags": [],
            "needs_background": "light"
          }
        }
      ]
    },
    {
      "cell_type": "code",
      "metadata": {
        "id": "qryTNCrvBid5"
      },
      "source": [
        ""
      ],
      "execution_count": null,
      "outputs": []
    }
  ]
}