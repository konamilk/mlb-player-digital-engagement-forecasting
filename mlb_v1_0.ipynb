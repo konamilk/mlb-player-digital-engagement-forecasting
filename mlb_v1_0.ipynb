{
  "nbformat": 4,
  "nbformat_minor": 0,
  "metadata": {
    "kernelspec": {
      "language": "python",
      "display_name": "Python 3",
      "name": "python3"
    },
    "language_info": {
      "name": "python",
      "version": "3.7.10",
      "mimetype": "text/x-python",
      "codemirror_mode": {
        "name": "ipython",
        "version": 3
      },
      "pygments_lexer": "ipython3",
      "nbconvert_exporter": "python",
      "file_extension": ".py"
    },
    "colab": {
      "name": "mlb-v1-0.ipynb",
      "provenance": [],
      "include_colab_link": true
    }
  },
  "cells": [
    {
      "cell_type": "markdown",
      "metadata": {
        "id": "view-in-github",
        "colab_type": "text"
      },
      "source": [
        "<a href=\"https://colab.research.google.com/github/konamilk/mlb-player-digital-engagement-forecasting/blob/main/mlb_v1_0.ipynb\" target=\"_parent\"><img src=\"https://colab.research.google.com/assets/colab-badge.svg\" alt=\"Open In Colab\"/></a>"
      ]
    },
    {
      "cell_type": "code",
      "metadata": {
        "id": "QtjMBhxrr7X8",
        "execution": {
          "iopub.status.busy": "2021-06-16T07:41:59.625291Z",
          "iopub.execute_input": "2021-06-16T07:41:59.625569Z",
          "iopub.status.idle": "2021-06-16T07:41:59.635085Z",
          "shell.execute_reply.started": "2021-06-16T07:41:59.62554Z",
          "shell.execute_reply": "2021-06-16T07:41:59.634453Z"
        },
        "trusted": true
      },
      "source": [
        "import sys\n",
        "from pathlib import Path\n",
        "if 'google.colab' in sys.modules:\n",
        "    INPUT = Path('/content/input/')\n",
        "elif 'kaggle_web_client' in sys.modules:\n",
        "    INPUT = Path('../input/mlb-player-digital-engagement-forecasting')"
      ],
      "execution_count": 2,
      "outputs": []
    },
    {
      "cell_type": "code",
      "metadata": {
        "id": "t0JWJatJshsx",
        "execution": {
          "iopub.status.busy": "2021-06-16T07:41:59.636484Z",
          "iopub.execute_input": "2021-06-16T07:41:59.636881Z",
          "iopub.status.idle": "2021-06-16T07:41:59.644664Z",
          "shell.execute_reply.started": "2021-06-16T07:41:59.636855Z",
          "shell.execute_reply": "2021-06-16T07:41:59.644019Z"
        },
        "trusted": true,
        "colab": {
          "base_uri": "https://localhost:8080/"
        },
        "outputId": "6e34d135-03e2-47b4-ce9b-5bb20584ce1e"
      },
      "source": [
        "if 'google.colab' in sys.modules:\n",
        "  !mkdir ~/.kaggle\n",
        "  !cp /content/drive/MyDrive/.kaggle/kaggle.json ~/.kaggle\n",
        "  !chmod 600 ~/.kaggle/kaggle.json\n",
        "  !pip install kaggle > /dev/null"
      ],
      "execution_count": 3,
      "outputs": [
        {
          "output_type": "stream",
          "text": [
            "mkdir: cannot create directory ‘/root/.kaggle’: File exists\n"
          ],
          "name": "stdout"
        }
      ]
    },
    {
      "cell_type": "code",
      "metadata": {
        "id": "RwV5_ro8tNS3",
        "execution": {
          "iopub.status.busy": "2021-06-16T07:41:59.645802Z",
          "iopub.execute_input": "2021-06-16T07:41:59.646207Z",
          "iopub.status.idle": "2021-06-16T07:42:26.77958Z",
          "shell.execute_reply.started": "2021-06-16T07:41:59.64618Z",
          "shell.execute_reply": "2021-06-16T07:42:26.778175Z"
        },
        "trusted": true,
        "colab": {
          "base_uri": "https://localhost:8080/"
        },
        "outputId": "25e41597-0155-44d8-a63f-df338a335713"
      },
      "source": [
        "if 'google.colab' in sys.modules:\n",
        "    !pip install git+https://github.com/pfnet-research/xfeat.git > /dev/null\n",
        "else:\n",
        "    !pip install ../input/xfeatwhl/xfeat-0.1.1-py3-none-any.whl > /dev/null"
      ],
      "execution_count": 4,
      "outputs": [
        {
          "output_type": "stream",
          "text": [
            "  Running command git clone -q https://github.com/pfnet-research/xfeat.git /tmp/pip-req-build-2yka4ci0\n"
          ],
          "name": "stdout"
        }
      ]
    },
    {
      "cell_type": "code",
      "metadata": {
        "id": "l02aDXrawzZw",
        "execution": {
          "iopub.status.busy": "2021-06-16T07:42:26.781242Z",
          "iopub.execute_input": "2021-06-16T07:42:26.781628Z",
          "iopub.status.idle": "2021-06-16T07:42:26.792115Z",
          "shell.execute_reply.started": "2021-06-16T07:42:26.78158Z",
          "shell.execute_reply": "2021-06-16T07:42:26.791226Z"
        },
        "trusted": true,
        "colab": {
          "base_uri": "https://localhost:8080/"
        },
        "outputId": "e393e581-591e-42f7-cf03-18cb79e2feff"
      },
      "source": [
        "if 'google.colab' in sys.modules:\n",
        "  !kaggle competitions download -c mlb-player-digital-engagement-forecasting > /dev/null\n",
        "  !mkdir input\n",
        "  !unzip -o '*.zip' -d ./input/\n",
        "  !rm *.zip\n",
        "  !mv *.csv ./input/"
      ],
      "execution_count": 5,
      "outputs": [
        {
          "output_type": "stream",
          "text": [
            "100% 3.68k/3.68k [00:00<00:00, 1.82MB/s]\n",
            "100% 173k/173k [00:00<00:00, 42.6MB/s]\n",
            "100% 470M/470M [00:03<00:00, 141MB/s]\n",
            "100% 820k/820k [00:00<00:00, 112MB/s]\n",
            "100% 824/824 [00:00<00:00, 2.63MB/s]\n",
            "100% 3.96M/3.96M [00:00<00:00, 130MB/s]\n",
            "100% 191k/191k [00:00<00:00, 178MB/s]\n",
            "mkdir: cannot create directory ‘input’: File exists\n",
            "Archive:  train.csv.zip\n",
            "  inflating: ./input/train.csv       \n",
            "\n",
            "Archive:  example_test.csv.zip\n",
            "  inflating: ./input/example_test.csv  \n",
            "\n",
            "2 archives were successfully processed.\n"
          ],
          "name": "stdout"
        }
      ]
    },
    {
      "cell_type": "code",
      "metadata": {
        "id": "FSURoFztw90s",
        "execution": {
          "iopub.status.busy": "2021-06-16T07:42:26.793416Z",
          "iopub.execute_input": "2021-06-16T07:42:26.793853Z",
          "iopub.status.idle": "2021-06-16T07:42:28.42904Z",
          "shell.execute_reply.started": "2021-06-16T07:42:26.793813Z",
          "shell.execute_reply": "2021-06-16T07:42:28.428081Z"
        },
        "trusted": true
      },
      "source": [
        "import numpy as np\n",
        "import pandas as pd\n",
        "import gc\n",
        "%matplotlib inline\n",
        "import matplotlib.pyplot as plt\n",
        "import seaborn as sns\n",
        "import torch\n",
        "import torch.nn as nn\n",
        "import torch.functional as F\n",
        "from torch.utils import data"
      ],
      "execution_count": 6,
      "outputs": []
    },
    {
      "cell_type": "code",
      "metadata": {
        "id": "O6Sk6gVO7JkG",
        "execution": {
          "iopub.status.busy": "2021-06-16T07:42:28.429985Z",
          "iopub.execute_input": "2021-06-16T07:42:28.430341Z",
          "iopub.status.idle": "2021-06-16T07:42:28.434023Z",
          "shell.execute_reply.started": "2021-06-16T07:42:28.430314Z",
          "shell.execute_reply": "2021-06-16T07:42:28.433351Z"
        },
        "trusted": true
      },
      "source": [
        "TRAIN = INPUT/'train.csv'\n",
        "TEAMS = INPUT/'awards.csv'\n",
        "PLAYERS = INPUT/'players.csv'\n",
        "AWARDS = INPUT/'awards.csv'\n",
        "SEASONS = INPUT/'seasons.csv'"
      ],
      "execution_count": 7,
      "outputs": []
    },
    {
      "cell_type": "code",
      "metadata": {
        "id": "dh1fdI--UN4X",
        "execution": {
          "iopub.status.busy": "2021-06-16T07:42:28.435022Z",
          "iopub.execute_input": "2021-06-16T07:42:28.435492Z",
          "iopub.status.idle": "2021-06-16T07:43:42.523394Z",
          "shell.execute_reply.started": "2021-06-16T07:42:28.435466Z",
          "shell.execute_reply": "2021-06-16T07:43:42.521823Z"
        },
        "trusted": true
      },
      "source": [
        "df = pd.read_csv(TRAIN)"
      ],
      "execution_count": 8,
      "outputs": []
    },
    {
      "cell_type": "code",
      "metadata": {
        "id": "61DsO9JyHKoI",
        "execution": {
          "iopub.status.busy": "2021-06-16T07:43:42.526821Z",
          "iopub.execute_input": "2021-06-16T07:43:42.527276Z",
          "iopub.status.idle": "2021-06-16T07:43:42.533329Z",
          "shell.execute_reply.started": "2021-06-16T07:43:42.527231Z",
          "shell.execute_reply": "2021-06-16T07:43:42.532303Z"
        },
        "trusted": true
      },
      "source": [
        "def unpack_json(json_str):\n",
        "    return np.nan if pd.isna(json_str) else pd.read_json(json_str)"
      ],
      "execution_count": 9,
      "outputs": []
    },
    {
      "cell_type": "code",
      "metadata": {
        "id": "AOOU2R0YfZRv",
        "execution": {
          "iopub.status.busy": "2021-06-16T07:43:42.535072Z",
          "iopub.execute_input": "2021-06-16T07:43:42.535387Z",
          "iopub.status.idle": "2021-06-16T07:43:42.544957Z",
          "shell.execute_reply.started": "2021-06-16T07:43:42.535358Z",
          "shell.execute_reply": "2021-06-16T07:43:42.54415Z"
        },
        "trusted": true
      },
      "source": [
        "import datetime\n",
        "def next_date_as_int(date_as_int: int):\n",
        "  dd = date_as_int % 100\n",
        "  date_as_int = date_as_int // 100\n",
        "  mm = date_as_int % 100\n",
        "  yyyy = date_as_int // 100\n",
        "  dt = datetime.datetime(yyyy, mm, dd)\n",
        "  next_dt = dt + datetime.timedelta(days=1)\n",
        "  return next_dt.year * 10000 + next_dt.month * 100 + next_dt.day\n",
        "\n",
        "\n",
        "def int_date(dt: datetime):\n",
        "  return dt.year * 10000 + dt.month * 100 + dt.day"
      ],
      "execution_count": 10,
      "outputs": []
    },
    {
      "cell_type": "code",
      "metadata": {
        "id": "cZVO14_0-jIm"
      },
      "source": [
        ""
      ],
      "execution_count": 10,
      "outputs": []
    },
    {
      "cell_type": "code",
      "metadata": {
        "id": "E_7aEDMgva7c",
        "execution": {
          "iopub.status.busy": "2021-06-16T07:43:42.546131Z",
          "iopub.execute_input": "2021-06-16T07:43:42.546577Z",
          "iopub.status.idle": "2021-06-16T07:43:42.559189Z",
          "shell.execute_reply.started": "2021-06-16T07:43:42.546531Z",
          "shell.execute_reply": "2021-06-16T07:43:42.558208Z"
        },
        "trusted": true
      },
      "source": [
        "class TrainDataset(object):\n",
        "  def __init__(self, df_train, batch_size=5):\n",
        "    self.df_train = df_train\n",
        "    self.current = 0\n",
        "    self.batch_size = batch_size\n",
        "    df_player = pd.read_csv(PLAYERS)\n",
        "    df_player[df_player['playerForTestSetAndFuturePreds'] == True]\n",
        "    self.playerId =  df_player['playerId']\n",
        "  \n",
        "  def __iter__(self):\n",
        "    return self\n",
        "\n",
        "  def __next__(self):\n",
        "    start = self.current * self.batch_size\n",
        "    end = (self.current + 1) * self.batch_size\n",
        "    self.current += 1\n",
        "\n",
        "    if start >= self.df_train.shape[0]:\n",
        "      raise StopIteration()\n",
        "    \n",
        "    dates = self.df_train[start:end].date.unique()\n",
        "\n",
        "    temps = []\n",
        "    for date in dates:\n",
        "      df_temp = pd.DataFrame(self.playerId)\n",
        "      df_temp['date'] = date\n",
        "      df_temp['date_playerId'] = str(next_date_as_int(date)) + '_' + df_temp['playerId'].astype(str)\n",
        "      df_temp['target1'] = 0.0\n",
        "      df_temp['target2'] = 0.0\n",
        "      df_temp['target3'] = 0.0\n",
        "      df_temp['target4'] = 0.0\n",
        "      df_temp = df_temp.drop(['playerId'], axis=1)\n",
        "      temps.append(df_temp)\n",
        "\n",
        "    return  self.df_train[start:end].drop('nextDayPlayerEngagement', axis=1).set_index('date'), pd.concat(temps, axis=0).set_index('date'), self.df_train[start:end].nextDayPlayerEngagement"
      ],
      "execution_count": 11,
      "outputs": []
    },
    {
      "cell_type": "code",
      "metadata": {
        "id": "2vbiuZGj8GRe"
      },
      "source": [
        ""
      ],
      "execution_count": 11,
      "outputs": []
    },
    {
      "cell_type": "code",
      "metadata": {
        "id": "gLTd2Z7uNqEL",
        "execution": {
          "iopub.status.busy": "2021-06-16T07:43:42.560342Z",
          "iopub.execute_input": "2021-06-16T07:43:42.560647Z",
          "iopub.status.idle": "2021-06-16T07:43:44.841952Z",
          "shell.execute_reply.started": "2021-06-16T07:43:42.560608Z",
          "shell.execute_reply": "2021-06-16T07:43:44.840987Z"
        },
        "trusted": true
      },
      "source": [
        "from xfeat import SelectCategorical, LabelEncoder, Pipeline, ConcatCombination, SelectNumerical, \\\n",
        "    ArithmeticCombinations, TargetEncoder, aggregation, GBDTFeatureSelector, GBDTFeatureExplorer\n",
        "\n",
        "class PreProcessor(object):\n",
        "  def __init__(self):\n",
        "    self.label_encoder = Pipeline([\n",
        "      SelectCategorical(exclude_cols=['engagementMetricsDate']),\n",
        "      LabelEncoder(output_suffix=\"\"),\n",
        "      ])\n",
        "    self.df_rosters = pd.DataFrame()\n",
        "\n",
        "  def pre_process(self, df_dairy: pd.DataFrame, df_submission: pd.DataFrame, phase = \"train\") -> pd.DataFrame:\n",
        "\n",
        "    X = df_submission.drop(['target1', 'target2', 'target3', 'target4'], axis=1)\n",
        "    X['today'] = pd.to_datetime(X.index.to_numpy().astype(str))\n",
        "    X['year'] = X['today'].dt.year\n",
        "    X['month'] = X['today'].dt.month\n",
        "    X['day'] = X['today'].dt.day\n",
        "    X['dayofweek'] = X['today'].dt.dayofweek\n",
        "    X['engagementMetricsDate'] = pd.to_datetime(X['date_playerId'].str.split('_', expand = True)[0])\n",
        "    X['playerId'] = X['date_playerId'].str.split('_', expand = True)[1].astype(int)\n",
        "\n",
        "    # join rosters\n",
        "\n",
        "    if df_dairy['rosters'].notnull().sum() > 0:\n",
        "      df_rosters = pd.concat(map(lambda x: unpack_json(x), df_dairy[df_dairy['rosters'].notnull()]['rosters']), axis=0)\n",
        "      df_rosters['gameDate'] = pd.to_datetime(df_rosters['gameDate'])\n",
        "      self.df_rosters = pd.concat([self.df_rosters, df_rosters],axis=0)\n",
        "      self.df_rosters = self.df_rosters.drop_duplicates()\n",
        "    X = pd.merge(X, self.df_rosters, how='left', left_on=['today', 'playerId'], right_on=['gameDate', 'playerId']).drop(['status'], axis=1)\n",
        "\n",
        "    # # join player twitter followers\n",
        "    # df_playerTwitterFollowers = pd.concat(map(lambda x: unpack_json(x),df_dairy[df_dairy['playerTwitterFollowers'].notnull()]['playerTwitterFollowers']),axis=0)\n",
        "    # df_playerTwitterFollowers = df_playerTwitterFollowers[['date', 'playerId', 'numberOfFollowers']]\n",
        "    # df_playerTwitterFollowers['year'] = df_playerTwitterFollowers['date'].dt.year\n",
        "    # df_playerTwitterFollowers['month'] = df_playerTwitterFollowers['date'].dt.month\n",
        "    # df_playerTwitterFollowers = df_playerTwitterFollowers.drop('date', axis=1)\n",
        "    # X = pd.merge(X, df_playerTwitterFollowers, how='left', on=['playerId', 'year', 'month'])\n",
        "    # del df_playerTwitterFollowers\n",
        "\n",
        "    # # join team twitter followers\n",
        "    # df_teamTwitterFollowers = pd.concat(map(lambda x: unpack_json(x),df_dairy[df_dairy['teamTwitterFollowers'].notnull()]['teamTwitterFollowers']),axis=0)\n",
        "    # df_teamTwitterFollowers = df_teamTwitterFollowers[['date', 'teamId', 'numberOfFollowers']]\n",
        "    # df_teamTwitterFollowers['year'] = df_teamTwitterFollowers['date'].dt.year\n",
        "    # df_teamTwitterFollowers['month'] = df_teamTwitterFollowers['date'].dt.month\n",
        "    # df_teamTwitterFollowers = df_teamTwitterFollowers.drop('date', axis=1)\n",
        "    # X = pd.merge(X, df_teamTwitterFollowers, how='left', on=['teamId', 'year', 'month'])\n",
        "    # del df_teamTwitterFollowers\n",
        "\n",
        "    # # join games\n",
        "    # df_games = pd.concat(map(lambda x: unpack_json(x),df_dairy[df_dairy['games'].notnull()]['games']),axis=0)\n",
        "    # new_columns = ['gamePk', 'gameType', 'season', 'gameDate', 'gameTimeUTC', 'resumeDate',\n",
        "    #       'resumedFrom', 'codedGameState', 'detailedGameState', 'isTie',\n",
        "    #       'gameNumber', 'doubleHeader', 'dayNight', 'scheduledInnings',\n",
        "    #       'gamesInSeries', 'seriesDescription', 'teamId', 'teamName',\n",
        "    #       'teamAbbrev', 'teamWins', 'teamLosses', 'teamWinPct', 'teamWinner',\n",
        "    #       'teamScore', 'opponentId', 'opponentName', 'opponentAbbrev', 'opponentWins',\n",
        "    #       'opponentLosses', 'opponentWinPct', 'opponentWinner', 'opponentScore']\n",
        "    # df_games_home = df_games.copy()\n",
        "    # df_games_home.columns = new_columns\n",
        "    # df_games_away = df_games.copy()[['gamePk', 'gameType', 'season', 'gameDate', 'gameTimeUTC', 'resumeDate',\n",
        "    #       'resumedFrom', 'codedGameState', 'detailedGameState', 'isTie',\n",
        "    #       'gameNumber', 'doubleHeader', 'dayNight', 'scheduledInnings',\n",
        "    #       'gamesInSeries', 'seriesDescription', 'awayId', 'awayName', 'awayAbbrev', 'awayWins',\n",
        "    #       'awayLosses', 'awayWinPct', 'awayWinner', 'awayScore', 'homeId', 'homeName',\n",
        "    #       'homeAbbrev', 'homeWins', 'homeLosses', 'homeWinPct', 'homeWinner',\n",
        "    #       'homeScore']]\n",
        "    # df_games_away.columns = new_columns\n",
        "    # df_games_2 = pd.concat([df_games_home, df_games_away], axis=0).drop(['teamName', 'teamAbbrev', 'opponentName', 'opponentAbbrev', 'opponentWinner'], axis=1)\n",
        "    # df_games_2['date'] = pd.to_datetime(df_games_2['gameDate'])\n",
        "    # X = pd.merge(X, df_games_2, how='left', on=['teamId', 'date'])\n",
        "    # del new_columns, df_games, df_games_home, df_games_away, df_games_2\n",
        "\n",
        "\n",
        "    # label encoding\n",
        "    if phase == 'train':\n",
        "      X = X.drop(['today', 'date_playerId'], axis=1)\n",
        "      encoded_X = self.label_encoder.fit_transform(X)\n",
        "      X = pd.concat([X['engagementMetricsDate'], encoded_X, SelectNumerical().fit_transform(X)], axis=1)\n",
        "    elif phase == 'eval':\n",
        "      X = X.drop(['today', 'date_playerId'], axis=1)\n",
        "      encoded_X = self.label_encoder.transform(X)\n",
        "      X = pd.concat([X['engagementMetricsDate'], encoded_X, SelectNumerical().fit_transform(X)], axis=1)\n",
        "    \n",
        "    return X\n"
      ],
      "execution_count": 12,
      "outputs": []
    },
    {
      "cell_type": "code",
      "metadata": {
        "id": "VzmCDV4B1Qeh",
        "execution": {
          "iopub.status.busy": "2021-06-16T07:43:44.843047Z",
          "iopub.execute_input": "2021-06-16T07:43:44.843325Z",
          "iopub.status.idle": "2021-06-16T07:44:37.044356Z",
          "shell.execute_reply.started": "2021-06-16T07:43:44.8433Z",
          "shell.execute_reply": "2021-06-16T07:44:37.043337Z"
        },
        "trusted": true
      },
      "source": [
        "# make Traing\n",
        "\n",
        "df_train = df[df.date <= 20210331]\n",
        "\n",
        "dts = TrainDataset(df_train, df_train.shape[0])\n",
        "df_dairy, df_submission, targets = next(dts)\n",
        "pre = PreProcessor()\n",
        "\n",
        "X = pre.pre_process(df_dairy, df_submission)\n",
        "\n",
        "# join targets\n",
        "df_targets = pd.concat(map(lambda z: unpack_json(z), targets), axis=0)\n",
        "df_targets['engagementMetricsDate'] = pd.to_datetime(df_targets['engagementMetricsDate'])\n",
        "y = pd.merge(X[['engagementMetricsDate', 'playerId']], df_targets, on=['engagementMetricsDate', 'playerId'], how='left')\n",
        "del df_targets\n",
        "\n"
      ],
      "execution_count": 13,
      "outputs": []
    },
    {
      "cell_type": "code",
      "metadata": {
        "id": "iiGziG15iykl",
        "execution": {
          "iopub.status.busy": "2021-06-16T07:44:37.045893Z",
          "iopub.execute_input": "2021-06-16T07:44:37.046239Z",
          "iopub.status.idle": "2021-06-16T07:44:39.753194Z",
          "shell.execute_reply.started": "2021-06-16T07:44:37.046201Z",
          "shell.execute_reply": "2021-06-16T07:44:39.752422Z"
        },
        "trusted": true,
        "colab": {
          "base_uri": "https://localhost:8080/"
        },
        "outputId": "46fc6b04-0e6a-49ed-edaf-8cf06440efc2"
      },
      "source": [
        "# make Validation\n",
        "df_valid = df[(df.date >= 20210401) & (df.date <= 20210430)]\n",
        "dts = TrainDataset(df_valid, df_valid.shape[0])\n",
        "\n",
        "df_dairy, df_submission, targets = next(dts)\n",
        "\n",
        "\n",
        "X_val = pre.pre_process(df_dairy, df_submission, phase='eval')\n",
        "df_targets = pd.concat(map(lambda z: unpack_json(z), targets), axis=0)\n",
        "df_targets['engagementMetricsDate'] = pd.to_datetime(df_targets['engagementMetricsDate'])\n",
        "y_val = pd.merge(X_val[['engagementMetricsDate', 'playerId']], df_targets, on=['engagementMetricsDate', 'playerId'], how='left')\n",
        "\n",
        "del df_targets\n",
        "\n",
        "print(df_valid.shape, X_val.shape, y_val.shape)"
      ],
      "execution_count": 14,
      "outputs": [
        {
          "output_type": "stream",
          "text": [
            "(30, 12) (61830, 9) (61830, 6)\n"
          ],
          "name": "stdout"
        }
      ]
    },
    {
      "cell_type": "code",
      "metadata": {
        "id": "xfs_ChmjRlwP",
        "execution": {
          "iopub.status.busy": "2021-06-16T07:44:39.754317Z",
          "iopub.execute_input": "2021-06-16T07:44:39.754746Z",
          "iopub.status.idle": "2021-06-16T07:44:39.891659Z",
          "shell.execute_reply.started": "2021-06-16T07:44:39.754684Z",
          "shell.execute_reply": "2021-06-16T07:44:39.890776Z"
        },
        "trusted": true,
        "colab": {
          "base_uri": "https://localhost:8080/"
        },
        "outputId": "7511fbee-ec8e-41db-9a0e-92d748025a53"
      },
      "source": [
        "gc.collect()"
      ],
      "execution_count": 15,
      "outputs": [
        {
          "output_type": "execute_result",
          "data": {
            "text/plain": [
              "103"
            ]
          },
          "metadata": {
            "tags": []
          },
          "execution_count": 15
        }
      ]
    },
    {
      "cell_type": "code",
      "metadata": {
        "id": "LQuEYiuyQ7Ia",
        "execution": {
          "iopub.status.busy": "2021-06-16T07:44:39.892744Z",
          "iopub.execute_input": "2021-06-16T07:44:39.893179Z",
          "iopub.status.idle": "2021-06-16T07:44:51.150643Z",
          "shell.execute_reply.started": "2021-06-16T07:44:39.893149Z",
          "shell.execute_reply": "2021-06-16T07:44:51.149161Z"
        },
        "trusted": true,
        "colab": {
          "base_uri": "https://localhost:8080/"
        },
        "outputId": "29672202-ec01-4b57-c03e-03caed23fd54"
      },
      "source": [
        "import lightgbm as lgb\n",
        "\n",
        "params = {'objective': 'regression',\n",
        "             'metric': 'rmse',\n",
        "             'verbose': -1,\n",
        "             'feature_pre_filter': False,\n",
        "            #  'lambda_l1': 1.9246603611247695,\n",
        "            #  'lambda_l2': 0.0015207873611208637,\n",
        "             'num_leaves': 45,\n",
        "            #  'feature_fraction': 0.616,\n",
        "             'bagging_fraction': 1.0,\n",
        "             'bagging_freq': 0,\n",
        "             'min_child_samples': 20,\n",
        "}\n",
        "\n",
        "target_columns = ['target1', 'target2', 'target3', 'target4']\n",
        "\n",
        "models = []\n",
        "for target_column in target_columns:\n",
        "  lgb_train = lgb.Dataset(X.drop(['engagementMetricsDate'], axis=1), y[target_column])\n",
        "  lgb_valid = lgb.Dataset(X_val.drop(['engagementMetricsDate'], axis=1), y_val[target_column])\n",
        "  model = lgb.train(params, lgb_train, num_boost_round=200, valid_sets=lgb_valid, early_stopping_rounds=10)\n",
        "  models.append(model)"
      ],
      "execution_count": 16,
      "outputs": [
        {
          "output_type": "stream",
          "text": [
            "[1]\tvalid_0's rmse: 4.6736\n",
            "Training until validation scores don't improve for 10 rounds.\n",
            "[2]\tvalid_0's rmse: 4.67622\n",
            "[3]\tvalid_0's rmse: 4.67898\n",
            "[4]\tvalid_0's rmse: 4.64582\n",
            "[5]\tvalid_0's rmse: 4.64816\n",
            "[6]\tvalid_0's rmse: 4.61748\n",
            "[7]\tvalid_0's rmse: 4.59811\n",
            "[8]\tvalid_0's rmse: 4.59994\n",
            "[9]\tvalid_0's rmse: 4.5902\n",
            "[10]\tvalid_0's rmse: 4.59178\n",
            "[11]\tvalid_0's rmse: 4.58359\n",
            "[12]\tvalid_0's rmse: 4.58491\n",
            "[13]\tvalid_0's rmse: 4.57446\n",
            "[14]\tvalid_0's rmse: 4.57558\n",
            "[15]\tvalid_0's rmse: 4.55465\n",
            "[16]\tvalid_0's rmse: 4.55557\n",
            "[17]\tvalid_0's rmse: 4.5564\n",
            "[18]\tvalid_0's rmse: 4.5543\n",
            "[19]\tvalid_0's rmse: 4.54914\n",
            "[20]\tvalid_0's rmse: 4.54979\n",
            "[21]\tvalid_0's rmse: 4.5458\n",
            "[22]\tvalid_0's rmse: 4.54071\n",
            "[23]\tvalid_0's rmse: 4.54192\n",
            "[24]\tvalid_0's rmse: 4.53881\n",
            "[25]\tvalid_0's rmse: 4.53761\n",
            "[26]\tvalid_0's rmse: 4.53609\n",
            "[27]\tvalid_0's rmse: 4.53274\n",
            "[28]\tvalid_0's rmse: 4.53182\n",
            "[29]\tvalid_0's rmse: 4.5305\n",
            "[30]\tvalid_0's rmse: 4.52624\n",
            "[31]\tvalid_0's rmse: 4.52657\n",
            "[32]\tvalid_0's rmse: 4.5257\n",
            "[33]\tvalid_0's rmse: 4.5242\n",
            "[34]\tvalid_0's rmse: 4.52467\n",
            "[35]\tvalid_0's rmse: 4.52387\n",
            "[36]\tvalid_0's rmse: 4.52541\n",
            "[37]\tvalid_0's rmse: 4.52444\n",
            "[38]\tvalid_0's rmse: 4.52296\n",
            "[39]\tvalid_0's rmse: 4.52235\n",
            "[40]\tvalid_0's rmse: 4.52055\n",
            "[41]\tvalid_0's rmse: 4.51697\n",
            "[42]\tvalid_0's rmse: 4.51959\n",
            "[43]\tvalid_0's rmse: 4.51901\n",
            "[44]\tvalid_0's rmse: 4.51937\n",
            "[45]\tvalid_0's rmse: 4.51962\n",
            "[46]\tvalid_0's rmse: 4.51942\n",
            "[47]\tvalid_0's rmse: 4.51895\n",
            "[48]\tvalid_0's rmse: 4.51642\n",
            "[49]\tvalid_0's rmse: 4.51876\n",
            "[50]\tvalid_0's rmse: 4.51843\n",
            "[51]\tvalid_0's rmse: 4.5181\n",
            "[52]\tvalid_0's rmse: 4.51818\n",
            "[53]\tvalid_0's rmse: 4.51833\n",
            "[54]\tvalid_0's rmse: 4.51673\n",
            "[55]\tvalid_0's rmse: 4.51508\n",
            "[56]\tvalid_0's rmse: 4.51219\n",
            "[57]\tvalid_0's rmse: 4.51243\n",
            "[58]\tvalid_0's rmse: 4.51224\n",
            "[59]\tvalid_0's rmse: 4.5123\n",
            "[60]\tvalid_0's rmse: 4.5112\n",
            "[61]\tvalid_0's rmse: 4.5032\n",
            "[62]\tvalid_0's rmse: 4.50315\n",
            "[63]\tvalid_0's rmse: 4.50056\n",
            "[64]\tvalid_0's rmse: 4.50078\n",
            "[65]\tvalid_0's rmse: 4.49495\n",
            "[66]\tvalid_0's rmse: 4.49341\n",
            "[67]\tvalid_0's rmse: 4.49347\n",
            "[68]\tvalid_0's rmse: 4.49303\n",
            "[69]\tvalid_0's rmse: 4.48772\n",
            "[70]\tvalid_0's rmse: 4.48761\n",
            "[71]\tvalid_0's rmse: 4.48626\n",
            "[72]\tvalid_0's rmse: 4.48631\n",
            "[73]\tvalid_0's rmse: 4.48614\n",
            "[74]\tvalid_0's rmse: 4.48633\n",
            "[75]\tvalid_0's rmse: 4.48613\n",
            "[76]\tvalid_0's rmse: 4.48633\n",
            "[77]\tvalid_0's rmse: 4.48636\n",
            "[78]\tvalid_0's rmse: 4.48635\n",
            "[79]\tvalid_0's rmse: 4.48355\n",
            "[80]\tvalid_0's rmse: 4.48202\n",
            "[81]\tvalid_0's rmse: 4.48218\n",
            "[82]\tvalid_0's rmse: 4.48084\n",
            "[83]\tvalid_0's rmse: 4.48079\n",
            "[84]\tvalid_0's rmse: 4.48073\n",
            "[85]\tvalid_0's rmse: 4.48068\n",
            "[86]\tvalid_0's rmse: 4.4803\n",
            "[87]\tvalid_0's rmse: 4.4803\n",
            "[88]\tvalid_0's rmse: 4.48031\n",
            "[89]\tvalid_0's rmse: 4.4805\n",
            "[90]\tvalid_0's rmse: 4.47844\n",
            "[91]\tvalid_0's rmse: 4.4779\n",
            "[92]\tvalid_0's rmse: 4.47746\n",
            "[93]\tvalid_0's rmse: 4.47751\n",
            "[94]\tvalid_0's rmse: 4.47753\n",
            "[95]\tvalid_0's rmse: 4.47755\n",
            "[96]\tvalid_0's rmse: 4.47751\n",
            "[97]\tvalid_0's rmse: 4.47745\n",
            "[98]\tvalid_0's rmse: 4.47804\n",
            "[99]\tvalid_0's rmse: 4.4781\n",
            "[100]\tvalid_0's rmse: 4.47645\n",
            "[101]\tvalid_0's rmse: 4.47648\n",
            "[102]\tvalid_0's rmse: 4.47599\n",
            "[103]\tvalid_0's rmse: 4.47587\n",
            "[104]\tvalid_0's rmse: 4.47484\n",
            "[105]\tvalid_0's rmse: 4.47484\n",
            "[106]\tvalid_0's rmse: 4.47483\n",
            "[107]\tvalid_0's rmse: 4.48147\n",
            "[108]\tvalid_0's rmse: 4.48421\n",
            "[109]\tvalid_0's rmse: 4.48414\n",
            "[110]\tvalid_0's rmse: 4.4841\n",
            "[111]\tvalid_0's rmse: 4.48536\n",
            "[112]\tvalid_0's rmse: 4.48534\n",
            "[113]\tvalid_0's rmse: 4.48451\n",
            "[114]\tvalid_0's rmse: 4.48207\n",
            "[115]\tvalid_0's rmse: 4.482\n",
            "[116]\tvalid_0's rmse: 4.48087\n",
            "Early stopping, best iteration is:\n",
            "[106]\tvalid_0's rmse: 4.47483\n",
            "[1]\tvalid_0's rmse: 6.03371\n",
            "Training until validation scores don't improve for 10 rounds.\n",
            "[2]\tvalid_0's rmse: 5.96481\n",
            "[3]\tvalid_0's rmse: 5.95323\n",
            "[4]\tvalid_0's rmse: 5.94753\n",
            "[5]\tvalid_0's rmse: 5.94379\n",
            "[6]\tvalid_0's rmse: 5.90052\n",
            "[7]\tvalid_0's rmse: 5.89848\n",
            "[8]\tvalid_0's rmse: 5.86216\n",
            "[9]\tvalid_0's rmse: 5.79345\n",
            "[10]\tvalid_0's rmse: 5.79224\n",
            "[11]\tvalid_0's rmse: 5.76568\n",
            "[12]\tvalid_0's rmse: 5.75228\n",
            "[13]\tvalid_0's rmse: 5.71287\n",
            "[14]\tvalid_0's rmse: 5.71186\n",
            "[15]\tvalid_0's rmse: 5.69204\n",
            "[16]\tvalid_0's rmse: 5.68917\n",
            "[17]\tvalid_0's rmse: 5.66793\n",
            "[18]\tvalid_0's rmse: 5.65687\n",
            "[19]\tvalid_0's rmse: 5.65616\n",
            "[20]\tvalid_0's rmse: 5.64312\n",
            "[21]\tvalid_0's rmse: 5.64094\n",
            "[22]\tvalid_0's rmse: 5.63649\n",
            "[23]\tvalid_0's rmse: 5.63006\n",
            "[24]\tvalid_0's rmse: 5.62994\n",
            "[25]\tvalid_0's rmse: 5.62968\n",
            "[26]\tvalid_0's rmse: 5.63018\n",
            "[27]\tvalid_0's rmse: 5.62378\n",
            "[28]\tvalid_0's rmse: 5.62396\n",
            "[29]\tvalid_0's rmse: 5.62272\n",
            "[30]\tvalid_0's rmse: 5.62239\n",
            "[31]\tvalid_0's rmse: 5.62029\n",
            "[32]\tvalid_0's rmse: 5.61568\n",
            "[33]\tvalid_0's rmse: 5.61681\n",
            "[34]\tvalid_0's rmse: 5.61652\n",
            "[35]\tvalid_0's rmse: 5.61567\n",
            "[36]\tvalid_0's rmse: 5.61654\n",
            "[37]\tvalid_0's rmse: 5.61453\n",
            "[38]\tvalid_0's rmse: 5.61478\n",
            "[39]\tvalid_0's rmse: 5.61324\n",
            "[40]\tvalid_0's rmse: 5.61503\n",
            "[41]\tvalid_0's rmse: 5.60619\n",
            "[42]\tvalid_0's rmse: 5.6086\n",
            "[43]\tvalid_0's rmse: 5.60417\n",
            "[44]\tvalid_0's rmse: 5.60429\n",
            "[45]\tvalid_0's rmse: 5.60193\n",
            "[46]\tvalid_0's rmse: 5.59722\n",
            "[47]\tvalid_0's rmse: 5.59844\n",
            "[48]\tvalid_0's rmse: 5.59262\n",
            "[49]\tvalid_0's rmse: 5.59335\n",
            "[50]\tvalid_0's rmse: 5.59483\n",
            "[51]\tvalid_0's rmse: 5.59323\n",
            "[52]\tvalid_0's rmse: 5.59492\n",
            "[53]\tvalid_0's rmse: 5.59422\n",
            "[54]\tvalid_0's rmse: 5.59453\n",
            "[55]\tvalid_0's rmse: 5.58761\n",
            "[56]\tvalid_0's rmse: 5.58911\n",
            "[57]\tvalid_0's rmse: 5.58788\n",
            "[58]\tvalid_0's rmse: 5.5887\n",
            "[59]\tvalid_0's rmse: 5.58796\n",
            "[60]\tvalid_0's rmse: 5.58974\n",
            "[61]\tvalid_0's rmse: 5.58727\n",
            "[62]\tvalid_0's rmse: 5.58569\n",
            "[63]\tvalid_0's rmse: 5.58635\n",
            "[64]\tvalid_0's rmse: 5.58711\n",
            "[65]\tvalid_0's rmse: 5.58716\n",
            "[66]\tvalid_0's rmse: 5.59031\n",
            "[67]\tvalid_0's rmse: 5.59208\n",
            "[68]\tvalid_0's rmse: 5.59004\n",
            "[69]\tvalid_0's rmse: 5.58981\n",
            "[70]\tvalid_0's rmse: 5.58903\n",
            "[71]\tvalid_0's rmse: 5.58968\n",
            "[72]\tvalid_0's rmse: 5.58965\n",
            "Early stopping, best iteration is:\n",
            "[62]\tvalid_0's rmse: 5.58569\n",
            "[1]\tvalid_0's rmse: 4.32225\n",
            "Training until validation scores don't improve for 10 rounds.\n",
            "[2]\tvalid_0's rmse: 4.32176\n",
            "[3]\tvalid_0's rmse: 4.30548\n",
            "[4]\tvalid_0's rmse: 4.28514\n",
            "[5]\tvalid_0's rmse: 4.2849\n",
            "[6]\tvalid_0's rmse: 4.27706\n",
            "[7]\tvalid_0's rmse: 4.26724\n",
            "[8]\tvalid_0's rmse: 4.26713\n",
            "[9]\tvalid_0's rmse: 4.26251\n",
            "[10]\tvalid_0's rmse: 4.26243\n",
            "[11]\tvalid_0's rmse: 4.25773\n",
            "[12]\tvalid_0's rmse: 4.25774\n",
            "[13]\tvalid_0's rmse: 4.2578\n",
            "[14]\tvalid_0's rmse: 4.25496\n",
            "[15]\tvalid_0's rmse: 4.2529\n",
            "[16]\tvalid_0's rmse: 4.25308\n",
            "[17]\tvalid_0's rmse: 4.25168\n",
            "[18]\tvalid_0's rmse: 4.25192\n",
            "[19]\tvalid_0's rmse: 4.25032\n",
            "[20]\tvalid_0's rmse: 4.24826\n",
            "[21]\tvalid_0's rmse: 4.24781\n",
            "[22]\tvalid_0's rmse: 4.24481\n",
            "[23]\tvalid_0's rmse: 4.24463\n",
            "[24]\tvalid_0's rmse: 4.24311\n",
            "[25]\tvalid_0's rmse: 4.24331\n",
            "[26]\tvalid_0's rmse: 4.24242\n",
            "[27]\tvalid_0's rmse: 4.23372\n",
            "[28]\tvalid_0's rmse: 4.23344\n",
            "[29]\tvalid_0's rmse: 4.23321\n",
            "[30]\tvalid_0's rmse: 4.23304\n",
            "[31]\tvalid_0's rmse: 4.23284\n",
            "[32]\tvalid_0's rmse: 4.23288\n",
            "[33]\tvalid_0's rmse: 4.23255\n",
            "[34]\tvalid_0's rmse: 4.22494\n",
            "[35]\tvalid_0's rmse: 4.22287\n",
            "[36]\tvalid_0's rmse: 4.22192\n",
            "[37]\tvalid_0's rmse: 4.22134\n",
            "[38]\tvalid_0's rmse: 4.22056\n",
            "[39]\tvalid_0's rmse: 4.21958\n",
            "[40]\tvalid_0's rmse: 4.2197\n",
            "[41]\tvalid_0's rmse: 4.2197\n",
            "[42]\tvalid_0's rmse: 4.21551\n",
            "[43]\tvalid_0's rmse: 4.2069\n",
            "[44]\tvalid_0's rmse: 4.20671\n",
            "[45]\tvalid_0's rmse: 4.20087\n",
            "[46]\tvalid_0's rmse: 4.19775\n",
            "[47]\tvalid_0's rmse: 4.19771\n",
            "[48]\tvalid_0's rmse: 4.1963\n",
            "[49]\tvalid_0's rmse: 4.19644\n",
            "[50]\tvalid_0's rmse: 4.19658\n",
            "[51]\tvalid_0's rmse: 4.19622\n",
            "[52]\tvalid_0's rmse: 4.19566\n",
            "[53]\tvalid_0's rmse: 4.19505\n",
            "[54]\tvalid_0's rmse: 4.19505\n",
            "[55]\tvalid_0's rmse: 4.19358\n",
            "[56]\tvalid_0's rmse: 4.19356\n",
            "[57]\tvalid_0's rmse: 4.19299\n",
            "[58]\tvalid_0's rmse: 4.19287\n",
            "[59]\tvalid_0's rmse: 4.193\n",
            "[60]\tvalid_0's rmse: 4.1914\n",
            "[61]\tvalid_0's rmse: 4.19164\n",
            "[62]\tvalid_0's rmse: 4.19222\n",
            "[63]\tvalid_0's rmse: 4.19222\n",
            "[64]\tvalid_0's rmse: 4.1919\n",
            "[65]\tvalid_0's rmse: 4.19184\n",
            "[66]\tvalid_0's rmse: 4.19184\n",
            "[67]\tvalid_0's rmse: 4.19647\n",
            "[68]\tvalid_0's rmse: 4.19596\n",
            "[69]\tvalid_0's rmse: 4.19551\n",
            "[70]\tvalid_0's rmse: 4.19551\n",
            "Early stopping, best iteration is:\n",
            "[60]\tvalid_0's rmse: 4.1914\n",
            "[1]\tvalid_0's rmse: 5.05594\n",
            "Training until validation scores don't improve for 10 rounds.\n",
            "[2]\tvalid_0's rmse: 5.00366\n",
            "[3]\tvalid_0's rmse: 4.96335\n",
            "[4]\tvalid_0's rmse: 4.93294\n",
            "[5]\tvalid_0's rmse: 4.89066\n",
            "[6]\tvalid_0's rmse: 4.87195\n",
            "[7]\tvalid_0's rmse: 4.85946\n",
            "[8]\tvalid_0's rmse: 4.8402\n",
            "[9]\tvalid_0's rmse: 4.82944\n",
            "[10]\tvalid_0's rmse: 4.8255\n",
            "[11]\tvalid_0's rmse: 4.81802\n",
            "[12]\tvalid_0's rmse: 4.8153\n",
            "[13]\tvalid_0's rmse: 4.81281\n",
            "[14]\tvalid_0's rmse: 4.80029\n",
            "[15]\tvalid_0's rmse: 4.79444\n",
            "[16]\tvalid_0's rmse: 4.77222\n",
            "[17]\tvalid_0's rmse: 4.76883\n",
            "[18]\tvalid_0's rmse: 4.75822\n",
            "[19]\tvalid_0's rmse: 4.75741\n",
            "[20]\tvalid_0's rmse: 4.74347\n",
            "[21]\tvalid_0's rmse: 4.74292\n",
            "[22]\tvalid_0's rmse: 4.74155\n",
            "[23]\tvalid_0's rmse: 4.73863\n",
            "[24]\tvalid_0's rmse: 4.73531\n",
            "[25]\tvalid_0's rmse: 4.73689\n",
            "[26]\tvalid_0's rmse: 4.736\n",
            "[27]\tvalid_0's rmse: 4.73748\n",
            "[28]\tvalid_0's rmse: 4.71495\n",
            "[29]\tvalid_0's rmse: 4.71367\n",
            "[30]\tvalid_0's rmse: 4.71362\n",
            "[31]\tvalid_0's rmse: 4.71139\n",
            "[32]\tvalid_0's rmse: 4.70974\n",
            "[33]\tvalid_0's rmse: 4.70606\n",
            "[34]\tvalid_0's rmse: 4.69728\n",
            "[35]\tvalid_0's rmse: 4.69788\n",
            "[36]\tvalid_0's rmse: 4.69521\n",
            "[37]\tvalid_0's rmse: 4.69612\n",
            "[38]\tvalid_0's rmse: 4.69317\n",
            "[39]\tvalid_0's rmse: 4.69372\n",
            "[40]\tvalid_0's rmse: 4.67971\n",
            "[41]\tvalid_0's rmse: 4.68045\n",
            "[42]\tvalid_0's rmse: 4.67881\n",
            "[43]\tvalid_0's rmse: 4.67781\n",
            "[44]\tvalid_0's rmse: 4.6674\n",
            "[45]\tvalid_0's rmse: 4.658\n",
            "[46]\tvalid_0's rmse: 4.65861\n",
            "[47]\tvalid_0's rmse: 4.65844\n",
            "[48]\tvalid_0's rmse: 4.6554\n",
            "[49]\tvalid_0's rmse: 4.64805\n",
            "[50]\tvalid_0's rmse: 4.64835\n",
            "[51]\tvalid_0's rmse: 4.64716\n",
            "[52]\tvalid_0's rmse: 4.64275\n",
            "[53]\tvalid_0's rmse: 4.64164\n",
            "[54]\tvalid_0's rmse: 4.63735\n",
            "[55]\tvalid_0's rmse: 4.63738\n",
            "[56]\tvalid_0's rmse: 4.6374\n",
            "[57]\tvalid_0's rmse: 4.64126\n",
            "[58]\tvalid_0's rmse: 4.64113\n",
            "[59]\tvalid_0's rmse: 4.64031\n",
            "[60]\tvalid_0's rmse: 4.64017\n",
            "[61]\tvalid_0's rmse: 4.64021\n",
            "[62]\tvalid_0's rmse: 4.64218\n",
            "[63]\tvalid_0's rmse: 4.6448\n",
            "[64]\tvalid_0's rmse: 4.64694\n",
            "Early stopping, best iteration is:\n",
            "[54]\tvalid_0's rmse: 4.63735\n"
          ],
          "name": "stdout"
        }
      ]
    },
    {
      "cell_type": "code",
      "metadata": {
        "id": "2ySfF8lpQ62s",
        "execution": {
          "iopub.status.busy": "2021-06-16T07:44:51.151967Z",
          "iopub.execute_input": "2021-06-16T07:44:51.152271Z",
          "iopub.status.idle": "2021-06-16T07:44:51.156331Z",
          "shell.execute_reply.started": "2021-06-16T07:44:51.152241Z",
          "shell.execute_reply": "2021-06-16T07:44:51.155044Z"
        },
        "trusted": true
      },
      "source": [
        "\n",
        "if 'google.colab' in sys.modules or 'kaggle_web_client' in sys.modules:\n",
        "  df_test = df[(df.date >= 20210401) & (df.date <= 20210430)]\n",
        "  iter_test = TrainDataset(df_valid, 5)\n",
        "  for df_dairy, df_submission, _ in iter_test:\n",
        "    X = pre.pre_process(df_dairy, df_submission, phase='eval')\n",
        "    X = X.drop('engagementMetricsDate', axis=1)\n",
        "    for (i, model) in enumerate(models):\n",
        "      df_submission[target_columns[i]] = np.clip(model.predict(X), 0.0, 100.0)\n",
        "    "
      ],
      "execution_count": 17,
      "outputs": []
    },
    {
      "cell_type": "code",
      "metadata": {
        "id": "W55rbnBuOb-x"
      },
      "source": [
        ""
      ],
      "execution_count": null,
      "outputs": []
    },
    {
      "cell_type": "code",
      "metadata": {
        "id": "lbXJqQyz8byL",
        "execution": {
          "iopub.status.busy": "2021-06-16T07:44:51.157769Z",
          "iopub.execute_input": "2021-06-16T07:44:51.158068Z",
          "iopub.status.idle": "2021-06-16T07:44:58.068262Z",
          "shell.execute_reply.started": "2021-06-16T07:44:51.158032Z",
          "shell.execute_reply": "2021-06-16T07:44:58.067223Z"
        },
        "trusted": true
      },
      "source": [
        "if 'kaggle_secrets' in sys.modules:  # only run while on Kaggle\n",
        "  import mlb\n",
        "\n",
        "  env = mlb.make_env()\n",
        "  iter_test = env.iter_test()\n",
        "\n",
        "  for df_dairy, df_submission in iter_test:\n",
        "    X = pre.pre_process(df_dairy, df_submission, phase='eval')\n",
        "    X = X.drop('engagementMetricsDate', axis=1)\n",
        "\n",
        "    for (i, model) in enumerate(models):\n",
        "      df_submission[target_columns[i]] = np.clip(model.predict(X), 0.0, 100.0)\n",
        "\n",
        "    env.predict(df_submission)"
      ],
      "execution_count": 18,
      "outputs": []
    },
    {
      "cell_type": "code",
      "metadata": {
        "id": "aCvYQ_Io7C14"
      },
      "source": [
        "\n"
      ],
      "execution_count": 18,
      "outputs": []
    }
  ]
}