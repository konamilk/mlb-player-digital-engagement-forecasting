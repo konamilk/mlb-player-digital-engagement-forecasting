{
  "nbformat": 4,
  "nbformat_minor": 0,
  "metadata": {
    "kernelspec": {
      "language": "python",
      "display_name": "Python 3",
      "name": "python3"
    },
    "language_info": {
      "name": "python",
      "version": "3.7.10",
      "mimetype": "text/x-python",
      "codemirror_mode": {
        "name": "ipython",
        "version": 3
      },
      "pygments_lexer": "ipython3",
      "nbconvert_exporter": "python",
      "file_extension": ".py"
    },
    "colab": {
      "name": "mlb-v1-1.ipynb",
      "provenance": [],
      "collapsed_sections": [],
      "include_colab_link": true
    }
  },
  "cells": [
    {
      "cell_type": "markdown",
      "metadata": {
        "id": "view-in-github",
        "colab_type": "text"
      },
      "source": [
        "<a href=\"https://colab.research.google.com/github/konamilk/mlb-player-digital-engagement-forecasting/blob/main/mlb_v1_1.ipynb\" target=\"_parent\"><img src=\"https://colab.research.google.com/assets/colab-badge.svg\" alt=\"Open In Colab\"/></a>"
      ]
    },
    {
      "cell_type": "code",
      "metadata": {
        "id": "QtjMBhxrr7X8",
        "execution": {
          "iopub.status.busy": "2021-06-16T07:41:59.625291Z",
          "iopub.execute_input": "2021-06-16T07:41:59.625569Z",
          "iopub.status.idle": "2021-06-16T07:41:59.635085Z",
          "shell.execute_reply.started": "2021-06-16T07:41:59.62554Z",
          "shell.execute_reply": "2021-06-16T07:41:59.634453Z"
        },
        "trusted": true
      },
      "source": [
        "import sys\n",
        "from pathlib import Path\n",
        "if 'google.colab' in sys.modules:\n",
        "    INPUT = Path('/content/input/')\n",
        "elif 'kaggle_web_client' in sys.modules:\n",
        "    INPUT = Path('../input/mlb-player-digital-engagement-forecasting')"
      ],
      "execution_count": null,
      "outputs": []
    },
    {
      "cell_type": "code",
      "metadata": {
        "id": "t0JWJatJshsx",
        "execution": {
          "iopub.status.busy": "2021-06-16T07:41:59.636484Z",
          "iopub.execute_input": "2021-06-16T07:41:59.636881Z",
          "iopub.status.idle": "2021-06-16T07:41:59.644664Z",
          "shell.execute_reply.started": "2021-06-16T07:41:59.636855Z",
          "shell.execute_reply": "2021-06-16T07:41:59.644019Z"
        },
        "trusted": true,
        "colab": {
          "base_uri": "https://localhost:8080/"
        },
        "outputId": "841d0763-3d90-4efc-c7b8-ccf92f3bad3f"
      },
      "source": [
        "if 'google.colab' in sys.modules:\n",
        "  !mkdir ~/.kaggle\n",
        "  !cp /content/drive/MyDrive/.kaggle/kaggle.json ~/.kaggle\n",
        "  !chmod 600 ~/.kaggle/kaggle.json\n",
        "  !pip install kaggle > /dev/null"
      ],
      "execution_count": null,
      "outputs": [
        {
          "output_type": "stream",
          "text": [
            "mkdir: cannot create directory ‘/root/.kaggle’: File exists\n"
          ],
          "name": "stdout"
        }
      ]
    },
    {
      "cell_type": "code",
      "metadata": {
        "id": "RwV5_ro8tNS3",
        "execution": {
          "iopub.status.busy": "2021-06-16T07:41:59.645802Z",
          "iopub.execute_input": "2021-06-16T07:41:59.646207Z",
          "iopub.status.idle": "2021-06-16T07:42:26.77958Z",
          "shell.execute_reply.started": "2021-06-16T07:41:59.64618Z",
          "shell.execute_reply": "2021-06-16T07:42:26.778175Z"
        },
        "trusted": true,
        "colab": {
          "base_uri": "https://localhost:8080/"
        },
        "outputId": "f2cc4d8a-b8db-4a59-8bd0-adcf066d8302"
      },
      "source": [
        "if 'google.colab' in sys.modules:\n",
        "    !pip install git+https://github.com/pfnet-research/xfeat.git > /dev/null\n",
        "else:\n",
        "    !pip install ../input/xfeatwhl/xfeat-0.1.1-py3-none-any.whl > /dev/null"
      ],
      "execution_count": null,
      "outputs": [
        {
          "output_type": "stream",
          "text": [
            "  Running command git clone -q https://github.com/pfnet-research/xfeat.git /tmp/pip-req-build-71e0sddt\n"
          ],
          "name": "stdout"
        }
      ]
    },
    {
      "cell_type": "code",
      "metadata": {
        "id": "l02aDXrawzZw",
        "execution": {
          "iopub.status.busy": "2021-06-16T07:42:26.781242Z",
          "iopub.execute_input": "2021-06-16T07:42:26.781628Z",
          "iopub.status.idle": "2021-06-16T07:42:26.792115Z",
          "shell.execute_reply.started": "2021-06-16T07:42:26.78158Z",
          "shell.execute_reply": "2021-06-16T07:42:26.791226Z"
        },
        "trusted": true,
        "colab": {
          "base_uri": "https://localhost:8080/"
        },
        "outputId": "9c793747-1092-4553-ccba-08dd4e988980"
      },
      "source": [
        "if 'google.colab' in sys.modules:\n",
        "  !kaggle competitions download -c mlb-player-digital-engagement-forecasting\n",
        "  !mkdir input\n",
        "  !unzip -o '*.zip' -d ./input/\n",
        "  !rm *.zip\n",
        "  !mv *.csv ./input/"
      ],
      "execution_count": null,
      "outputs": [
        {
          "output_type": "stream",
          "text": [
            "Warning: Looks like you're using an outdated API Version, please consider updating (server 1.5.12 / client 1.5.4)\n",
            "__init__.py: Skipping, found more recently modified local copy (use --force to force download)\n",
            "competition.cpython-37m-x86_64-linux-gnu.so: Skipping, found more recently modified local copy (use --force to force download)\n",
            "Downloading players.csv to /content\n",
            "  0% 0.00/173k [00:00<?, ?B/s]\n",
            "100% 173k/173k [00:00<00:00, 27.4MB/s]\n",
            "Downloading seasons.csv to /content\n",
            "  0% 0.00/824 [00:00<?, ?B/s]\n",
            "100% 824/824 [00:00<00:00, 786kB/s]\n",
            "Downloading awards.csv to /content\n",
            "  0% 0.00/820k [00:00<?, ?B/s]\n",
            "100% 820k/820k [00:00<00:00, 50.5MB/s]\n",
            "Downloading example_test.csv.zip to /content\n",
            "  0% 0.00/3.96M [00:00<?, ?B/s]\n",
            "100% 3.96M/3.96M [00:00<00:00, 130MB/s]\n",
            "Downloading teams.csv to /content\n",
            "  0% 0.00/3.68k [00:00<?, ?B/s]\n",
            "100% 3.68k/3.68k [00:00<00:00, 3.72MB/s]\n",
            "Downloading example_sample_submission.csv to /content\n",
            "  0% 0.00/191k [00:00<?, ?B/s]\n",
            "100% 191k/191k [00:00<00:00, 58.1MB/s]\n",
            "Downloading train.csv.zip to /content\n",
            " 98% 460M/470M [00:04<00:00, 92.3MB/s]\n",
            "100% 470M/470M [00:04<00:00, 112MB/s] \n",
            "mkdir: cannot create directory ‘input’: File exists\n",
            "Archive:  train.csv.zip\n",
            "  inflating: ./input/train.csv       \n",
            "\n",
            "Archive:  example_test.csv.zip\n",
            "  inflating: ./input/example_test.csv  \n",
            "\n",
            "2 archives were successfully processed.\n"
          ],
          "name": "stdout"
        }
      ]
    },
    {
      "cell_type": "code",
      "metadata": {
        "id": "FSURoFztw90s",
        "execution": {
          "iopub.status.busy": "2021-06-16T07:42:26.793416Z",
          "iopub.execute_input": "2021-06-16T07:42:26.793853Z",
          "iopub.status.idle": "2021-06-16T07:42:28.42904Z",
          "shell.execute_reply.started": "2021-06-16T07:42:26.793813Z",
          "shell.execute_reply": "2021-06-16T07:42:28.428081Z"
        },
        "trusted": true
      },
      "source": [
        "import numpy as np\n",
        "import pandas as pd\n",
        "import gc\n",
        "import pickle\n",
        "%matplotlib inline\n",
        "import matplotlib.pyplot as plt\n",
        "import seaborn as sns\n",
        "import torch\n",
        "import torch.nn as nn\n",
        "import torch.functional as F\n",
        "from torch.utils import data"
      ],
      "execution_count": null,
      "outputs": []
    },
    {
      "cell_type": "code",
      "metadata": {
        "id": "O6Sk6gVO7JkG",
        "execution": {
          "iopub.status.busy": "2021-06-16T07:42:28.429985Z",
          "iopub.execute_input": "2021-06-16T07:42:28.430341Z",
          "iopub.status.idle": "2021-06-16T07:42:28.434023Z",
          "shell.execute_reply.started": "2021-06-16T07:42:28.430314Z",
          "shell.execute_reply": "2021-06-16T07:42:28.433351Z"
        },
        "trusted": true
      },
      "source": [
        "TRAIN = INPUT/'train.csv'\n",
        "TEAMS = INPUT/'awards.csv'\n",
        "PLAYERS = INPUT/'players.csv'\n",
        "AWARDS = INPUT/'awards.csv'\n",
        "SEASONS = INPUT/'seasons.csv'"
      ],
      "execution_count": null,
      "outputs": []
    },
    {
      "cell_type": "code",
      "metadata": {
        "id": "dh1fdI--UN4X",
        "execution": {
          "iopub.status.busy": "2021-06-16T07:42:28.435022Z",
          "iopub.execute_input": "2021-06-16T07:42:28.435492Z",
          "iopub.status.idle": "2021-06-16T07:43:42.523394Z",
          "shell.execute_reply.started": "2021-06-16T07:42:28.435466Z",
          "shell.execute_reply": "2021-06-16T07:43:42.521823Z"
        },
        "trusted": true
      },
      "source": [
        "df = pd.read_csv(TRAIN)"
      ],
      "execution_count": null,
      "outputs": []
    },
    {
      "cell_type": "code",
      "metadata": {
        "id": "61DsO9JyHKoI",
        "execution": {
          "iopub.status.busy": "2021-06-16T07:43:42.526821Z",
          "iopub.execute_input": "2021-06-16T07:43:42.527276Z",
          "iopub.status.idle": "2021-06-16T07:43:42.533329Z",
          "shell.execute_reply.started": "2021-06-16T07:43:42.527231Z",
          "shell.execute_reply": "2021-06-16T07:43:42.532303Z"
        },
        "trusted": true
      },
      "source": [
        "def unpack_json(json_str):\n",
        "    return np.nan if pd.isna(json_str) else pd.read_json(json_str)"
      ],
      "execution_count": null,
      "outputs": []
    },
    {
      "cell_type": "code",
      "metadata": {
        "id": "AOOU2R0YfZRv",
        "execution": {
          "iopub.status.busy": "2021-06-16T07:43:42.535072Z",
          "iopub.execute_input": "2021-06-16T07:43:42.535387Z",
          "iopub.status.idle": "2021-06-16T07:43:42.544957Z",
          "shell.execute_reply.started": "2021-06-16T07:43:42.535358Z",
          "shell.execute_reply": "2021-06-16T07:43:42.54415Z"
        },
        "trusted": true
      },
      "source": [
        "import datetime\n",
        "def next_date_as_int(date_as_int: int):\n",
        "  dd = date_as_int % 100\n",
        "  date_as_int = date_as_int // 100\n",
        "  mm = date_as_int % 100\n",
        "  yyyy = date_as_int // 100\n",
        "  dt = datetime.datetime(yyyy, mm, dd)\n",
        "  next_dt = dt + datetime.timedelta(days=1)\n",
        "  return next_dt.year * 10000 + next_dt.month * 100 + next_dt.day\n",
        "\n",
        "\n",
        "def int_date(dt: datetime):\n",
        "  return dt.year * 10000 + dt.month * 100 + dt.day"
      ],
      "execution_count": null,
      "outputs": []
    },
    {
      "cell_type": "code",
      "metadata": {
        "id": "cZVO14_0-jIm"
      },
      "source": [
        ""
      ],
      "execution_count": null,
      "outputs": []
    },
    {
      "cell_type": "code",
      "metadata": {
        "id": "E_7aEDMgva7c",
        "execution": {
          "iopub.status.busy": "2021-06-16T07:43:42.546131Z",
          "iopub.execute_input": "2021-06-16T07:43:42.546577Z",
          "iopub.status.idle": "2021-06-16T07:43:42.559189Z",
          "shell.execute_reply.started": "2021-06-16T07:43:42.546531Z",
          "shell.execute_reply": "2021-06-16T07:43:42.558208Z"
        },
        "trusted": true
      },
      "source": [
        "class TrainDataset(object):\n",
        "  def __init__(self, df_train, batch_size=5):\n",
        "    self.df_train = df_train\n",
        "    self.current = 0\n",
        "    self.batch_size = batch_size\n",
        "    df_player = pd.read_csv(PLAYERS)\n",
        "    df_player[df_player['playerForTestSetAndFuturePreds'] == True]\n",
        "    self.playerId =  df_player['playerId']\n",
        "  \n",
        "  def __iter__(self):\n",
        "    return self\n",
        "\n",
        "  def __next__(self):\n",
        "    start = self.current * self.batch_size\n",
        "    end = (self.current + 1) * self.batch_size\n",
        "    self.current += 1\n",
        "\n",
        "    if start >= self.df_train.shape[0]:\n",
        "      raise StopIteration()\n",
        "    \n",
        "    dates = self.df_train[start:end].date.unique()\n",
        "\n",
        "    temps = []\n",
        "    for date in dates:\n",
        "      df_temp = pd.DataFrame(self.playerId)\n",
        "      df_temp['date'] = date\n",
        "      df_temp['date_playerId'] = str(next_date_as_int(date)) + '_' + df_temp['playerId'].astype(str)\n",
        "      df_temp['target1'] = 0.0\n",
        "      df_temp['target2'] = 0.0\n",
        "      df_temp['target3'] = 0.0\n",
        "      df_temp['target4'] = 0.0\n",
        "      df_temp = df_temp.drop(['playerId'], axis=1)\n",
        "      temps.append(df_temp)\n",
        "\n",
        "    return  self.df_train[start:end].drop('nextDayPlayerEngagement', axis=1).set_index('date'), pd.concat(temps, axis=0).set_index('date'), self.df_train[start:end].nextDayPlayerEngagement"
      ],
      "execution_count": null,
      "outputs": []
    },
    {
      "cell_type": "code",
      "metadata": {
        "id": "gLTd2Z7uNqEL",
        "execution": {
          "iopub.status.busy": "2021-06-16T07:43:42.560342Z",
          "iopub.execute_input": "2021-06-16T07:43:42.560647Z",
          "iopub.status.idle": "2021-06-16T07:43:44.841952Z",
          "shell.execute_reply.started": "2021-06-16T07:43:42.560608Z",
          "shell.execute_reply": "2021-06-16T07:43:44.840987Z"
        },
        "trusted": true
      },
      "source": [
        "from xfeat import SelectCategorical, LabelEncoder, Pipeline, ConcatCombination, SelectNumerical, \\\n",
        "    ArithmeticCombinations, TargetEncoder, aggregation, GBDTFeatureSelector, GBDTFeatureExplorer\n",
        "\n",
        "class PreProcessor(object):\n",
        "  def __init__(self):\n",
        "    self.label_encoder = Pipeline([\n",
        "      SelectCategorical(exclude_cols=['engagementMetricsDate']),\n",
        "      LabelEncoder(output_suffix=\"\"),\n",
        "      ])\n",
        "    self.df_rosters = pd.DataFrame()\n",
        "    self.df_playerTwitterFollowers = pd.DataFrame()\n",
        "    self.df_teamTwitterFollowers = pd.DataFrame()\n",
        "\n",
        "  def pre_process(self, df_dairy: pd.DataFrame, df_submission: pd.DataFrame, phase = \"train\") -> pd.DataFrame:\n",
        "\n",
        "    X = df_submission.drop(['target1', 'target2', 'target3', 'target4'], axis=1)\n",
        "    X['today'] = pd.to_datetime(X.index.to_numpy().astype(str))\n",
        "    X['year'] = X['today'].dt.year\n",
        "    X['month'] = X['today'].dt.month\n",
        "    X['day'] = X['today'].dt.day\n",
        "    X['dayofweek'] = X['today'].dt.dayofweek\n",
        "    X['engagementMetricsDate'] = pd.to_datetime(X['date_playerId'].str.split('_', expand = True)[0])\n",
        "    X['playerId'] = X['date_playerId'].str.split('_', expand = True)[1].astype(int)\n",
        "\n",
        "    # join rosters\n",
        "\n",
        "    if df_dairy['rosters'].notnull().sum() > 0:\n",
        "      df_rosters = pd.concat(map(lambda x: unpack_json(x), df_dairy[df_dairy['rosters'].notnull()]['rosters']), axis=0)\n",
        "      df_rosters['gameDate'] = pd.to_datetime(df_rosters['gameDate'])\n",
        "      self.df_rosters = pd.concat([self.df_rosters, df_rosters],axis=0)\n",
        "      self.df_rosters = self.df_rosters.drop_duplicates()\n",
        "    X = pd.merge(X, self.df_rosters, how='left', left_on=['today', 'playerId'], right_on=['gameDate', 'playerId']).drop(['status'], axis=1)\n",
        "\n",
        "    # join player twitter followers\n",
        "    if df_dairy['playerTwitterFollowers'].notnull().sum() > 0:\n",
        "      df_playerTwitterFollowers = pd.concat(map(lambda x: unpack_json(x),df_dairy[df_dairy['playerTwitterFollowers'].notnull()]['playerTwitterFollowers']),axis=0)\n",
        "      df_playerTwitterFollowers = df_playerTwitterFollowers[['date', 'playerId', 'numberOfFollowers']]\n",
        "      df_playerTwitterFollowers['year'] = df_playerTwitterFollowers['date'].dt.year\n",
        "      df_playerTwitterFollowers['month'] = df_playerTwitterFollowers['date'].dt.month\n",
        "      df_playerTwitterFollowers = df_playerTwitterFollowers.drop('date', axis=1)\n",
        "      self.df_playerTwitterFollowers = pd.concat([self.df_playerTwitterFollowers, df_playerTwitterFollowers], axis=0)\n",
        "      self.df_playerTwitterFollowers = self.df_playerTwitterFollowers.drop_duplicates()\n",
        "    \n",
        "    X = pd.merge(X, self.df_playerTwitterFollowers, how='left', on=['playerId', 'year', 'month'])\n",
        "\n",
        "    # join team twitter followers\n",
        "    if df_dairy['teamTwitterFollowers'].notnull().sum() > 0:\n",
        "      df_teamTwitterFollowers = pd.concat(map(lambda x: unpack_json(x),df_dairy[df_dairy['teamTwitterFollowers'].notnull()]['teamTwitterFollowers']),axis=0)\n",
        "      df_teamTwitterFollowers = df_teamTwitterFollowers[['date', 'teamId', 'numberOfFollowers']]\n",
        "      df_teamTwitterFollowers['year'] = df_teamTwitterFollowers['date'].dt.year\n",
        "      df_teamTwitterFollowers['month'] = df_teamTwitterFollowers['date'].dt.month\n",
        "      df_teamTwitterFollowers = df_teamTwitterFollowers.drop('date', axis=1)\n",
        "      self.df_teamTwitterFollowers = pd.concat([self.df_teamTwitterFollowers, df_playerTwitterFollowers], axis=0).drop_duplicates()\n",
        "    X = pd.merge(X, df_teamTwitterFollowers, how='left', on=['teamId', 'year', 'month'])\n",
        "\n",
        "    # # join games\n",
        "    # df_games = pd.concat(map(lambda x: unpack_json(x),df_dairy[df_dairy['games'].notnull()]['games']),axis=0)\n",
        "    # new_columns = ['gamePk', 'gameType', 'season', 'gameDate', 'gameTimeUTC', 'resumeDate',\n",
        "    #       'resumedFrom', 'codedGameState', 'detailedGameState', 'isTie',\n",
        "    #       'gameNumber', 'doubleHeader', 'dayNight', 'scheduledInnings',\n",
        "    #       'gamesInSeries', 'seriesDescription', 'teamId', 'teamName',\n",
        "    #       'teamAbbrev', 'teamWins', 'teamLosses', 'teamWinPct', 'teamWinner',\n",
        "    #       'teamScore', 'opponentId', 'opponentName', 'opponentAbbrev', 'opponentWins',\n",
        "    #       'opponentLosses', 'opponentWinPct', 'opponentWinner', 'opponentScore']\n",
        "    # df_games_home = df_games.copy()\n",
        "    # df_games_home.columns = new_columns\n",
        "    # df_games_away = df_games.copy()[['gamePk', 'gameType', 'season', 'gameDate', 'gameTimeUTC', 'resumeDate',\n",
        "    #       'resumedFrom', 'codedGameState', 'detailedGameState', 'isTie',\n",
        "    #       'gameNumber', 'doubleHeader', 'dayNight', 'scheduledInnings',\n",
        "    #       'gamesInSeries', 'seriesDescription', 'awayId', 'awayName', 'awayAbbrev', 'awayWins',\n",
        "    #       'awayLosses', 'awayWinPct', 'awayWinner', 'awayScore', 'homeId', 'homeName',\n",
        "    #       'homeAbbrev', 'homeWins', 'homeLosses', 'homeWinPct', 'homeWinner',\n",
        "    #       'homeScore']]\n",
        "    # df_games_away.columns = new_columns\n",
        "    # df_games_2 = pd.concat([df_games_home, df_games_away], axis=0).drop(['teamName', 'teamAbbrev', 'opponentName', 'opponentAbbrev', 'opponentWinner'], axis=1)\n",
        "    # df_games_2['date'] = pd.to_datetime(df_games_2['gameDate'])\n",
        "    # X = pd.merge(X, df_games_2, how='left', on=['teamId', 'date'])\n",
        "    # del new_columns, df_games, df_games_home, df_games_away, df_games_2\n",
        "\n",
        "\n",
        "    # label encoding\n",
        "    if phase == 'train':\n",
        "      X = X.drop(['today', 'date_playerId'], axis=1)\n",
        "      encoded_X = self.label_encoder.fit_transform(X)\n",
        "      X = pd.concat([X['engagementMetricsDate'], encoded_X, SelectNumerical().fit_transform(X)], axis=1)\n",
        "    elif phase == 'eval':\n",
        "      X = X.drop(['today', 'date_playerId'], axis=1)\n",
        "      encoded_X = self.label_encoder.transform(X)\n",
        "      X = pd.concat([X['engagementMetricsDate'], encoded_X, SelectNumerical().fit_transform(X)], axis=1)\n",
        "    \n",
        "    return X\n"
      ],
      "execution_count": null,
      "outputs": []
    },
    {
      "cell_type": "code",
      "metadata": {
        "id": "VzmCDV4B1Qeh",
        "execution": {
          "iopub.status.busy": "2021-06-16T07:43:44.843047Z",
          "iopub.execute_input": "2021-06-16T07:43:44.843325Z",
          "iopub.status.idle": "2021-06-16T07:44:37.044356Z",
          "shell.execute_reply.started": "2021-06-16T07:43:44.8433Z",
          "shell.execute_reply": "2021-06-16T07:44:37.043337Z"
        },
        "trusted": true
      },
      "source": [
        "# make Traing\n",
        "df_train = df[df.date <= 20210331]\n",
        "\n",
        "dts = TrainDataset(df_train, df_train.shape[0])\n",
        "df_dairy, df_submission, targets = next(dts)\n",
        "pre = PreProcessor()\n",
        "\n",
        "X = pre.pre_process(df_dairy, df_submission)\n",
        "\n",
        "# join targets\n",
        "df_targets = pd.concat(map(lambda z: unpack_json(z), targets), axis=0)\n",
        "df_targets['engagementMetricsDate'] = pd.to_datetime(df_targets['engagementMetricsDate'])\n",
        "y = pd.merge(X[['engagementMetricsDate', 'playerId']], df_targets, on=['engagementMetricsDate', 'playerId'], how='left')\n",
        "del df_targets\n",
        "\n"
      ],
      "execution_count": null,
      "outputs": []
    },
    {
      "cell_type": "code",
      "metadata": {
        "id": "iiGziG15iykl",
        "execution": {
          "iopub.status.busy": "2021-06-16T07:44:37.045893Z",
          "iopub.execute_input": "2021-06-16T07:44:37.046239Z",
          "iopub.status.idle": "2021-06-16T07:44:39.753194Z",
          "shell.execute_reply.started": "2021-06-16T07:44:37.046201Z",
          "shell.execute_reply": "2021-06-16T07:44:39.752422Z"
        },
        "trusted": true,
        "colab": {
          "base_uri": "https://localhost:8080/"
        },
        "outputId": "d295fb66-6c6e-4289-c5f1-d3179814786b"
      },
      "source": [
        "# make Validation\n",
        "df_valid = df[(df.date >= 20210401) & (df.date <= 20210430)]\n",
        "dts = TrainDataset(df_valid, df_valid.shape[0])\n",
        "\n",
        "df_dairy, df_submission, targets = next(dts)\n",
        "\n",
        "X_val = pre.pre_process(df_dairy, df_submission, phase='eval')\n",
        "df_targets = pd.concat(map(lambda z: unpack_json(z), targets), axis=0)\n",
        "df_targets['engagementMetricsDate'] = pd.to_datetime(df_targets['engagementMetricsDate'])\n",
        "y_val = pd.merge(X_val[['engagementMetricsDate', 'playerId']], df_targets, on=['engagementMetricsDate', 'playerId'], how='left')\n",
        "\n",
        "del df_targets\n",
        "\n",
        "print(df_valid.shape, X_val.shape, y_val.shape)"
      ],
      "execution_count": null,
      "outputs": [
        {
          "output_type": "stream",
          "text": [
            "(30, 12) (61830, 11) (61830, 6)\n"
          ],
          "name": "stdout"
        }
      ]
    },
    {
      "cell_type": "code",
      "metadata": {
        "id": "r-Q7j_6WYnFf"
      },
      "source": [
        ""
      ],
      "execution_count": null,
      "outputs": []
    },
    {
      "cell_type": "code",
      "metadata": {
        "id": "yHSepUs2Ym72"
      },
      "source": [
        ""
      ],
      "execution_count": null,
      "outputs": []
    },
    {
      "cell_type": "code",
      "metadata": {
        "id": "f3IsYXW0YmvM"
      },
      "source": [
        ""
      ],
      "execution_count": null,
      "outputs": []
    },
    {
      "cell_type": "code",
      "metadata": {
        "id": "xfs_ChmjRlwP",
        "execution": {
          "iopub.status.busy": "2021-06-16T07:44:39.754317Z",
          "iopub.execute_input": "2021-06-16T07:44:39.754746Z",
          "iopub.status.idle": "2021-06-16T07:44:39.891659Z",
          "shell.execute_reply.started": "2021-06-16T07:44:39.754684Z",
          "shell.execute_reply": "2021-06-16T07:44:39.890776Z"
        },
        "trusted": true,
        "colab": {
          "base_uri": "https://localhost:8080/"
        },
        "outputId": "d03f412e-cfb7-4800-8800-95e700207ab7"
      },
      "source": [
        "gc.collect()"
      ],
      "execution_count": null,
      "outputs": [
        {
          "output_type": "execute_result",
          "data": {
            "text/plain": [
              "226"
            ]
          },
          "metadata": {
            "tags": []
          },
          "execution_count": 97
        }
      ]
    },
    {
      "cell_type": "code",
      "metadata": {
        "id": "LQuEYiuyQ7Ia",
        "execution": {
          "iopub.status.busy": "2021-06-16T07:44:39.892744Z",
          "iopub.execute_input": "2021-06-16T07:44:39.893179Z",
          "iopub.status.idle": "2021-06-16T07:44:51.150643Z",
          "shell.execute_reply.started": "2021-06-16T07:44:39.893149Z",
          "shell.execute_reply": "2021-06-16T07:44:51.149161Z"
        },
        "trusted": true,
        "colab": {
          "base_uri": "https://localhost:8080/"
        },
        "outputId": "a7d7b493-fd22-44ac-dfad-120dc5c6c8fa"
      },
      "source": [
        "import lightgbm as lgb\n",
        "\n",
        "params = {'objective': 'regression',\n",
        "             'metric': 'rmse',\n",
        "             'verbose': -1,\n",
        "             'feature_pre_filter': False,\n",
        "            #  'lambda_l1': 1.9246603611247695,\n",
        "            #  'lambda_l2': 0.0015207873611208637,\n",
        "             'num_leaves': 45,\n",
        "            #  'feature_fraction': 0.616,\n",
        "             'bagging_fraction': 1.0,\n",
        "             'bagging_freq': 0,\n",
        "             'min_child_samples': 20,\n",
        "}\n",
        "\n",
        "target_columns = ['target1', 'target2', 'target3', 'target4']\n",
        "\n",
        "models = []\n",
        "for target_column in target_columns:\n",
        "  lgb_train = lgb.Dataset(X.drop(['engagementMetricsDate'], axis=1), y[target_column])\n",
        "  lgb_valid = lgb.Dataset(X_val.drop(['engagementMetricsDate'], axis=1), y_val[target_column])\n",
        "  model = lgb.train(params, lgb_train, num_boost_round=200, valid_sets=lgb_valid, early_stopping_rounds=10)\n",
        "  models.append(model)"
      ],
      "execution_count": null,
      "outputs": [
        {
          "output_type": "stream",
          "text": [
            "[1]\tvalid_0's rmse: 4.62915\n",
            "Training until validation scores don't improve for 10 rounds.\n",
            "[2]\tvalid_0's rmse: 4.58582\n",
            "[3]\tvalid_0's rmse: 4.57103\n",
            "[4]\tvalid_0's rmse: 4.54758\n",
            "[5]\tvalid_0's rmse: 4.52718\n",
            "[6]\tvalid_0's rmse: 4.51175\n",
            "[7]\tvalid_0's rmse: 4.48785\n",
            "[8]\tvalid_0's rmse: 4.47566\n",
            "[9]\tvalid_0's rmse: 4.45978\n",
            "[10]\tvalid_0's rmse: 4.45031\n",
            "[11]\tvalid_0's rmse: 4.43717\n",
            "[12]\tvalid_0's rmse: 4.43466\n",
            "[13]\tvalid_0's rmse: 4.4251\n",
            "[14]\tvalid_0's rmse: 4.4236\n",
            "[15]\tvalid_0's rmse: 4.41947\n",
            "[16]\tvalid_0's rmse: 4.41575\n",
            "[17]\tvalid_0's rmse: 4.41212\n",
            "[18]\tvalid_0's rmse: 4.40879\n",
            "[19]\tvalid_0's rmse: 4.40747\n",
            "[20]\tvalid_0's rmse: 4.40486\n",
            "[21]\tvalid_0's rmse: 4.40002\n",
            "[22]\tvalid_0's rmse: 4.39879\n",
            "[23]\tvalid_0's rmse: 4.39753\n",
            "[24]\tvalid_0's rmse: 4.39552\n",
            "[25]\tvalid_0's rmse: 4.39427\n",
            "[26]\tvalid_0's rmse: 4.39401\n",
            "[27]\tvalid_0's rmse: 4.39532\n",
            "[28]\tvalid_0's rmse: 4.39409\n",
            "[29]\tvalid_0's rmse: 4.38919\n",
            "[30]\tvalid_0's rmse: 4.38922\n",
            "[31]\tvalid_0's rmse: 4.38613\n",
            "[32]\tvalid_0's rmse: 4.3863\n",
            "[33]\tvalid_0's rmse: 4.38561\n",
            "[34]\tvalid_0's rmse: 4.38425\n",
            "[35]\tvalid_0's rmse: 4.38434\n",
            "[36]\tvalid_0's rmse: 4.38447\n",
            "[37]\tvalid_0's rmse: 4.38706\n",
            "[38]\tvalid_0's rmse: 4.38716\n",
            "[39]\tvalid_0's rmse: 4.38722\n",
            "[40]\tvalid_0's rmse: 4.38465\n",
            "[41]\tvalid_0's rmse: 4.38544\n",
            "[42]\tvalid_0's rmse: 4.38476\n",
            "[43]\tvalid_0's rmse: 4.38492\n",
            "[44]\tvalid_0's rmse: 4.38862\n",
            "Early stopping, best iteration is:\n",
            "[34]\tvalid_0's rmse: 4.38425\n",
            "[1]\tvalid_0's rmse: 6.04159\n",
            "Training until validation scores don't improve for 10 rounds.\n",
            "[2]\tvalid_0's rmse: 6.00224\n",
            "[3]\tvalid_0's rmse: 5.89471\n",
            "[4]\tvalid_0's rmse: 5.81697\n",
            "[5]\tvalid_0's rmse: 5.75145\n",
            "[6]\tvalid_0's rmse: 5.70093\n",
            "[7]\tvalid_0's rmse: 5.66242\n",
            "[8]\tvalid_0's rmse: 5.63519\n",
            "[9]\tvalid_0's rmse: 5.62743\n",
            "[10]\tvalid_0's rmse: 5.62325\n",
            "[11]\tvalid_0's rmse: 5.591\n",
            "[12]\tvalid_0's rmse: 5.58508\n",
            "[13]\tvalid_0's rmse: 5.58447\n",
            "[14]\tvalid_0's rmse: 5.57883\n",
            "[15]\tvalid_0's rmse: 5.57276\n",
            "[16]\tvalid_0's rmse: 5.5643\n",
            "[17]\tvalid_0's rmse: 5.56119\n",
            "[18]\tvalid_0's rmse: 5.55832\n",
            "[19]\tvalid_0's rmse: 5.56131\n",
            "[20]\tvalid_0's rmse: 5.55306\n",
            "[21]\tvalid_0's rmse: 5.55316\n",
            "[22]\tvalid_0's rmse: 5.55394\n",
            "[23]\tvalid_0's rmse: 5.55719\n",
            "[24]\tvalid_0's rmse: 5.55444\n",
            "[25]\tvalid_0's rmse: 5.55772\n",
            "[26]\tvalid_0's rmse: 5.557\n",
            "[27]\tvalid_0's rmse: 5.55774\n",
            "[28]\tvalid_0's rmse: 5.56422\n",
            "[29]\tvalid_0's rmse: 5.56198\n",
            "[30]\tvalid_0's rmse: 5.56113\n",
            "Early stopping, best iteration is:\n",
            "[20]\tvalid_0's rmse: 5.55306\n",
            "[1]\tvalid_0's rmse: 4.3028\n",
            "Training until validation scores don't improve for 10 rounds.\n",
            "[2]\tvalid_0's rmse: 4.28676\n",
            "[3]\tvalid_0's rmse: 4.26716\n",
            "[4]\tvalid_0's rmse: 4.25147\n",
            "[5]\tvalid_0's rmse: 4.22273\n",
            "[6]\tvalid_0's rmse: 4.21051\n",
            "[7]\tvalid_0's rmse: 4.20534\n",
            "[8]\tvalid_0's rmse: 4.20031\n",
            "[9]\tvalid_0's rmse: 4.1998\n",
            "[10]\tvalid_0's rmse: 4.20021\n",
            "[11]\tvalid_0's rmse: 4.1993\n",
            "[12]\tvalid_0's rmse: 4.19659\n",
            "[13]\tvalid_0's rmse: 4.19192\n",
            "[14]\tvalid_0's rmse: 4.19273\n",
            "[15]\tvalid_0's rmse: 4.19337\n",
            "[16]\tvalid_0's rmse: 4.19493\n",
            "[17]\tvalid_0's rmse: 4.19748\n",
            "[18]\tvalid_0's rmse: 4.20111\n",
            "[19]\tvalid_0's rmse: 4.20078\n",
            "[20]\tvalid_0's rmse: 4.20179\n",
            "[21]\tvalid_0's rmse: 4.20197\n",
            "[22]\tvalid_0's rmse: 4.20234\n",
            "[23]\tvalid_0's rmse: 4.20245\n",
            "Early stopping, best iteration is:\n",
            "[13]\tvalid_0's rmse: 4.19192\n",
            "[1]\tvalid_0's rmse: 4.98166\n",
            "Training until validation scores don't improve for 10 rounds.\n",
            "[2]\tvalid_0's rmse: 4.87566\n",
            "[3]\tvalid_0's rmse: 4.80828\n",
            "[4]\tvalid_0's rmse: 4.75824\n",
            "[5]\tvalid_0's rmse: 4.71381\n",
            "[6]\tvalid_0's rmse: 4.67161\n",
            "[7]\tvalid_0's rmse: 4.63903\n",
            "[8]\tvalid_0's rmse: 4.60989\n",
            "[9]\tvalid_0's rmse: 4.60031\n",
            "[10]\tvalid_0's rmse: 4.602\n",
            "[11]\tvalid_0's rmse: 4.59523\n",
            "[12]\tvalid_0's rmse: 4.56063\n",
            "[13]\tvalid_0's rmse: 4.55238\n",
            "[14]\tvalid_0's rmse: 4.54745\n",
            "[15]\tvalid_0's rmse: 4.54106\n",
            "[16]\tvalid_0's rmse: 4.53226\n",
            "[17]\tvalid_0's rmse: 4.53353\n",
            "[18]\tvalid_0's rmse: 4.52866\n",
            "[19]\tvalid_0's rmse: 4.52497\n",
            "[20]\tvalid_0's rmse: 4.53242\n",
            "[21]\tvalid_0's rmse: 4.53386\n",
            "[22]\tvalid_0's rmse: 4.53435\n",
            "[23]\tvalid_0's rmse: 4.5284\n",
            "[24]\tvalid_0's rmse: 4.52288\n",
            "[25]\tvalid_0's rmse: 4.52094\n",
            "[26]\tvalid_0's rmse: 4.51822\n",
            "[27]\tvalid_0's rmse: 4.51904\n",
            "[28]\tvalid_0's rmse: 4.51607\n",
            "[29]\tvalid_0's rmse: 4.51535\n",
            "[30]\tvalid_0's rmse: 4.51574\n",
            "[31]\tvalid_0's rmse: 4.51239\n",
            "[32]\tvalid_0's rmse: 4.51905\n",
            "[33]\tvalid_0's rmse: 4.51508\n",
            "[34]\tvalid_0's rmse: 4.51585\n",
            "[35]\tvalid_0's rmse: 4.51154\n",
            "[36]\tvalid_0's rmse: 4.51196\n",
            "[37]\tvalid_0's rmse: 4.5103\n",
            "[38]\tvalid_0's rmse: 4.50859\n",
            "[39]\tvalid_0's rmse: 4.50148\n",
            "[40]\tvalid_0's rmse: 4.48205\n",
            "[41]\tvalid_0's rmse: 4.48286\n",
            "[42]\tvalid_0's rmse: 4.4838\n",
            "[43]\tvalid_0's rmse: 4.48312\n",
            "[44]\tvalid_0's rmse: 4.47547\n",
            "[45]\tvalid_0's rmse: 4.47428\n",
            "[46]\tvalid_0's rmse: 4.47344\n",
            "[47]\tvalid_0's rmse: 4.47344\n",
            "[48]\tvalid_0's rmse: 4.47421\n",
            "[49]\tvalid_0's rmse: 4.47242\n",
            "[50]\tvalid_0's rmse: 4.47447\n",
            "[51]\tvalid_0's rmse: 4.47456\n",
            "[52]\tvalid_0's rmse: 4.47456\n",
            "[53]\tvalid_0's rmse: 4.48216\n",
            "[54]\tvalid_0's rmse: 4.48193\n",
            "[55]\tvalid_0's rmse: 4.48376\n",
            "[56]\tvalid_0's rmse: 4.48161\n",
            "[57]\tvalid_0's rmse: 4.48174\n",
            "[58]\tvalid_0's rmse: 4.48171\n",
            "[59]\tvalid_0's rmse: 4.48353\n",
            "Early stopping, best iteration is:\n",
            "[49]\tvalid_0's rmse: 4.47242\n"
          ],
          "name": "stdout"
        }
      ]
    },
    {
      "cell_type": "code",
      "metadata": {
        "colab": {
          "base_uri": "https://localhost:8080/"
        },
        "id": "bmTSuhMXfzmt",
        "outputId": "3c7f3ee6-15bb-429d-83d9-92e0b5c88db6"
      },
      "source": [
        "import json\n",
        "cv_scores = {}\n",
        "for t_col, model in zip(target_columns, models):\n",
        "  print(model.best_score['valid_0']['rmse'])\n",
        "  cv_scores[t_col] = model.best_score['valid_0']['rmse']\n",
        "\n",
        "with open('cv_scores.json', 'w') as fp:\n",
        "  json.dump(cv_scores, fp)"
      ],
      "execution_count": null,
      "outputs": [
        {
          "output_type": "stream",
          "text": [
            "4.384251856505206\n",
            "5.553063301201851\n",
            "4.191920716537348\n",
            "4.47242286294465\n"
          ],
          "name": "stdout"
        }
      ]
    },
    {
      "cell_type": "code",
      "metadata": {
        "id": "2ySfF8lpQ62s",
        "execution": {
          "iopub.status.busy": "2021-06-16T07:44:51.151967Z",
          "iopub.execute_input": "2021-06-16T07:44:51.152271Z",
          "iopub.status.idle": "2021-06-16T07:44:51.156331Z",
          "shell.execute_reply.started": "2021-06-16T07:44:51.152241Z",
          "shell.execute_reply": "2021-06-16T07:44:51.155044Z"
        },
        "trusted": true
      },
      "source": [
        "VIRTUAL_TEST = False\n",
        "\n",
        "if VIRTUAL_TEST:\n",
        "  df_test = df[(df.date >= 20210401) & (df.date <= 20210430)]\n",
        "  iter_test = TrainDataset(df_valid, 5)\n",
        "  for df_dairy, df_submission, _ in iter_test:\n",
        "    X = pre.pre_process(df_dairy, df_submission, phase='eval')\n",
        "    X = X.drop('engagementMetricsDate', axis=1)\n",
        "    for (i, model) in enumerate(models):\n",
        "      df_submission[target_columns[i]] = np.clip(model.predict(X), 0.0, 100.0)    "
      ],
      "execution_count": null,
      "outputs": []
    },
    {
      "cell_type": "code",
      "metadata": {
        "id": "W55rbnBuOb-x"
      },
      "source": [
        ""
      ],
      "execution_count": null,
      "outputs": []
    },
    {
      "cell_type": "code",
      "metadata": {
        "id": "lbXJqQyz8byL",
        "execution": {
          "iopub.status.busy": "2021-06-16T07:44:51.157769Z",
          "iopub.execute_input": "2021-06-16T07:44:51.158068Z",
          "iopub.status.idle": "2021-06-16T07:44:58.068262Z",
          "shell.execute_reply.started": "2021-06-16T07:44:51.158032Z",
          "shell.execute_reply": "2021-06-16T07:44:58.067223Z"
        },
        "trusted": true
      },
      "source": [
        "if 'kaggle_secrets' in sys.modules:  # only run while on Kaggle\n",
        "  import mlb\n",
        "\n",
        "  env = mlb.make_env()\n",
        "  iter_test = env.iter_test()\n",
        "\n",
        "  for df_dairy, df_submission in iter_test:\n",
        "    X = pre.pre_process(df_dairy, df_submission, phase='eval')\n",
        "    X = X.drop('engagementMetricsDate', axis=1)\n",
        "\n",
        "    for (i, model) in enumerate(models):\n",
        "      df_submission[target_columns[i]] = np.clip(model.predict(X), 0.0, 100.0)\n",
        "\n",
        "    env.predict(df_submission)"
      ],
      "execution_count": null,
      "outputs": []
    },
    {
      "cell_type": "code",
      "metadata": {
        "id": "aCvYQ_Io7C14"
      },
      "source": [
        "\n"
      ],
      "execution_count": null,
      "outputs": []
    }
  ]
}