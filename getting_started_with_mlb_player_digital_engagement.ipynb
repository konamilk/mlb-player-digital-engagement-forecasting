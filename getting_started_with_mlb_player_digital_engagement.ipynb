{
  "nbformat": 4,
  "nbformat_minor": 0,
  "metadata": {
    "kernelspec": {
      "language": "python",
      "display_name": "Python 3",
      "name": "python3"
    },
    "language_info": {
      "pygments_lexer": "ipython3",
      "nbconvert_exporter": "python",
      "version": "3.6.4",
      "file_extension": ".py",
      "codemirror_mode": {
        "name": "ipython",
        "version": 3
      },
      "name": "python",
      "mimetype": "text/x-python"
    },
    "colab": {
      "name": "getting-started-with-mlb-player-digital-engagement.ipynb",
      "provenance": [],
      "collapsed_sections": [],
      "include_colab_link": true
    },
    "widgets": {
      "application/vnd.jupyter.widget-state+json": {
        "03f00cb9e9334789a33159e05fe7c35c": {
          "model_module": "@jupyter-widgets/controls",
          "model_name": "TabModel",
          "state": {
            "_view_name": "TabView",
            "_dom_classes": [],
            "_titles": {
              "0": "seasons",
              "1": "teams",
              "2": "players",
              "3": "awards"
            },
            "_model_name": "TabModel",
            "_view_module": "@jupyter-widgets/controls",
            "selected_index": 2,
            "_model_module_version": "1.5.0",
            "_view_count": null,
            "_view_module_version": "1.5.0",
            "box_style": "",
            "layout": "IPY_MODEL_9281253c412b417aabce15fc382c96dd",
            "_model_module": "@jupyter-widgets/controls",
            "children": [
              "IPY_MODEL_b335b61853244e47a02e9e54e1c97895",
              "IPY_MODEL_8a408e0eb1ba4b87a2eb74103588757c",
              "IPY_MODEL_b2e0ba4b0e9349658dc9b29fce31ef6b",
              "IPY_MODEL_ff513cc4d21b471e83036ceb0f6e6d98"
            ]
          }
        },
        "9281253c412b417aabce15fc382c96dd": {
          "model_module": "@jupyter-widgets/base",
          "model_name": "LayoutModel",
          "state": {
            "_view_name": "LayoutView",
            "grid_template_rows": null,
            "right": null,
            "justify_content": null,
            "_view_module": "@jupyter-widgets/base",
            "overflow": null,
            "_model_module_version": "1.2.0",
            "_view_count": null,
            "flex_flow": null,
            "width": null,
            "min_width": null,
            "border": null,
            "align_items": null,
            "bottom": null,
            "_model_module": "@jupyter-widgets/base",
            "top": null,
            "grid_column": null,
            "overflow_y": null,
            "overflow_x": null,
            "grid_auto_flow": null,
            "grid_area": null,
            "grid_template_columns": null,
            "flex": null,
            "_model_name": "LayoutModel",
            "justify_items": null,
            "grid_row": null,
            "max_height": null,
            "align_content": null,
            "visibility": null,
            "align_self": null,
            "height": null,
            "min_height": null,
            "padding": null,
            "grid_auto_rows": null,
            "grid_gap": null,
            "max_width": null,
            "order": null,
            "_view_module_version": "1.2.0",
            "grid_template_areas": null,
            "object_position": null,
            "object_fit": null,
            "grid_auto_columns": null,
            "margin": null,
            "display": null,
            "left": null
          }
        },
        "b335b61853244e47a02e9e54e1c97895": {
          "model_module": "@jupyter-widgets/output",
          "model_name": "OutputModel",
          "state": {
            "_view_name": "OutputView",
            "msg_id": "",
            "_dom_classes": [],
            "_model_name": "OutputModel",
            "outputs": [
              {
                "output_type": "display_data",
                "metadata": {
                  "tags": []
                },
                "text/html": "<div>\n<style scoped>\n    .dataframe tbody tr th:only-of-type {\n        vertical-align: middle;\n    }\n\n    .dataframe tbody tr th {\n        vertical-align: top;\n    }\n\n    .dataframe thead th {\n        text-align: right;\n    }\n</style>\n<table border=\"1\" class=\"dataframe\">\n  <thead>\n    <tr style=\"text-align: right;\">\n      <th></th>\n      <th>seasonId</th>\n      <th>seasonStartDate</th>\n      <th>seasonEndDate</th>\n      <th>preSeasonStartDate</th>\n      <th>preSeasonEndDate</th>\n      <th>regularSeasonStartDate</th>\n      <th>regularSeasonEndDate</th>\n      <th>lastDate1stHalf</th>\n      <th>allStarDate</th>\n      <th>firstDate2ndHalf</th>\n      <th>postSeasonStartDate</th>\n      <th>postSeasonEndDate</th>\n    </tr>\n  </thead>\n  <tbody>\n    <tr>\n      <th>0</th>\n      <td>2017</td>\n      <td>2017-04-02</td>\n      <td>2017-11-01</td>\n      <td>2017-02-22</td>\n      <td>2017-04-01</td>\n      <td>2017-04-02</td>\n      <td>2017-10-01</td>\n      <td>2017-07-09</td>\n      <td>2017-07-11</td>\n      <td>2017-07-14</td>\n      <td>2017-10-03</td>\n      <td>2017-11-01</td>\n    </tr>\n    <tr>\n      <th>1</th>\n      <td>2018</td>\n      <td>2018-03-29</td>\n      <td>2018-10-28</td>\n      <td>2018-02-21</td>\n      <td>2018-03-27</td>\n      <td>2018-03-29</td>\n      <td>2018-10-01</td>\n      <td>2018-07-15</td>\n      <td>2018-07-17</td>\n      <td>2018-07-19</td>\n      <td>2018-10-02</td>\n      <td>2018-10-28</td>\n    </tr>\n    <tr>\n      <th>2</th>\n      <td>2019</td>\n      <td>2019-03-20</td>\n      <td>2019-10-30</td>\n      <td>2019-02-21</td>\n      <td>2019-03-26</td>\n      <td>2019-03-20</td>\n      <td>2019-09-29</td>\n      <td>2019-07-07</td>\n      <td>2019-07-09</td>\n      <td>2019-07-11</td>\n      <td>2019-10-01</td>\n      <td>2019-10-30</td>\n    </tr>\n    <tr>\n      <th>3</th>\n      <td>2020</td>\n      <td>2020-07-23</td>\n      <td>2020-10-28</td>\n      <td>2020-02-21</td>\n      <td>2020-07-22</td>\n      <td>2020-07-23</td>\n      <td>2020-09-27</td>\n      <td>2020-08-25</td>\n      <td>NaN</td>\n      <td>2020-08-26</td>\n      <td>2020-09-29</td>\n      <td>2020-10-28</td>\n    </tr>\n    <tr>\n      <th>4</th>\n      <td>2021</td>\n      <td>2021-02-28</td>\n      <td>2021-10-31</td>\n      <td>2021-02-28</td>\n      <td>2021-03-30</td>\n      <td>2021-04-01</td>\n      <td>2021-10-03</td>\n      <td>2021-07-11</td>\n      <td>2021-07-13</td>\n      <td>2021-07-15</td>\n      <td>2021-10-04</td>\n      <td>2021-10-31</td>\n    </tr>\n  </tbody>\n</table>\n</div>",
                "text/plain": "   seasonId seasonStartDate  ... postSeasonStartDate postSeasonEndDate\n0      2017      2017-04-02  ...          2017-10-03        2017-11-01\n1      2018      2018-03-29  ...          2018-10-02        2018-10-28\n2      2019      2019-03-20  ...          2019-10-01        2019-10-30\n3      2020      2020-07-23  ...          2020-09-29        2020-10-28\n4      2021      2021-02-28  ...          2021-10-04        2021-10-31\n\n[5 rows x 12 columns]"
              }
            ],
            "_view_module": "@jupyter-widgets/output",
            "_model_module_version": "1.0.0",
            "_view_count": null,
            "_view_module_version": "1.0.0",
            "layout": "IPY_MODEL_4628a3884c1f45a4a2a71f22dca6ffca",
            "_model_module": "@jupyter-widgets/output"
          }
        },
        "8a408e0eb1ba4b87a2eb74103588757c": {
          "model_module": "@jupyter-widgets/output",
          "model_name": "OutputModel",
          "state": {
            "_view_name": "OutputView",
            "msg_id": "",
            "_dom_classes": [],
            "_model_name": "OutputModel",
            "outputs": [
              {
                "output_type": "display_data",
                "metadata": {
                  "tags": []
                },
                "text/html": "<div>\n<style scoped>\n    .dataframe tbody tr th:only-of-type {\n        vertical-align: middle;\n    }\n\n    .dataframe tbody tr th {\n        vertical-align: top;\n    }\n\n    .dataframe thead th {\n        text-align: right;\n    }\n</style>\n<table border=\"1\" class=\"dataframe\">\n  <thead>\n    <tr style=\"text-align: right;\">\n      <th></th>\n      <th>id</th>\n      <th>name</th>\n      <th>teamName</th>\n      <th>teamCode</th>\n      <th>shortName</th>\n      <th>abbreviation</th>\n      <th>locationName</th>\n      <th>leagueId</th>\n      <th>leagueName</th>\n      <th>divisionId</th>\n      <th>divisionName</th>\n      <th>venueId</th>\n      <th>venueName</th>\n    </tr>\n  </thead>\n  <tbody>\n    <tr>\n      <th>0</th>\n      <td>108</td>\n      <td>Los Angeles Angels</td>\n      <td>Angels</td>\n      <td>ana</td>\n      <td>LA Angels</td>\n      <td>LAA</td>\n      <td>Anaheim</td>\n      <td>103</td>\n      <td>American League</td>\n      <td>200</td>\n      <td>American League West</td>\n      <td>1</td>\n      <td>Angel Stadium</td>\n    </tr>\n    <tr>\n      <th>1</th>\n      <td>109</td>\n      <td>Arizona Diamondbacks</td>\n      <td>D-backs</td>\n      <td>ari</td>\n      <td>Arizona</td>\n      <td>ARI</td>\n      <td>Phoenix</td>\n      <td>104</td>\n      <td>National League</td>\n      <td>203</td>\n      <td>National League West</td>\n      <td>15</td>\n      <td>Chase Field</td>\n    </tr>\n    <tr>\n      <th>2</th>\n      <td>110</td>\n      <td>Baltimore Orioles</td>\n      <td>Orioles</td>\n      <td>bal</td>\n      <td>Baltimore</td>\n      <td>BAL</td>\n      <td>Baltimore</td>\n      <td>103</td>\n      <td>American League</td>\n      <td>201</td>\n      <td>American League East</td>\n      <td>2</td>\n      <td>Oriole Park at Camden Yards</td>\n    </tr>\n    <tr>\n      <th>3</th>\n      <td>111</td>\n      <td>Boston Red Sox</td>\n      <td>Red Sox</td>\n      <td>bos</td>\n      <td>Boston</td>\n      <td>BOS</td>\n      <td>Boston</td>\n      <td>103</td>\n      <td>American League</td>\n      <td>201</td>\n      <td>American League East</td>\n      <td>3</td>\n      <td>Fenway Park</td>\n    </tr>\n    <tr>\n      <th>4</th>\n      <td>112</td>\n      <td>Chicago Cubs</td>\n      <td>Cubs</td>\n      <td>chn</td>\n      <td>Chi Cubs</td>\n      <td>CHC</td>\n      <td>Chicago</td>\n      <td>104</td>\n      <td>National League</td>\n      <td>205</td>\n      <td>National League Central</td>\n      <td>17</td>\n      <td>Wrigley Field</td>\n    </tr>\n    <tr>\n      <th>5</th>\n      <td>113</td>\n      <td>Cincinnati Reds</td>\n      <td>Reds</td>\n      <td>cin</td>\n      <td>Cincinnati</td>\n      <td>CIN</td>\n      <td>Cincinnati</td>\n      <td>104</td>\n      <td>National League</td>\n      <td>205</td>\n      <td>National League Central</td>\n      <td>2602</td>\n      <td>Great American Ball Park</td>\n    </tr>\n    <tr>\n      <th>6</th>\n      <td>114</td>\n      <td>Cleveland Indians</td>\n      <td>Indians</td>\n      <td>cle</td>\n      <td>Cleveland</td>\n      <td>CLE</td>\n      <td>Cleveland</td>\n      <td>103</td>\n      <td>American League</td>\n      <td>202</td>\n      <td>American League Central</td>\n      <td>5</td>\n      <td>Progressive Field</td>\n    </tr>\n    <tr>\n      <th>7</th>\n      <td>115</td>\n      <td>Colorado Rockies</td>\n      <td>Rockies</td>\n      <td>col</td>\n      <td>Colorado</td>\n      <td>COL</td>\n      <td>Denver</td>\n      <td>104</td>\n      <td>National League</td>\n      <td>203</td>\n      <td>National League West</td>\n      <td>19</td>\n      <td>Coors Field</td>\n    </tr>\n    <tr>\n      <th>8</th>\n      <td>116</td>\n      <td>Detroit Tigers</td>\n      <td>Tigers</td>\n      <td>det</td>\n      <td>Detroit</td>\n      <td>DET</td>\n      <td>Detroit</td>\n      <td>103</td>\n      <td>American League</td>\n      <td>202</td>\n      <td>American League Central</td>\n      <td>2394</td>\n      <td>Comerica Park</td>\n    </tr>\n    <tr>\n      <th>9</th>\n      <td>117</td>\n      <td>Houston Astros</td>\n      <td>Astros</td>\n      <td>hou</td>\n      <td>Houston</td>\n      <td>HOU</td>\n      <td>Houston</td>\n      <td>103</td>\n      <td>American League</td>\n      <td>200</td>\n      <td>American League West</td>\n      <td>2392</td>\n      <td>Minute Maid Park</td>\n    </tr>\n    <tr>\n      <th>10</th>\n      <td>118</td>\n      <td>Kansas City Royals</td>\n      <td>Royals</td>\n      <td>kca</td>\n      <td>Kansas City</td>\n      <td>KC</td>\n      <td>Kansas City</td>\n      <td>103</td>\n      <td>American League</td>\n      <td>202</td>\n      <td>American League Central</td>\n      <td>7</td>\n      <td>Kauffman Stadium</td>\n    </tr>\n    <tr>\n      <th>11</th>\n      <td>119</td>\n      <td>Los Angeles Dodgers</td>\n      <td>Dodgers</td>\n      <td>lan</td>\n      <td>LA Dodgers</td>\n      <td>LAD</td>\n      <td>Los Angeles</td>\n      <td>104</td>\n      <td>National League</td>\n      <td>203</td>\n      <td>National League West</td>\n      <td>22</td>\n      <td>Dodger Stadium</td>\n    </tr>\n    <tr>\n      <th>12</th>\n      <td>120</td>\n      <td>Washington Nationals</td>\n      <td>Nationals</td>\n      <td>was</td>\n      <td>Washington</td>\n      <td>WSH</td>\n      <td>Washington</td>\n      <td>104</td>\n      <td>National League</td>\n      <td>204</td>\n      <td>National League East</td>\n      <td>3309</td>\n      <td>Nationals Park</td>\n    </tr>\n    <tr>\n      <th>13</th>\n      <td>121</td>\n      <td>New York Mets</td>\n      <td>Mets</td>\n      <td>nyn</td>\n      <td>NY Mets</td>\n      <td>NYM</td>\n      <td>Flushing</td>\n      <td>104</td>\n      <td>National League</td>\n      <td>204</td>\n      <td>National League East</td>\n      <td>3289</td>\n      <td>Citi Field</td>\n    </tr>\n    <tr>\n      <th>14</th>\n      <td>133</td>\n      <td>Oakland Athletics</td>\n      <td>Athletics</td>\n      <td>oak</td>\n      <td>Oakland</td>\n      <td>OAK</td>\n      <td>Oakland</td>\n      <td>103</td>\n      <td>American League</td>\n      <td>200</td>\n      <td>American League West</td>\n      <td>10</td>\n      <td>Oakland Coliseum</td>\n    </tr>\n    <tr>\n      <th>15</th>\n      <td>134</td>\n      <td>Pittsburgh Pirates</td>\n      <td>Pirates</td>\n      <td>pit</td>\n      <td>Pittsburgh</td>\n      <td>PIT</td>\n      <td>Pittsburgh</td>\n      <td>104</td>\n      <td>National League</td>\n      <td>205</td>\n      <td>National League Central</td>\n      <td>31</td>\n      <td>PNC Park</td>\n    </tr>\n    <tr>\n      <th>16</th>\n      <td>135</td>\n      <td>San Diego Padres</td>\n      <td>Padres</td>\n      <td>sdn</td>\n      <td>San Diego</td>\n      <td>SD</td>\n      <td>San Diego</td>\n      <td>104</td>\n      <td>National League</td>\n      <td>203</td>\n      <td>National League West</td>\n      <td>2680</td>\n      <td>Petco Park</td>\n    </tr>\n    <tr>\n      <th>17</th>\n      <td>136</td>\n      <td>Seattle Mariners</td>\n      <td>Mariners</td>\n      <td>sea</td>\n      <td>Seattle</td>\n      <td>SEA</td>\n      <td>Seattle</td>\n      <td>103</td>\n      <td>American League</td>\n      <td>200</td>\n      <td>American League West</td>\n      <td>680</td>\n      <td>T-Mobile Park</td>\n    </tr>\n    <tr>\n      <th>18</th>\n      <td>137</td>\n      <td>San Francisco Giants</td>\n      <td>Giants</td>\n      <td>sfn</td>\n      <td>San Francisco</td>\n      <td>SF</td>\n      <td>San Francisco</td>\n      <td>104</td>\n      <td>National League</td>\n      <td>203</td>\n      <td>National League West</td>\n      <td>2395</td>\n      <td>Oracle Park</td>\n    </tr>\n    <tr>\n      <th>19</th>\n      <td>138</td>\n      <td>St. Louis Cardinals</td>\n      <td>Cardinals</td>\n      <td>sln</td>\n      <td>St. Louis</td>\n      <td>STL</td>\n      <td>St. Louis</td>\n      <td>104</td>\n      <td>National League</td>\n      <td>205</td>\n      <td>National League Central</td>\n      <td>2889</td>\n      <td>Busch Stadium</td>\n    </tr>\n    <tr>\n      <th>20</th>\n      <td>139</td>\n      <td>Tampa Bay Rays</td>\n      <td>Rays</td>\n      <td>tba</td>\n      <td>Tampa Bay</td>\n      <td>TB</td>\n      <td>St. Petersburg</td>\n      <td>103</td>\n      <td>American League</td>\n      <td>201</td>\n      <td>American League East</td>\n      <td>12</td>\n      <td>Tropicana Field</td>\n    </tr>\n    <tr>\n      <th>21</th>\n      <td>140</td>\n      <td>Texas Rangers</td>\n      <td>Rangers</td>\n      <td>tex</td>\n      <td>Texas</td>\n      <td>TEX</td>\n      <td>Arlington</td>\n      <td>103</td>\n      <td>American League</td>\n      <td>200</td>\n      <td>American League West</td>\n      <td>5325</td>\n      <td>Globe Life Field</td>\n    </tr>\n    <tr>\n      <th>22</th>\n      <td>141</td>\n      <td>Toronto Blue Jays</td>\n      <td>Blue Jays</td>\n      <td>tor</td>\n      <td>Toronto</td>\n      <td>TOR</td>\n      <td>Toronto</td>\n      <td>103</td>\n      <td>American League</td>\n      <td>201</td>\n      <td>American League East</td>\n      <td>14</td>\n      <td>Rogers Centre</td>\n    </tr>\n    <tr>\n      <th>23</th>\n      <td>142</td>\n      <td>Minnesota Twins</td>\n      <td>Twins</td>\n      <td>min</td>\n      <td>Minnesota</td>\n      <td>MIN</td>\n      <td>Minneapolis</td>\n      <td>103</td>\n      <td>American League</td>\n      <td>202</td>\n      <td>American League Central</td>\n      <td>3312</td>\n      <td>Target Field</td>\n    </tr>\n    <tr>\n      <th>24</th>\n      <td>143</td>\n      <td>Philadelphia Phillies</td>\n      <td>Phillies</td>\n      <td>phi</td>\n      <td>Philadelphia</td>\n      <td>PHI</td>\n      <td>Philadelphia</td>\n      <td>104</td>\n      <td>National League</td>\n      <td>204</td>\n      <td>National League East</td>\n      <td>2681</td>\n      <td>Citizens Bank Park</td>\n    </tr>\n    <tr>\n      <th>25</th>\n      <td>144</td>\n      <td>Atlanta Braves</td>\n      <td>Braves</td>\n      <td>atl</td>\n      <td>Atlanta</td>\n      <td>ATL</td>\n      <td>Atlanta</td>\n      <td>104</td>\n      <td>National League</td>\n      <td>204</td>\n      <td>National League East</td>\n      <td>4705</td>\n      <td>Truist Park</td>\n    </tr>\n    <tr>\n      <th>26</th>\n      <td>145</td>\n      <td>Chicago White Sox</td>\n      <td>White Sox</td>\n      <td>cha</td>\n      <td>Chi White Sox</td>\n      <td>CWS</td>\n      <td>Chicago</td>\n      <td>103</td>\n      <td>American League</td>\n      <td>202</td>\n      <td>American League Central</td>\n      <td>4</td>\n      <td>Guaranteed Rate Field</td>\n    </tr>\n    <tr>\n      <th>27</th>\n      <td>146</td>\n      <td>Miami Marlins</td>\n      <td>Marlins</td>\n      <td>mia</td>\n      <td>Miami</td>\n      <td>MIA</td>\n      <td>Miami</td>\n      <td>104</td>\n      <td>National League</td>\n      <td>204</td>\n      <td>National League East</td>\n      <td>4169</td>\n      <td>loanDepot park</td>\n    </tr>\n    <tr>\n      <th>28</th>\n      <td>147</td>\n      <td>New York Yankees</td>\n      <td>Yankees</td>\n      <td>nya</td>\n      <td>NY Yankees</td>\n      <td>NYY</td>\n      <td>Bronx</td>\n      <td>103</td>\n      <td>American League</td>\n      <td>201</td>\n      <td>American League East</td>\n      <td>3313</td>\n      <td>Yankee Stadium</td>\n    </tr>\n    <tr>\n      <th>29</th>\n      <td>158</td>\n      <td>Milwaukee Brewers</td>\n      <td>Brewers</td>\n      <td>mil</td>\n      <td>Milwaukee</td>\n      <td>MIL</td>\n      <td>Milwaukee</td>\n      <td>104</td>\n      <td>National League</td>\n      <td>205</td>\n      <td>National League Central</td>\n      <td>32</td>\n      <td>American Family Field</td>\n    </tr>\n  </tbody>\n</table>\n</div>",
                "text/plain": "     id                   name  ... venueId                    venueName\n0   108     Los Angeles Angels  ...       1                Angel Stadium\n1   109   Arizona Diamondbacks  ...      15                  Chase Field\n2   110      Baltimore Orioles  ...       2  Oriole Park at Camden Yards\n3   111         Boston Red Sox  ...       3                  Fenway Park\n4   112           Chicago Cubs  ...      17                Wrigley Field\n5   113        Cincinnati Reds  ...    2602     Great American Ball Park\n6   114      Cleveland Indians  ...       5            Progressive Field\n7   115       Colorado Rockies  ...      19                  Coors Field\n8   116         Detroit Tigers  ...    2394                Comerica Park\n9   117         Houston Astros  ...    2392             Minute Maid Park\n10  118     Kansas City Royals  ...       7             Kauffman Stadium\n11  119    Los Angeles Dodgers  ...      22               Dodger Stadium\n12  120   Washington Nationals  ...    3309               Nationals Park\n13  121          New York Mets  ...    3289                   Citi Field\n14  133      Oakland Athletics  ...      10             Oakland Coliseum\n15  134     Pittsburgh Pirates  ...      31                     PNC Park\n16  135       San Diego Padres  ...    2680                   Petco Park\n17  136       Seattle Mariners  ...     680                T-Mobile Park\n18  137   San Francisco Giants  ...    2395                  Oracle Park\n19  138    St. Louis Cardinals  ...    2889                Busch Stadium\n20  139         Tampa Bay Rays  ...      12              Tropicana Field\n21  140          Texas Rangers  ...    5325             Globe Life Field\n22  141      Toronto Blue Jays  ...      14                Rogers Centre\n23  142        Minnesota Twins  ...    3312                 Target Field\n24  143  Philadelphia Phillies  ...    2681           Citizens Bank Park\n25  144         Atlanta Braves  ...    4705                  Truist Park\n26  145      Chicago White Sox  ...       4        Guaranteed Rate Field\n27  146          Miami Marlins  ...    4169               loanDepot park\n28  147       New York Yankees  ...    3313               Yankee Stadium\n29  158      Milwaukee Brewers  ...      32        American Family Field\n\n[30 rows x 13 columns]"
              }
            ],
            "_view_module": "@jupyter-widgets/output",
            "_model_module_version": "1.0.0",
            "_view_count": null,
            "_view_module_version": "1.0.0",
            "layout": "IPY_MODEL_da00f479ae6a41cd92ee8f9c23370ec2",
            "_model_module": "@jupyter-widgets/output"
          }
        },
        "b2e0ba4b0e9349658dc9b29fce31ef6b": {
          "model_module": "@jupyter-widgets/output",
          "model_name": "OutputModel",
          "state": {
            "_view_name": "OutputView",
            "msg_id": "",
            "_dom_classes": [],
            "_model_name": "OutputModel",
            "outputs": [
              {
                "output_type": "display_data",
                "metadata": {
                  "tags": []
                },
                "text/html": "<div>\n<style scoped>\n    .dataframe tbody tr th:only-of-type {\n        vertical-align: middle;\n    }\n\n    .dataframe tbody tr th {\n        vertical-align: top;\n    }\n\n    .dataframe thead th {\n        text-align: right;\n    }\n</style>\n<table border=\"1\" class=\"dataframe\">\n  <thead>\n    <tr style=\"text-align: right;\">\n      <th></th>\n      <th>playerId</th>\n      <th>playerName</th>\n      <th>DOB</th>\n      <th>mlbDebutDate</th>\n      <th>birthCity</th>\n      <th>birthStateProvince</th>\n      <th>birthCountry</th>\n      <th>heightInches</th>\n      <th>weight</th>\n      <th>primaryPositionCode</th>\n      <th>primaryPositionName</th>\n      <th>playerForTestSetAndFuturePreds</th>\n    </tr>\n  </thead>\n  <tbody>\n    <tr>\n      <th>0</th>\n      <td>665482</td>\n      <td>Gilberto Celestino</td>\n      <td>1999-02-13</td>\n      <td>2021-06-02</td>\n      <td>Santo Domingo</td>\n      <td>NaN</td>\n      <td>Dominican Republic</td>\n      <td>72</td>\n      <td>170</td>\n      <td>8</td>\n      <td>Outfielder</td>\n      <td>False</td>\n    </tr>\n    <tr>\n      <th>1</th>\n      <td>593590</td>\n      <td>Webster Rivas</td>\n      <td>1990-08-08</td>\n      <td>2021-05-28</td>\n      <td>Nagua</td>\n      <td>NaN</td>\n      <td>Dominican Republic</td>\n      <td>73</td>\n      <td>219</td>\n      <td>3</td>\n      <td>First Base</td>\n      <td>True</td>\n    </tr>\n    <tr>\n      <th>2</th>\n      <td>661269</td>\n      <td>Vladimir Gutierrez</td>\n      <td>1995-09-18</td>\n      <td>2021-05-28</td>\n      <td>Havana</td>\n      <td>NaN</td>\n      <td>Cuba</td>\n      <td>73</td>\n      <td>190</td>\n      <td>1</td>\n      <td>Pitcher</td>\n      <td>True</td>\n    </tr>\n    <tr>\n      <th>3</th>\n      <td>669212</td>\n      <td>Eli Morgan</td>\n      <td>1996-05-13</td>\n      <td>2021-05-28</td>\n      <td>Rancho Palos Verdes</td>\n      <td>CA</td>\n      <td>USA</td>\n      <td>70</td>\n      <td>190</td>\n      <td>1</td>\n      <td>Pitcher</td>\n      <td>True</td>\n    </tr>\n    <tr>\n      <th>4</th>\n      <td>666201</td>\n      <td>Alek Manoah</td>\n      <td>1998-01-09</td>\n      <td>2021-05-27</td>\n      <td>Homestead</td>\n      <td>FL</td>\n      <td>USA</td>\n      <td>78</td>\n      <td>260</td>\n      <td>1</td>\n      <td>Pitcher</td>\n      <td>True</td>\n    </tr>\n    <tr>\n      <th>...</th>\n      <td>...</td>\n      <td>...</td>\n      <td>...</td>\n      <td>...</td>\n      <td>...</td>\n      <td>...</td>\n      <td>...</td>\n      <td>...</td>\n      <td>...</td>\n      <td>...</td>\n      <td>...</td>\n      <td>...</td>\n    </tr>\n    <tr>\n      <th>2056</th>\n      <td>672695</td>\n      <td>Geraldo Perdomo</td>\n      <td>1999-10-22</td>\n      <td>NaN</td>\n      <td>Santo Domingo</td>\n      <td>NaN</td>\n      <td>Dominican Republic</td>\n      <td>74</td>\n      <td>203</td>\n      <td>6</td>\n      <td>Shortstop</td>\n      <td>True</td>\n    </tr>\n    <tr>\n      <th>2057</th>\n      <td>672911</td>\n      <td>Jesus Cruz</td>\n      <td>1995-04-15</td>\n      <td>NaN</td>\n      <td>Salinas de Hidalgo</td>\n      <td>San Luis Potosi</td>\n      <td>Mexico</td>\n      <td>73</td>\n      <td>230</td>\n      <td>1</td>\n      <td>Pitcher</td>\n      <td>False</td>\n    </tr>\n    <tr>\n      <th>2058</th>\n      <td>676103</td>\n      <td>Damon Jones</td>\n      <td>1994-09-30</td>\n      <td>NaN</td>\n      <td>Twin Falls</td>\n      <td>ID</td>\n      <td>USA</td>\n      <td>77</td>\n      <td>233</td>\n      <td>1</td>\n      <td>Pitcher</td>\n      <td>True</td>\n    </tr>\n    <tr>\n      <th>2059</th>\n      <td>676755</td>\n      <td>Isaac Mattson</td>\n      <td>1995-07-14</td>\n      <td>NaN</td>\n      <td>Erie</td>\n      <td>PA</td>\n      <td>USA</td>\n      <td>74</td>\n      <td>205</td>\n      <td>1</td>\n      <td>Pitcher</td>\n      <td>True</td>\n    </tr>\n    <tr>\n      <th>2060</th>\n      <td>680430</td>\n      <td>Nick Allgeyer</td>\n      <td>1996-02-03</td>\n      <td>NaN</td>\n      <td>St. Louis</td>\n      <td>MO</td>\n      <td>USA</td>\n      <td>75</td>\n      <td>210</td>\n      <td>1</td>\n      <td>Pitcher</td>\n      <td>True</td>\n    </tr>\n  </tbody>\n</table>\n<p>2061 rows × 12 columns</p>\n</div>",
                "text/plain": "      playerId  ... playerForTestSetAndFuturePreds\n0       665482  ...                          False\n1       593590  ...                           True\n2       661269  ...                           True\n3       669212  ...                           True\n4       666201  ...                           True\n...        ...  ...                            ...\n2056    672695  ...                           True\n2057    672911  ...                          False\n2058    676103  ...                           True\n2059    676755  ...                           True\n2060    680430  ...                           True\n\n[2061 rows x 12 columns]"
              }
            ],
            "_view_module": "@jupyter-widgets/output",
            "_model_module_version": "1.0.0",
            "_view_count": null,
            "_view_module_version": "1.0.0",
            "layout": "IPY_MODEL_bee26e040be44556a5f1a760ddab508f",
            "_model_module": "@jupyter-widgets/output"
          }
        },
        "ff513cc4d21b471e83036ceb0f6e6d98": {
          "model_module": "@jupyter-widgets/output",
          "model_name": "OutputModel",
          "state": {
            "_view_name": "OutputView",
            "msg_id": "",
            "_dom_classes": [],
            "_model_name": "OutputModel",
            "outputs": [
              {
                "output_type": "display_data",
                "metadata": {
                  "tags": []
                },
                "text/html": "<div>\n<style scoped>\n    .dataframe tbody tr th:only-of-type {\n        vertical-align: middle;\n    }\n\n    .dataframe tbody tr th {\n        vertical-align: top;\n    }\n\n    .dataframe thead th {\n        text-align: right;\n    }\n</style>\n<table border=\"1\" class=\"dataframe\">\n  <thead>\n    <tr style=\"text-align: right;\">\n      <th></th>\n      <th>awardDate</th>\n      <th>awardSeason</th>\n      <th>awardId</th>\n      <th>awardName</th>\n      <th>playerId</th>\n      <th>playerName</th>\n      <th>awardPlayerTeamId</th>\n    </tr>\n  </thead>\n  <tbody>\n    <tr>\n      <th>0</th>\n      <td>2017-12-21</td>\n      <td>2017</td>\n      <td>WARRENSPAHN</td>\n      <td>Warren Spahn Award</td>\n      <td>477132</td>\n      <td>Clayton Kershaw</td>\n      <td>119.0</td>\n    </tr>\n    <tr>\n      <th>1</th>\n      <td>2017-12-20</td>\n      <td>2017</td>\n      <td>MILBORGAS</td>\n      <td>MiLB.com Organization All-Star</td>\n      <td>474319</td>\n      <td>Brandon Snyder</td>\n      <td>120.0</td>\n    </tr>\n    <tr>\n      <th>2</th>\n      <td>2017-12-20</td>\n      <td>2017</td>\n      <td>MILBORGAS</td>\n      <td>MiLB.com Organization All-Star</td>\n      <td>592530</td>\n      <td>Jose Marmolejos</td>\n      <td>120.0</td>\n    </tr>\n    <tr>\n      <th>3</th>\n      <td>2017-12-20</td>\n      <td>2017</td>\n      <td>MILBORGAS</td>\n      <td>MiLB.com Organization All-Star</td>\n      <td>593833</td>\n      <td>Wander Suero</td>\n      <td>120.0</td>\n    </tr>\n    <tr>\n      <th>4</th>\n      <td>2017-12-20</td>\n      <td>2017</td>\n      <td>MILBORGAS</td>\n      <td>MiLB.com Organization All-Star</td>\n      <td>600466</td>\n      <td>Raudy Read</td>\n      <td>120.0</td>\n    </tr>\n    <tr>\n      <th>...</th>\n      <td>...</td>\n      <td>...</td>\n      <td>...</td>\n      <td>...</td>\n      <td>...</td>\n      <td>...</td>\n      <td>...</td>\n    </tr>\n    <tr>\n      <th>11251</th>\n      <td>2000-08-27</td>\n      <td>2000</td>\n      <td>NLPOW</td>\n      <td>NL Player of the Week</td>\n      <td>134181</td>\n      <td>Adrian Beltre</td>\n      <td>119.0</td>\n    </tr>\n    <tr>\n      <th>11252</th>\n      <td>2000-07-09</td>\n      <td>2000</td>\n      <td>FUTURES</td>\n      <td>Futures Game Selection</td>\n      <td>282332</td>\n      <td>CC Sabathia</td>\n      <td>402.0</td>\n    </tr>\n    <tr>\n      <th>11253</th>\n      <td>1998-09-01</td>\n      <td>1998</td>\n      <td>TLPSAS</td>\n      <td>TEX Post-Season All-Star</td>\n      <td>134181</td>\n      <td>Adrian Beltre</td>\n      <td>510.0</td>\n    </tr>\n    <tr>\n      <th>11254</th>\n      <td>1998-07-07</td>\n      <td>1998</td>\n      <td>ALAS</td>\n      <td>AL All-Star</td>\n      <td>112526</td>\n      <td>Bartolo Colon</td>\n      <td>114.0</td>\n    </tr>\n    <tr>\n      <th>11255</th>\n      <td>1998-06-21</td>\n      <td>1998</td>\n      <td>ALPOW</td>\n      <td>AL Player of the Week</td>\n      <td>112526</td>\n      <td>Bartolo Colon</td>\n      <td>114.0</td>\n    </tr>\n  </tbody>\n</table>\n<p>11256 rows × 7 columns</p>\n</div>",
                "text/plain": "        awardDate  awardSeason  ...       playerName awardPlayerTeamId\n0      2017-12-21         2017  ...  Clayton Kershaw             119.0\n1      2017-12-20         2017  ...   Brandon Snyder             120.0\n2      2017-12-20         2017  ...  Jose Marmolejos             120.0\n3      2017-12-20         2017  ...     Wander Suero             120.0\n4      2017-12-20         2017  ...       Raudy Read             120.0\n...           ...          ...  ...              ...               ...\n11251  2000-08-27         2000  ...    Adrian Beltre             119.0\n11252  2000-07-09         2000  ...      CC Sabathia             402.0\n11253  1998-09-01         1998  ...    Adrian Beltre             510.0\n11254  1998-07-07         1998  ...    Bartolo Colon             114.0\n11255  1998-06-21         1998  ...    Bartolo Colon             114.0\n\n[11256 rows x 7 columns]"
              }
            ],
            "_view_module": "@jupyter-widgets/output",
            "_model_module_version": "1.0.0",
            "_view_count": null,
            "_view_module_version": "1.0.0",
            "layout": "IPY_MODEL_2a5c71575d094beda2373fff907a2f3b",
            "_model_module": "@jupyter-widgets/output"
          }
        },
        "4628a3884c1f45a4a2a71f22dca6ffca": {
          "model_module": "@jupyter-widgets/base",
          "model_name": "LayoutModel",
          "state": {
            "_view_name": "LayoutView",
            "grid_template_rows": null,
            "right": null,
            "justify_content": null,
            "_view_module": "@jupyter-widgets/base",
            "overflow": null,
            "_model_module_version": "1.2.0",
            "_view_count": null,
            "flex_flow": null,
            "width": null,
            "min_width": null,
            "border": null,
            "align_items": null,
            "bottom": null,
            "_model_module": "@jupyter-widgets/base",
            "top": null,
            "grid_column": null,
            "overflow_y": null,
            "overflow_x": null,
            "grid_auto_flow": null,
            "grid_area": null,
            "grid_template_columns": null,
            "flex": null,
            "_model_name": "LayoutModel",
            "justify_items": null,
            "grid_row": null,
            "max_height": null,
            "align_content": null,
            "visibility": null,
            "align_self": null,
            "height": null,
            "min_height": null,
            "padding": null,
            "grid_auto_rows": null,
            "grid_gap": null,
            "max_width": null,
            "order": null,
            "_view_module_version": "1.2.0",
            "grid_template_areas": null,
            "object_position": null,
            "object_fit": null,
            "grid_auto_columns": null,
            "margin": null,
            "display": null,
            "left": null
          }
        },
        "da00f479ae6a41cd92ee8f9c23370ec2": {
          "model_module": "@jupyter-widgets/base",
          "model_name": "LayoutModel",
          "state": {
            "_view_name": "LayoutView",
            "grid_template_rows": null,
            "right": null,
            "justify_content": null,
            "_view_module": "@jupyter-widgets/base",
            "overflow": null,
            "_model_module_version": "1.2.0",
            "_view_count": null,
            "flex_flow": null,
            "width": null,
            "min_width": null,
            "border": null,
            "align_items": null,
            "bottom": null,
            "_model_module": "@jupyter-widgets/base",
            "top": null,
            "grid_column": null,
            "overflow_y": null,
            "overflow_x": null,
            "grid_auto_flow": null,
            "grid_area": null,
            "grid_template_columns": null,
            "flex": null,
            "_model_name": "LayoutModel",
            "justify_items": null,
            "grid_row": null,
            "max_height": null,
            "align_content": null,
            "visibility": null,
            "align_self": null,
            "height": null,
            "min_height": null,
            "padding": null,
            "grid_auto_rows": null,
            "grid_gap": null,
            "max_width": null,
            "order": null,
            "_view_module_version": "1.2.0",
            "grid_template_areas": null,
            "object_position": null,
            "object_fit": null,
            "grid_auto_columns": null,
            "margin": null,
            "display": null,
            "left": null
          }
        },
        "bee26e040be44556a5f1a760ddab508f": {
          "model_module": "@jupyter-widgets/base",
          "model_name": "LayoutModel",
          "state": {
            "_view_name": "LayoutView",
            "grid_template_rows": null,
            "right": null,
            "justify_content": null,
            "_view_module": "@jupyter-widgets/base",
            "overflow": null,
            "_model_module_version": "1.2.0",
            "_view_count": null,
            "flex_flow": null,
            "width": null,
            "min_width": null,
            "border": null,
            "align_items": null,
            "bottom": null,
            "_model_module": "@jupyter-widgets/base",
            "top": null,
            "grid_column": null,
            "overflow_y": null,
            "overflow_x": null,
            "grid_auto_flow": null,
            "grid_area": null,
            "grid_template_columns": null,
            "flex": null,
            "_model_name": "LayoutModel",
            "justify_items": null,
            "grid_row": null,
            "max_height": null,
            "align_content": null,
            "visibility": null,
            "align_self": null,
            "height": null,
            "min_height": null,
            "padding": null,
            "grid_auto_rows": null,
            "grid_gap": null,
            "max_width": null,
            "order": null,
            "_view_module_version": "1.2.0",
            "grid_template_areas": null,
            "object_position": null,
            "object_fit": null,
            "grid_auto_columns": null,
            "margin": null,
            "display": null,
            "left": null
          }
        },
        "2a5c71575d094beda2373fff907a2f3b": {
          "model_module": "@jupyter-widgets/base",
          "model_name": "LayoutModel",
          "state": {
            "_view_name": "LayoutView",
            "grid_template_rows": null,
            "right": null,
            "justify_content": null,
            "_view_module": "@jupyter-widgets/base",
            "overflow": null,
            "_model_module_version": "1.2.0",
            "_view_count": null,
            "flex_flow": null,
            "width": null,
            "min_width": null,
            "border": null,
            "align_items": null,
            "bottom": null,
            "_model_module": "@jupyter-widgets/base",
            "top": null,
            "grid_column": null,
            "overflow_y": null,
            "overflow_x": null,
            "grid_auto_flow": null,
            "grid_area": null,
            "grid_template_columns": null,
            "flex": null,
            "_model_name": "LayoutModel",
            "justify_items": null,
            "grid_row": null,
            "max_height": null,
            "align_content": null,
            "visibility": null,
            "align_self": null,
            "height": null,
            "min_height": null,
            "padding": null,
            "grid_auto_rows": null,
            "grid_gap": null,
            "max_width": null,
            "order": null,
            "_view_module_version": "1.2.0",
            "grid_template_areas": null,
            "object_position": null,
            "object_fit": null,
            "grid_auto_columns": null,
            "margin": null,
            "display": null,
            "left": null
          }
        }
      }
    }
  },
  "cells": [
    {
      "cell_type": "markdown",
      "metadata": {
        "id": "view-in-github",
        "colab_type": "text"
      },
      "source": [
        "<a href=\"https://colab.research.google.com/github/konamilk/mlb-player-digital-engagement-forecasting/blob/main/getting_started_with_mlb_player_digital_engagement.ipynb\" target=\"_parent\"><img src=\"https://colab.research.google.com/assets/colab-badge.svg\" alt=\"Open In Colab\"/></a>"
      ]
    },
    {
      "cell_type": "code",
      "metadata": {
        "colab": {
          "base_uri": "https://localhost:8080/"
        },
        "id": "rZEdt-gCamiB",
        "outputId": "5384b598-f2fd-476c-8431-7441b7ba8643"
      },
      "source": [
        "import sys\n",
        "if 'google.colab' in sys.modules:\n",
        "  !pip install git+https://github.com/statsmodels/statsmodels"
      ],
      "execution_count": 1,
      "outputs": [
        {
          "output_type": "stream",
          "text": [
            "Collecting git+https://github.com/statsmodels/statsmodels\n",
            "  Cloning https://github.com/statsmodels/statsmodels to /tmp/pip-req-build-r74k4byn\n",
            "  Running command git clone -q https://github.com/statsmodels/statsmodels /tmp/pip-req-build-r74k4byn\n",
            "  Installing build dependencies ... \u001b[?25l\u001b[?25hdone\n",
            "  Getting requirements to build wheel ... \u001b[?25l\u001b[?25hdone\n",
            "    Preparing wheel metadata ... \u001b[?25l\u001b[?25hdone\n",
            "Requirement already satisfied (use --upgrade to upgrade): statsmodels==0.13.0.dev0+380.g79ddd9882 from git+https://github.com/statsmodels/statsmodels in /usr/local/lib/python3.7/dist-packages\n",
            "Requirement already satisfied: numpy>=1.17 in /usr/local/lib/python3.7/dist-packages (from statsmodels==0.13.0.dev0+380.g79ddd9882) (1.19.5)\n",
            "Requirement already satisfied: patsy>=0.5.1 in /usr/local/lib/python3.7/dist-packages (from statsmodels==0.13.0.dev0+380.g79ddd9882) (0.5.1)\n",
            "Requirement already satisfied: pandas>=0.25 in /usr/local/lib/python3.7/dist-packages (from statsmodels==0.13.0.dev0+380.g79ddd9882) (1.1.5)\n",
            "Requirement already satisfied: scipy>=1.3 in /usr/local/lib/python3.7/dist-packages (from statsmodels==0.13.0.dev0+380.g79ddd9882) (1.4.1)\n",
            "Requirement already satisfied: six in /usr/local/lib/python3.7/dist-packages (from patsy>=0.5.1->statsmodels==0.13.0.dev0+380.g79ddd9882) (1.15.0)\n",
            "Requirement already satisfied: pytz>=2017.2 in /usr/local/lib/python3.7/dist-packages (from pandas>=0.25->statsmodels==0.13.0.dev0+380.g79ddd9882) (2018.9)\n",
            "Requirement already satisfied: python-dateutil>=2.7.3 in /usr/local/lib/python3.7/dist-packages (from pandas>=0.25->statsmodels==0.13.0.dev0+380.g79ddd9882) (2.8.1)\n",
            "Building wheels for collected packages: statsmodels\n",
            "  Building wheel for statsmodels (PEP 517) ... \u001b[?25l\u001b[?25hdone\n",
            "  Created wheel for statsmodels: filename=statsmodels-0.13.0.dev0+380.g79ddd9882-cp37-cp37m-linux_x86_64.whl size=17625537 sha256=f940101cb36032472ee0869912ce197806c5f17a333fcc9ffa24d3cafecaacbf\n",
            "  Stored in directory: /tmp/pip-ephem-wheel-cache-w0v7g4ss/wheels/7d/ad/45/ac1a03bd759c2fa74c486e2b1950d94b55f511b4c2b0418bd5\n",
            "Successfully built statsmodels\n"
          ],
          "name": "stdout"
        }
      ]
    },
    {
      "cell_type": "code",
      "metadata": {
        "_uuid": "8f2839f25d086af736a60e9eeb907d3b93b6e0e5",
        "_cell_guid": "b1076dfc-b9ad-4769-8c92-a6c4dae69d19",
        "_kg_hide-input": true,
        "execution": {
          "iopub.status.busy": "2021-06-10T00:23:09.367315Z",
          "iopub.execute_input": "2021-06-10T00:23:09.36772Z",
          "iopub.status.idle": "2021-06-10T00:23:09.376719Z",
          "shell.execute_reply.started": "2021-06-10T00:23:09.367671Z",
          "shell.execute_reply": "2021-06-10T00:23:09.375853Z"
        },
        "jupyter": {
          "source_hidden": true
        },
        "trusted": true,
        "colab": {
          "base_uri": "https://localhost:8080/"
        },
        "id": "vg8XD5ff_fhM",
        "outputId": "6906fb06-8f2c-4205-9d8a-aada9a412a84"
      },
      "source": [
        "import gc\n",
        "import sys\n",
        "import warnings\n",
        "from pathlib import Path\n",
        "\n",
        "import ipywidgets as widgets\n",
        "import matplotlib.pyplot as plt\n",
        "import numpy as np\n",
        "import pandas as pd\n",
        "import seaborn as sns\n",
        "from sklearn.model_selection import train_test_split\n",
        "from statsmodels.tsa.deterministic import (CalendarFourier,\n",
        "                                           CalendarSeasonality,\n",
        "                                           CalendarTimeTrend,\n",
        "                                           DeterministicProcess)\n",
        "\n",
        "import tensorflow as tf\n",
        "from tensorflow import keras\n",
        "from tensorflow.keras import layers\n",
        "\n",
        "warnings.simplefilter(\"ignore\")\n",
        "\n",
        "# Set Matplotlib defaults\n",
        "plt.style.use(\"seaborn-whitegrid\")\n",
        "plt.rc(\"figure\", autolayout=True, figsize=(11, 5))\n",
        "plt.rc(\n",
        "    \"axes\",\n",
        "    labelweight=\"bold\",\n",
        "    labelsize=\"large\",\n",
        "    titleweight=\"bold\",\n",
        "    titlesize=14,\n",
        "    titlepad=10,\n",
        ")\n",
        "plot_params = dict(\n",
        "    color=\"0.75\",\n",
        "    style=\".-\",\n",
        "    markeredgecolor=\"0.25\",\n",
        "    markerfacecolor=\"0.25\",\n",
        "    legend=False,\n",
        ")\n",
        "\n",
        "# install xfeat\n",
        "if 'google.colab' in sys.modules:\n",
        "    !pip install git+https://github.com/pfnet-research/xfeat.git\n",
        "else:\n",
        "    !pip install ../input/xfeatwhl/xfeat-0.1.1-py3-none-any.whl"
      ],
      "execution_count": 2,
      "outputs": [
        {
          "output_type": "stream",
          "text": [
            "Collecting git+https://github.com/pfnet-research/xfeat.git\n",
            "  Cloning https://github.com/pfnet-research/xfeat.git to /tmp/pip-req-build-_4dppmby\n",
            "  Running command git clone -q https://github.com/pfnet-research/xfeat.git /tmp/pip-req-build-_4dppmby\n",
            "Requirement already satisfied (use --upgrade to upgrade): xfeat==0.1.1 from git+https://github.com/pfnet-research/xfeat.git in /usr/local/lib/python3.7/dist-packages\n",
            "Requirement already satisfied: PyYAML in /usr/local/lib/python3.7/dist-packages (from xfeat==0.1.1) (3.13)\n",
            "Requirement already satisfied: ml_metrics in /usr/local/lib/python3.7/dist-packages (from xfeat==0.1.1) (0.1.4)\n",
            "Requirement already satisfied: optuna>=1.3.0 in /usr/local/lib/python3.7/dist-packages (from xfeat==0.1.1) (2.8.0)\n",
            "Requirement already satisfied: lightgbm in /usr/local/lib/python3.7/dist-packages (from xfeat==0.1.1) (2.2.3)\n",
            "Requirement already satisfied: scikit-learn in /usr/local/lib/python3.7/dist-packages (from xfeat==0.1.1) (0.22.2.post1)\n",
            "Requirement already satisfied: pyarrow in /usr/local/lib/python3.7/dist-packages (from xfeat==0.1.1) (3.0.0)\n",
            "Requirement already satisfied: pandas in /usr/local/lib/python3.7/dist-packages (from ml_metrics->xfeat==0.1.1) (1.1.5)\n",
            "Requirement already satisfied: numpy in /usr/local/lib/python3.7/dist-packages (from ml_metrics->xfeat==0.1.1) (1.19.5)\n",
            "Requirement already satisfied: packaging>=20.0 in /usr/local/lib/python3.7/dist-packages (from optuna>=1.3.0->xfeat==0.1.1) (20.9)\n",
            "Requirement already satisfied: sqlalchemy>=1.1.0 in /usr/local/lib/python3.7/dist-packages (from optuna>=1.3.0->xfeat==0.1.1) (1.4.18)\n",
            "Requirement already satisfied: colorlog in /usr/local/lib/python3.7/dist-packages (from optuna>=1.3.0->xfeat==0.1.1) (5.0.1)\n",
            "Requirement already satisfied: cliff in /usr/local/lib/python3.7/dist-packages (from optuna>=1.3.0->xfeat==0.1.1) (3.8.0)\n",
            "Requirement already satisfied: scipy!=1.4.0 in /usr/local/lib/python3.7/dist-packages (from optuna>=1.3.0->xfeat==0.1.1) (1.4.1)\n",
            "Requirement already satisfied: tqdm in /usr/local/lib/python3.7/dist-packages (from optuna>=1.3.0->xfeat==0.1.1) (4.41.1)\n",
            "Requirement already satisfied: alembic in /usr/local/lib/python3.7/dist-packages (from optuna>=1.3.0->xfeat==0.1.1) (1.6.5)\n",
            "Requirement already satisfied: cmaes>=0.8.2 in /usr/local/lib/python3.7/dist-packages (from optuna>=1.3.0->xfeat==0.1.1) (0.8.2)\n",
            "Requirement already satisfied: joblib>=0.11 in /usr/local/lib/python3.7/dist-packages (from scikit-learn->xfeat==0.1.1) (1.0.1)\n",
            "Requirement already satisfied: pytz>=2017.2 in /usr/local/lib/python3.7/dist-packages (from pandas->ml_metrics->xfeat==0.1.1) (2018.9)\n",
            "Requirement already satisfied: python-dateutil>=2.7.3 in /usr/local/lib/python3.7/dist-packages (from pandas->ml_metrics->xfeat==0.1.1) (2.8.1)\n",
            "Requirement already satisfied: pyparsing>=2.0.2 in /usr/local/lib/python3.7/dist-packages (from packaging>=20.0->optuna>=1.3.0->xfeat==0.1.1) (2.4.7)\n",
            "Requirement already satisfied: importlib-metadata; python_version < \"3.8\" in /usr/local/lib/python3.7/dist-packages (from sqlalchemy>=1.1.0->optuna>=1.3.0->xfeat==0.1.1) (4.5.0)\n",
            "Requirement already satisfied: greenlet!=0.4.17; python_version >= \"3\" in /usr/local/lib/python3.7/dist-packages (from sqlalchemy>=1.1.0->optuna>=1.3.0->xfeat==0.1.1) (1.1.0)\n",
            "Requirement already satisfied: PrettyTable>=0.7.2 in /usr/local/lib/python3.7/dist-packages (from cliff->optuna>=1.3.0->xfeat==0.1.1) (2.1.0)\n",
            "Requirement already satisfied: pbr!=2.1.0,>=2.0.0 in /usr/local/lib/python3.7/dist-packages (from cliff->optuna>=1.3.0->xfeat==0.1.1) (5.6.0)\n",
            "Requirement already satisfied: cmd2>=1.0.0 in /usr/local/lib/python3.7/dist-packages (from cliff->optuna>=1.3.0->xfeat==0.1.1) (2.1.0)\n",
            "Requirement already satisfied: stevedore>=2.0.1 in /usr/local/lib/python3.7/dist-packages (from cliff->optuna>=1.3.0->xfeat==0.1.1) (3.3.0)\n",
            "Requirement already satisfied: python-editor>=0.3 in /usr/local/lib/python3.7/dist-packages (from alembic->optuna>=1.3.0->xfeat==0.1.1) (1.0.4)\n",
            "Requirement already satisfied: Mako in /usr/local/lib/python3.7/dist-packages (from alembic->optuna>=1.3.0->xfeat==0.1.1) (1.1.4)\n",
            "Requirement already satisfied: six>=1.5 in /usr/local/lib/python3.7/dist-packages (from python-dateutil>=2.7.3->pandas->ml_metrics->xfeat==0.1.1) (1.15.0)\n",
            "Requirement already satisfied: typing-extensions>=3.6.4; python_version < \"3.8\" in /usr/local/lib/python3.7/dist-packages (from importlib-metadata; python_version < \"3.8\"->sqlalchemy>=1.1.0->optuna>=1.3.0->xfeat==0.1.1) (3.7.4.3)\n",
            "Requirement already satisfied: zipp>=0.5 in /usr/local/lib/python3.7/dist-packages (from importlib-metadata; python_version < \"3.8\"->sqlalchemy>=1.1.0->optuna>=1.3.0->xfeat==0.1.1) (3.4.1)\n",
            "Requirement already satisfied: wcwidth in /usr/local/lib/python3.7/dist-packages (from PrettyTable>=0.7.2->cliff->optuna>=1.3.0->xfeat==0.1.1) (0.2.5)\n",
            "Requirement already satisfied: colorama>=0.3.7 in /usr/local/lib/python3.7/dist-packages (from cmd2>=1.0.0->cliff->optuna>=1.3.0->xfeat==0.1.1) (0.4.4)\n",
            "Requirement already satisfied: attrs>=16.3.0 in /usr/local/lib/python3.7/dist-packages (from cmd2>=1.0.0->cliff->optuna>=1.3.0->xfeat==0.1.1) (21.2.0)\n",
            "Requirement already satisfied: pyperclip>=1.6 in /usr/local/lib/python3.7/dist-packages (from cmd2>=1.0.0->cliff->optuna>=1.3.0->xfeat==0.1.1) (1.8.2)\n",
            "Requirement already satisfied: MarkupSafe>=0.9.2 in /usr/local/lib/python3.7/dist-packages (from Mako->alembic->optuna>=1.3.0->xfeat==0.1.1) (2.0.1)\n",
            "Building wheels for collected packages: xfeat\n",
            "  Building wheel for xfeat (setup.py) ... \u001b[?25l\u001b[?25hdone\n",
            "  Created wheel for xfeat: filename=xfeat-0.1.1-cp37-none-any.whl size=39635 sha256=757ff5ceb134546f5bd3f3bf84d1b79e84da8f64ac4c640dad9eedd4f0cff463\n",
            "  Stored in directory: /tmp/pip-ephem-wheel-cache-5v0aatdz/wheels/82/f3/da/060c6ceac1125aa285b041284b7ec5324be345b865c713da9c\n",
            "Successfully built xfeat\n",
            "Requirement already satisfied: statsmodels in /usr/local/lib/python3.7/dist-packages (0.13.0.dev0+380.g79ddd9882)\n",
            "Requirement already satisfied: patsy>=0.5.1 in /usr/local/lib/python3.7/dist-packages (from statsmodels) (0.5.1)\n",
            "Requirement already satisfied: pandas>=0.25 in /usr/local/lib/python3.7/dist-packages (from statsmodels) (1.1.5)\n",
            "Requirement already satisfied: scipy>=1.3 in /usr/local/lib/python3.7/dist-packages (from statsmodels) (1.4.1)\n",
            "Requirement already satisfied: numpy>=1.17 in /usr/local/lib/python3.7/dist-packages (from statsmodels) (1.19.5)\n",
            "Requirement already satisfied: six in /usr/local/lib/python3.7/dist-packages (from patsy>=0.5.1->statsmodels) (1.15.0)\n",
            "Requirement already satisfied: python-dateutil>=2.7.3 in /usr/local/lib/python3.7/dist-packages (from pandas>=0.25->statsmodels) (2.8.1)\n",
            "Requirement already satisfied: pytz>=2017.2 in /usr/local/lib/python3.7/dist-packages (from pandas>=0.25->statsmodels) (2018.9)\n"
          ],
          "name": "stdout"
        }
      ]
    },
    {
      "cell_type": "code",
      "metadata": {
        "colab": {
          "base_uri": "https://localhost:8080/"
        },
        "id": "Y3QLR3unaO0X",
        "outputId": "5cfbf65b-b573-4c3d-db6c-5e985ecb586c"
      },
      "source": [
        "!pip list | grep statsmodels"
      ],
      "execution_count": 3,
      "outputs": [
        {
          "output_type": "stream",
          "text": [
            "statsmodels                   0.13.0.dev0+380.g79ddd9882\n"
          ],
          "name": "stdout"
        }
      ]
    },
    {
      "cell_type": "code",
      "metadata": {
        "colab": {
          "base_uri": "https://localhost:8080/"
        },
        "id": "sjR7Ub9gAtuJ",
        "outputId": "cd9b2d62-f3a3-4169-ea37-b07aad210eb5"
      },
      "source": [
        "# download datas\n",
        "if 'google.colab' in sys.modules:\n",
        "  !mkdir ~/.kaggle\n",
        "  !cp /content/drive/MyDrive/.kaggle/kaggle.json ~/.kaggle\n",
        "  !chmod 600 ~/.kaggle/kaggle.json\n",
        "  !pip install kaggle\n",
        "  !kaggle competitions download -c mlb-player-digital-engagement-forecasting\n",
        "  !mkdir input\n",
        "  !unzip -o '*.zip' -d ./input/\n",
        "  !rm *.zip\n",
        "  !mv *.csv ./input/"
      ],
      "execution_count": 4,
      "outputs": [
        {
          "output_type": "stream",
          "text": [
            "mkdir: cannot create directory ‘/root/.kaggle’: File exists\n",
            "Requirement already satisfied: kaggle in /usr/local/lib/python3.7/dist-packages (1.5.12)\n",
            "Requirement already satisfied: requests in /usr/local/lib/python3.7/dist-packages (from kaggle) (2.23.0)\n",
            "Requirement already satisfied: urllib3 in /usr/local/lib/python3.7/dist-packages (from kaggle) (1.24.3)\n",
            "Requirement already satisfied: python-dateutil in /usr/local/lib/python3.7/dist-packages (from kaggle) (2.8.1)\n",
            "Requirement already satisfied: python-slugify in /usr/local/lib/python3.7/dist-packages (from kaggle) (5.0.2)\n",
            "Requirement already satisfied: six>=1.10 in /usr/local/lib/python3.7/dist-packages (from kaggle) (1.15.0)\n",
            "Requirement already satisfied: tqdm in /usr/local/lib/python3.7/dist-packages (from kaggle) (4.41.1)\n",
            "Requirement already satisfied: certifi in /usr/local/lib/python3.7/dist-packages (from kaggle) (2021.5.30)\n",
            "Requirement already satisfied: idna<3,>=2.5 in /usr/local/lib/python3.7/dist-packages (from requests->kaggle) (2.10)\n",
            "Requirement already satisfied: chardet<4,>=3.0.2 in /usr/local/lib/python3.7/dist-packages (from requests->kaggle) (3.0.4)\n",
            "Requirement already satisfied: text-unidecode>=1.3 in /usr/local/lib/python3.7/dist-packages (from python-slugify->kaggle) (1.3)\n",
            "Warning: Looks like you're using an outdated API Version, please consider updating (server 1.5.12 / client 1.5.4)\n",
            "competition.cpython-37m-x86_64-linux-gnu.so: Skipping, found more recently modified local copy (use --force to force download)\n",
            "__init__.py: Skipping, found more recently modified local copy (use --force to force download)\n",
            "Downloading seasons.csv to /content\n",
            "  0% 0.00/824 [00:00<?, ?B/s]\n",
            "100% 824/824 [00:00<00:00, 378kB/s]\n",
            "Downloading players.csv to /content\n",
            "  0% 0.00/173k [00:00<?, ?B/s]\n",
            "100% 173k/173k [00:00<00:00, 54.7MB/s]\n",
            "Downloading teams.csv to /content\n",
            "  0% 0.00/3.68k [00:00<?, ?B/s]\n",
            "100% 3.68k/3.68k [00:00<00:00, 3.45MB/s]\n",
            "Downloading awards.csv to /content\n",
            "  0% 0.00/820k [00:00<?, ?B/s]\n",
            "100% 820k/820k [00:00<00:00, 45.1MB/s]\n",
            "Downloading example_sample_submission.csv to /content\n",
            "  0% 0.00/191k [00:00<?, ?B/s]\n",
            "100% 191k/191k [00:00<00:00, 61.6MB/s]\n",
            "Downloading example_test.csv.zip to /content\n",
            "  0% 0.00/3.96M [00:00<?, ?B/s]\n",
            "100% 3.96M/3.96M [00:00<00:00, 130MB/s]\n",
            "Downloading train.csv.zip to /content\n",
            " 98% 462M/470M [00:06<00:00, 87.0MB/s]\n",
            "100% 470M/470M [00:06<00:00, 76.5MB/s]\n",
            "mkdir: cannot create directory ‘input’: File exists\n",
            "Archive:  train.csv.zip\n",
            "  inflating: ./input/train.csv       \n",
            "\n",
            "Archive:  example_test.csv.zip\n",
            "  inflating: ./input/example_test.csv  \n",
            "\n",
            "2 archives were successfully processed.\n"
          ],
          "name": "stdout"
        }
      ]
    },
    {
      "cell_type": "code",
      "metadata": {
        "_kg_hide-input": true,
        "execution": {
          "iopub.status.busy": "2021-06-10T00:23:09.378226Z",
          "iopub.execute_input": "2021-06-10T00:23:09.378672Z",
          "iopub.status.idle": "2021-06-10T00:24:32.570667Z",
          "shell.execute_reply.started": "2021-06-10T00:23:09.378641Z",
          "shell.execute_reply": "2021-06-10T00:24:32.569437Z"
        },
        "trusted": true,
        "colab": {
          "base_uri": "https://localhost:8080/",
          "height": 357
        },
        "id": "PFM5c-MS_fhP",
        "outputId": "a53a166e-3494-4970-9299-9c35687b6c45"
      },
      "source": [
        "if 'google.colab' in sys.modules:\n",
        "    data_dir = Path('/content/input/')\n",
        "elif 'kaggle_web_client' in sys.modules:\n",
        "    data_dir = Path('../input/mlb-player-digital-engagement-forecasting')\n",
        "\n",
        "training = pd.read_csv(data_dir / 'train.csv')\n",
        "\n",
        "# Convert training data date field to datetime type\n",
        "training['date'] = pd.to_datetime(training['date'], format=\"%Y%m%d\")\n",
        "\n",
        "display(training.info())"
      ],
      "execution_count": 5,
      "outputs": [
        {
          "output_type": "stream",
          "text": [
            "<class 'pandas.core.frame.DataFrame'>\n",
            "RangeIndex: 1216 entries, 0 to 1215\n",
            "Data columns (total 12 columns):\n",
            " #   Column                   Non-Null Count  Dtype         \n",
            "---  ------                   --------------  -----         \n",
            " 0   date                     1216 non-null   datetime64[ns]\n",
            " 1   nextDayPlayerEngagement  1216 non-null   object        \n",
            " 2   games                    639 non-null    object        \n",
            " 3   rosters                  1216 non-null   object        \n",
            " 4   playerBoxScores          538 non-null    object        \n",
            " 5   teamBoxScores            538 non-null    object        \n",
            " 6   transactions             1103 non-null   object        \n",
            " 7   standings                531 non-null    object        \n",
            " 8   awards                   294 non-null    object        \n",
            " 9   events                   536 non-null    object        \n",
            " 10  playerTwitterFollowers   40 non-null     object        \n",
            " 11  teamTwitterFollowers     40 non-null     object        \n",
            "dtypes: datetime64[ns](1), object(11)\n",
            "memory usage: 114.1+ KB\n"
          ],
          "name": "stdout"
        },
        {
          "output_type": "display_data",
          "data": {
            "text/plain": [
              "None"
            ]
          },
          "metadata": {
            "tags": []
          }
        }
      ]
    },
    {
      "cell_type": "markdown",
      "metadata": {
        "id": "wrCji7y1_fhQ"
      },
      "source": [
        "There are in addition a number of supplementary files. See the [data documentation](https://www.kaggle.com/c/mlb-player-digital-engagement-forecasting/data) on the competition page for more information."
      ]
    },
    {
      "cell_type": "code",
      "metadata": {
        "_kg_hide-input": true,
        "execution": {
          "iopub.status.busy": "2021-06-10T00:24:32.572797Z",
          "iopub.execute_input": "2021-06-10T00:24:32.573301Z",
          "iopub.status.idle": "2021-06-10T00:24:32.74023Z",
          "shell.execute_reply.started": "2021-06-10T00:24:32.57325Z",
          "shell.execute_reply": "2021-06-10T00:24:32.739278Z"
        },
        "trusted": true,
        "colab": {
          "base_uri": "https://localhost:8080/",
          "height": 1000,
          "referenced_widgets": [
            "03f00cb9e9334789a33159e05fe7c35c",
            "9281253c412b417aabce15fc382c96dd",
            "b335b61853244e47a02e9e54e1c97895",
            "8a408e0eb1ba4b87a2eb74103588757c",
            "b2e0ba4b0e9349658dc9b29fce31ef6b",
            "ff513cc4d21b471e83036ceb0f6e6d98",
            "4628a3884c1f45a4a2a71f22dca6ffca",
            "da00f479ae6a41cd92ee8f9c23370ec2",
            "bee26e040be44556a5f1a760ddab508f",
            "2a5c71575d094beda2373fff907a2f3b"
          ]
        },
        "id": "Qyq3Hto__fhQ",
        "outputId": "97f67047-d349-4f47-d299-8cb5fb67b594"
      },
      "source": [
        "#### Look at data from each of the input dfs read in ####\n",
        "df_names = ['seasons', 'teams', 'players', 'awards']\n",
        "\n",
        "for name in df_names:\n",
        "    globals()[name] = pd.read_csv(data_dir / f\"{name}.csv\")\n",
        "\n",
        "kaggle_data_tabs = widgets.Tab()\n",
        "# Add Output widgets for each pandas DF as tabs' children\n",
        "kaggle_data_tabs.children = list([widgets.Output() for df_name in df_names])\n",
        "\n",
        "for index in range(0, len(df_names)):\n",
        "    # Rename tab bar titles to df names\n",
        "    kaggle_data_tabs.set_title(index, df_names[index])\n",
        "    \n",
        "    # Display corresponding table output for this tab name\n",
        "    with kaggle_data_tabs.children[index]:\n",
        "        display(eval(df_names[index]))\n",
        "\n",
        "display(kaggle_data_tabs)"
      ],
      "execution_count": 6,
      "outputs": [
        {
          "output_type": "display_data",
          "data": {
            "application/vnd.jupyter.widget-view+json": {
              "model_id": "03f00cb9e9334789a33159e05fe7c35c",
              "version_minor": 0,
              "version_major": 2
            },
            "text/plain": [
              "Tab(children=(Output(), Output(), Output(), Output()), _titles={'0': 'seasons', '1': 'teams', '2': 'players', …"
            ]
          },
          "metadata": {
            "tags": []
          }
        }
      ]
    },
    {
      "cell_type": "markdown",
      "metadata": {
        "id": "Sa67wIyJ_fhR"
      },
      "source": [
        "In the next cell we'll restructure this data into a single dataframe `player_engagement_with_info` convienient for modeling."
      ]
    },
    {
      "cell_type": "code",
      "metadata": {
        "_kg_hide-input": true,
        "_kg_hide-output": true,
        "execution": {
          "iopub.status.busy": "2021-06-10T00:24:32.741764Z",
          "iopub.execute_input": "2021-06-10T00:24:32.74208Z",
          "iopub.status.idle": "2021-06-10T00:29:19.86262Z",
          "shell.execute_reply.started": "2021-06-10T00:24:32.742052Z",
          "shell.execute_reply": "2021-06-10T00:29:19.861469Z"
        },
        "trusted": true,
        "id": "TuOsVykw_fhS"
      },
      "source": [
        "# Helper function to unpack json found in daily data\n",
        "def unpack_json(json_str):\n",
        "    return np.nan if pd.isna(json_str) else pd.read_json(json_str)\n",
        "\n",
        "#### Unnest various nested data within training (daily) data ####\n",
        "daily_data_unnested_dfs = pd.DataFrame(data = {\n",
        "  'dfName': training.drop('date', axis = 1).columns.values.tolist()\n",
        "  })\n",
        "\n",
        "daily_data_unnested_dfs['df'] = [pd.DataFrame() for row in \n",
        "  daily_data_unnested_dfs.iterrows()]\n",
        "\n",
        "for df_index, df_row in daily_data_unnested_dfs.iterrows():\n",
        "    nestedTableName = str(df_row['dfName'])\n",
        "    \n",
        "    date_nested_table = training[['date', nestedTableName]]\n",
        "    \n",
        "    date_nested_table = (date_nested_table[\n",
        "      ~pd.isna(date_nested_table[nestedTableName])\n",
        "      ].\n",
        "      reset_index(drop = True)\n",
        "      )\n",
        "    \n",
        "    daily_dfs_collection = []\n",
        "    \n",
        "    for date_index, date_row in date_nested_table.iterrows():\n",
        "        daily_df = unpack_json(date_row[nestedTableName])\n",
        "        \n",
        "        daily_df['dailyDataDate'] = date_row['date']\n",
        "        \n",
        "        daily_dfs_collection = daily_dfs_collection + [daily_df]\n",
        "\n",
        "    unnested_table = pd.concat(daily_dfs_collection,\n",
        "      ignore_index = True).set_index('dailyDataDate').reset_index()\n",
        "\n",
        "    # Creates 1 pandas df per unnested df from daily data read in, with same name\n",
        "    globals()[df_row['dfName']] = unnested_table    \n",
        "    \n",
        "    daily_data_unnested_dfs['df'][df_index] = unnested_table\n",
        "\n",
        "del training\n",
        "gc.collect()\n",
        "\n",
        "\n",
        "\n",
        "#### Get some information on each date in daily data (using season dates of interest) ####\n",
        "dates = pd.DataFrame(data = \n",
        "  {'dailyDataDate': nextDayPlayerEngagement['dailyDataDate'].unique()})\n",
        "\n",
        "dates['date'] = pd.to_datetime(dates['dailyDataDate'].astype(str))\n",
        "\n",
        "dates['year'] = dates['date'].dt.year\n",
        "dates['month'] = dates['date'].dt.month\n",
        "\n",
        "dates_with_info = pd.merge(\n",
        "  dates,\n",
        "  seasons,\n",
        "  left_on = 'year',\n",
        "  right_on = 'seasonId'\n",
        "  )\n",
        "\n",
        "dates_with_info['inSeason'] = (\n",
        "  dates_with_info['date'].between(\n",
        "    pd.to_datetime(dates_with_info['regularSeasonStartDate']),\n",
        "    pd.to_datetime(dates_with_info['postSeasonEndDate']),\n",
        "    inclusive = True\n",
        "    )\n",
        "  )\n",
        "\n",
        "dates_with_info['seasonPart'] = np.select(\n",
        "  [\n",
        "    dates_with_info['date'] < pd.to_datetime(dates_with_info['preSeasonStartDate']), \n",
        "    dates_with_info['date'] < pd.to_datetime(dates_with_info['regularSeasonStartDate']),\n",
        "    dates_with_info['date'] <= pd.to_datetime(dates_with_info['lastDate1stHalf']),\n",
        "    dates_with_info['date'] < pd.to_datetime(dates_with_info['firstDate2ndHalf']),\n",
        "    dates_with_info['date'] <= pd.to_datetime(dates_with_info['regularSeasonEndDate']),\n",
        "    dates_with_info['date'] < pd.to_datetime(dates_with_info['postSeasonStartDate']),\n",
        "    dates_with_info['date'] <= pd.to_datetime(dates_with_info['postSeasonEndDate']),\n",
        "    dates_with_info['date'] > pd.to_datetime(dates_with_info['postSeasonEndDate'])\n",
        "  ], \n",
        "  [\n",
        "    'Offseason',\n",
        "    'Preseason',\n",
        "    'Reg Season 1st Half',\n",
        "    'All-Star Break',\n",
        "    'Reg Season 2nd Half',\n",
        "    'Between Reg and Postseason',\n",
        "    'Postseason',\n",
        "    'Offseason'\n",
        "  ], \n",
        "  default = np.nan\n",
        "  )\n",
        "\n",
        "#### Add some pitching stats/pieces of info to player game level stats ####\n",
        "\n",
        "player_game_stats = (playerBoxScores.copy().\n",
        "  # Change team Id/name to reflect these come from player game, not roster\n",
        "  rename(columns = {'teamId': 'gameTeamId', 'teamName': 'gameTeamName'})\n",
        "  )\n",
        "\n",
        "# Adds in field for innings pitched as fraction (better for aggregation)\n",
        "player_game_stats['inningsPitchedAsFrac'] = np.where(\n",
        "  pd.isna(player_game_stats['inningsPitched']),\n",
        "  np.nan,\n",
        "  np.floor(player_game_stats['inningsPitched']) +\n",
        "    (player_game_stats['inningsPitched'] -\n",
        "      np.floor(player_game_stats['inningsPitched'])) * 10/3\n",
        "  )\n",
        "\n",
        "# Add in Tom Tango pitching game score (https://www.mlb.com/glossary/advanced-stats/game-score)\n",
        "player_game_stats['pitchingGameScore'] = (40\n",
        "#     + 2 * player_game_stats['outs']\n",
        "    + 1 * player_game_stats['strikeOutsPitching']\n",
        "    - 2 * player_game_stats['baseOnBallsPitching']\n",
        "    - 2 * player_game_stats['hitsPitching']\n",
        "    - 3 * player_game_stats['runsPitching']\n",
        "    - 6 * player_game_stats['homeRunsPitching']\n",
        "    )\n",
        "\n",
        "# Add in criteria for no-hitter by pitcher (individual, not multiple pitchers)\n",
        "player_game_stats['noHitter'] = np.where(\n",
        "  (player_game_stats['gamesStartedPitching'] == 1) &\n",
        "  (player_game_stats['inningsPitched'] >= 9) &\n",
        "  (player_game_stats['hitsPitching'] == 0),\n",
        "  1, 0\n",
        "  )\n",
        "\n",
        "player_date_stats_agg = pd.merge(\n",
        "  (player_game_stats.\n",
        "    groupby(['dailyDataDate', 'playerId'], as_index = False).\n",
        "    # Some aggregations that are not simple sums\n",
        "    agg(\n",
        "      numGames = ('gamePk', 'nunique'),\n",
        "      # Should be 1 team per player per day, but adding here for 1 exception:\n",
        "      # playerId 518617 (Jake Diekman) had 2 games for different teams marked\n",
        "      # as played on 5/19/19, due to resumption of game after he was traded\n",
        "      numTeams = ('gameTeamId', 'nunique'),\n",
        "      # Should be only 1 team for almost all player-dates, taking min to simplify\n",
        "      gameTeamId = ('gameTeamId', 'min')\n",
        "      )\n",
        "    ),\n",
        "  # Merge with a bunch of player stats that can be summed at date/player level\n",
        "  (player_game_stats.\n",
        "    groupby(['dailyDataDate', 'playerId'], as_index = False)\n",
        "    [['runsScored', 'homeRuns', 'strikeOuts', 'baseOnBalls', 'hits',\n",
        "      'hitByPitch', 'atBats', 'caughtStealing', 'stolenBases',\n",
        "      'groundIntoDoublePlay', 'groundIntoTriplePlay', 'plateAppearances',\n",
        "      'totalBases', 'rbi', 'leftOnBase', 'sacBunts', 'sacFlies',\n",
        "      'gamesStartedPitching', 'runsPitching', 'homeRunsPitching', \n",
        "      'strikeOutsPitching', 'baseOnBallsPitching', 'hitsPitching',\n",
        "      'inningsPitchedAsFrac', 'earnedRuns', \n",
        "      'battersFaced','saves', 'blownSaves', 'pitchingGameScore', \n",
        "      'noHitter'\n",
        "      ]].\n",
        "    sum()\n",
        "    ),\n",
        "  on = ['dailyDataDate', 'playerId'],\n",
        "  how = 'inner'\n",
        "  )\n",
        "\n",
        "#### Turn games table into 1 row per team-game, then merge with team box scores ####\n",
        "# Filter to regular or Postseason games w/ valid scores for this part\n",
        "games_for_stats = games[\n",
        "  np.isin(games['gameType'], ['R', 'F', 'D', 'L', 'W', 'C', 'P']) &\n",
        "  ~pd.isna(games['homeScore']) &\n",
        "  ~pd.isna(games['awayScore'])\n",
        "  ]\n",
        "\n",
        "# Get games table from home team perspective\n",
        "games_home_perspective = games_for_stats.copy()\n",
        "\n",
        "# Change column names so that \"team\" is \"home\", \"opp\" is \"away\"\n",
        "games_home_perspective.columns = [\n",
        "  col_value.replace('home', 'team').replace('away', 'opp') for \n",
        "    col_value in games_home_perspective.columns.values]\n",
        "\n",
        "games_home_perspective['isHomeTeam'] = 1\n",
        "\n",
        "# Get games table from away team perspective\n",
        "games_away_perspective = games_for_stats.copy()\n",
        "\n",
        "# Change column names so that \"opp\" is \"home\", \"team\" is \"away\"\n",
        "games_away_perspective.columns = [\n",
        "  col_value.replace('home', 'opp').replace('away', 'team') for \n",
        "    col_value in games_away_perspective.columns.values]\n",
        "\n",
        "games_away_perspective['isHomeTeam'] = 0\n",
        "\n",
        "# Put together games from home/away perspective to get df w/ 1 row per team game\n",
        "team_games = (pd.concat([\n",
        "  games_home_perspective,\n",
        "  games_away_perspective\n",
        "  ],\n",
        "  ignore_index = True)\n",
        "  )\n",
        "\n",
        "# Copy over team box scores data to modify\n",
        "team_game_stats = teamBoxScores.copy()\n",
        "\n",
        "# Change column names to reflect these are all \"team\" stats - helps \n",
        "# to differentiate from individual player stats if/when joining later\n",
        "team_game_stats.columns = [\n",
        "  (col_value + 'Team') \n",
        "  if (col_value not in ['dailyDataDate', 'home', 'teamId', 'gamePk',\n",
        "    'gameDate', 'gameTimeUTC'])\n",
        "    else col_value\n",
        "  for col_value in team_game_stats.columns.values\n",
        "  ]\n",
        "\n",
        "# Merge games table with team game stats\n",
        "team_games_with_stats = pd.merge(\n",
        "  team_games,\n",
        "  team_game_stats.\n",
        "    # Drop some fields that are already present in team_games table\n",
        "    drop(['home', 'gameDate', 'gameTimeUTC'], axis = 1),\n",
        "  on = ['dailyDataDate', 'gamePk', 'teamId'],\n",
        "  # Doing this as 'inner' join excludes spring training games, postponed games,\n",
        "  # etc. from original games table, but this may be fine for purposes here \n",
        "  how = 'inner'\n",
        "  )\n",
        "\n",
        "team_date_stats_agg = (team_games_with_stats.\n",
        "  groupby(['dailyDataDate', 'teamId', 'gameType', 'oppId', 'oppName'], \n",
        "    as_index = False).\n",
        "  agg(\n",
        "    numGamesTeam = ('gamePk', 'nunique'),\n",
        "    winsTeam = ('teamWinner', 'sum'),\n",
        "    lossesTeam = ('oppWinner', 'sum'),\n",
        "    runsScoredTeam = ('teamScore', 'sum'),\n",
        "    runsAllowedTeam = ('oppScore', 'sum')\n",
        "    )\n",
        "   )\n",
        "\n",
        "# Prepare standings table for merge w/ player digital engagement data\n",
        "# Pick only certain fields of interest from standings for merge\n",
        "standings_selected_fields = (standings[['dailyDataDate', 'teamId', \n",
        "  'streakCode', 'divisionRank', 'leagueRank', 'wildCardRank', 'pct'\n",
        "  ]].\n",
        "  rename(columns = {'pct': 'winPct'})\n",
        "  )\n",
        "\n",
        "# Change column names to reflect these are all \"team\" standings - helps \n",
        "# to differentiate from player-related fields if/when joining later\n",
        "standings_selected_fields.columns = [\n",
        "  (col_value + 'Team') \n",
        "  if (col_value not in ['dailyDataDate', 'teamId'])\n",
        "    else col_value\n",
        "  for col_value in standings_selected_fields.columns.values\n",
        "  ]\n",
        "\n",
        "standings_selected_fields['streakLengthTeam'] = (\n",
        "  standings_selected_fields['streakCodeTeam'].\n",
        "    str.replace('W', '').\n",
        "    str.replace('L', '').\n",
        "    astype(float)\n",
        "    )\n",
        "\n",
        "# Add fields to separate winning and losing streak from streak code\n",
        "standings_selected_fields['winStreakTeam'] = np.where(\n",
        "  standings_selected_fields['streakCodeTeam'].str[0] == 'W',\n",
        "  standings_selected_fields['streakLengthTeam'],\n",
        "  np.nan\n",
        "  )\n",
        "\n",
        "standings_selected_fields['lossStreakTeam'] = np.where(\n",
        "  standings_selected_fields['streakCodeTeam'].str[0] == 'L',\n",
        "  standings_selected_fields['streakLengthTeam'],\n",
        "  np.nan\n",
        "  )\n",
        "\n",
        "standings_for_digital_engagement_merge = (pd.merge(\n",
        "  standings_selected_fields,\n",
        "  dates_with_info[['dailyDataDate', 'inSeason']],\n",
        "  on = ['dailyDataDate'],\n",
        "  how = 'left'\n",
        "  ).\n",
        "  # Limit down standings to only in season version\n",
        "  query(\"inSeason\").\n",
        "  # Drop fields no longer necessary (in derived values, etc.)\n",
        "  drop(['streakCodeTeam', 'streakLengthTeam', 'inSeason'], axis = 1).\n",
        "  reset_index(drop = True)\n",
        "  )\n",
        "\n",
        "#### Merge together various data frames to add date, player, roster, and team info ####\n",
        "# Copy over player engagement df to add various pieces to it\n",
        "player_engagement_with_info = nextDayPlayerEngagement.copy()\n",
        "\n",
        "# Take \"row mean\" across targets to add (helps with studying all 4 targets at once)\n",
        "player_engagement_with_info['targetAvg'] = np.mean(\n",
        "  player_engagement_with_info[['target1', 'target2', 'target3', 'target4']],\n",
        "  axis = 1)\n",
        "\n",
        "# Merge in date information\n",
        "player_engagement_with_info = pd.merge(\n",
        "  player_engagement_with_info,\n",
        "  dates_with_info[['dailyDataDate', 'date', 'year', 'month', 'inSeason',\n",
        "    'seasonPart']],\n",
        "  on = ['dailyDataDate'],\n",
        "  how = 'left'\n",
        "  )\n",
        "\n",
        "# Merge in some player information\n",
        "player_engagement_with_info = pd.merge(\n",
        "  player_engagement_with_info,\n",
        "  players[['playerId', 'playerName', 'DOB', 'mlbDebutDate', 'birthCity',\n",
        "    'birthStateProvince', 'birthCountry', 'primaryPositionName']],\n",
        "   on = ['playerId'],\n",
        "   how = 'left'\n",
        "   )\n",
        "\n",
        "# Merge in some player roster information by date\n",
        "player_engagement_with_info = pd.merge(\n",
        "  player_engagement_with_info,\n",
        "  (rosters[['dailyDataDate', 'playerId', 'statusCode', 'status', 'teamId']].\n",
        "    rename(columns = {\n",
        "      'statusCode': 'rosterStatusCode',\n",
        "      'status': 'rosterStatus',\n",
        "      'teamId': 'rosterTeamId'\n",
        "      })\n",
        "    ),\n",
        "  on = ['dailyDataDate', 'playerId'],\n",
        "  how = 'left'\n",
        "  )\n",
        "    \n",
        "# Merge in team name from player's roster team\n",
        "player_engagement_with_info = pd.merge(\n",
        "  player_engagement_with_info,\n",
        "  (teams[['id', 'teamName']].\n",
        "    rename(columns = {\n",
        "      'id': 'rosterTeamId',\n",
        "      'teamName': 'rosterTeamName'\n",
        "      })\n",
        "    ),\n",
        "  on = ['rosterTeamId'],\n",
        "  how = 'left'\n",
        "  )\n",
        "\n",
        "# Merge in some player game stats (previously aggregated) from that date\n",
        "player_engagement_with_info = pd.merge(\n",
        "  player_engagement_with_info,\n",
        "  player_date_stats_agg,\n",
        "  on = ['dailyDataDate', 'playerId'],\n",
        "  how = 'left'\n",
        "  )\n",
        "\n",
        "# Merge in team name from player's game team\n",
        "player_engagement_with_info = pd.merge(\n",
        "  player_engagement_with_info,\n",
        "  (teams[['id', 'teamName']].\n",
        "    rename(columns = {\n",
        "      'id': 'gameTeamId',\n",
        "      'teamName': 'gameTeamName'\n",
        "      })\n",
        "    ),\n",
        "  on = ['gameTeamId'],\n",
        "  how = 'left'\n",
        "  )\n",
        "\n",
        "# Merge in some team game stats/results (previously aggregated) from that date\n",
        "player_engagement_with_info = pd.merge(\n",
        "  player_engagement_with_info,\n",
        "  team_date_stats_agg.rename(columns = {'teamId': 'gameTeamId'}),\n",
        "  on = ['dailyDataDate', 'gameTeamId'],\n",
        "  how = 'left'\n",
        "  )\n",
        "\n",
        "# Merge in player transactions of note on that date\n",
        "    \n",
        "# Merge in some pieces of team standings (previously filter/processed) from that date\n",
        "player_engagement_with_info = pd.merge(\n",
        "  player_engagement_with_info,\n",
        "  standings_for_digital_engagement_merge.\n",
        "    rename(columns = {'teamId': 'gameTeamId'}),\n",
        "  on = ['dailyDataDate', 'gameTeamId'],\n",
        "  how = 'left'\n",
        "  )\n",
        "\n",
        "display(player_engagement_with_info)"
      ],
      "execution_count": null,
      "outputs": []
    },
    {
      "cell_type": "markdown",
      "metadata": {
        "id": "voAkSTN9_fhb"
      },
      "source": [
        "# Data Exploration #"
      ]
    },
    {
      "cell_type": "markdown",
      "metadata": {
        "id": "kW4tefhj_fhe"
      },
      "source": [
        "Now let's do a little bit of data visualization to motivate our feature engineering. We'll investigate seasonal effects for the *Yankees* team, the team with the most overall engagement."
      ]
    },
    {
      "cell_type": "code",
      "metadata": {
        "_kg_hide-input": true,
        "execution": {
          "iopub.status.busy": "2021-06-10T00:29:19.864437Z",
          "iopub.execute_input": "2021-06-10T00:29:19.864937Z",
          "iopub.status.idle": "2021-06-10T00:29:19.880423Z",
          "shell.execute_reply.started": "2021-06-10T00:29:19.864862Z",
          "shell.execute_reply": "2021-06-10T00:29:19.879233Z"
        },
        "trusted": true,
        "id": "WGaFMjFj_fhe"
      },
      "source": [
        "def seasonal_plot(X, y, period, freq, ax=None):\n",
        "    if ax is None:\n",
        "        _, ax = plt.subplots()\n",
        "    palette = sns.color_palette(\n",
        "        \"husl\",\n",
        "        n_colors=X[period].nunique(),\n",
        "    )\n",
        "    ax = sns.lineplot(\n",
        "        x=freq,\n",
        "        y=y,\n",
        "        hue=period,\n",
        "        data=X,\n",
        "        ci=False,\n",
        "        ax=ax,\n",
        "        palette=palette,\n",
        "        legend=False,\n",
        "    )\n",
        "    ax.set_title(f\"Seasonal Plot ({period}/{freq})\")\n",
        "    for line, name in zip(ax.lines, X[period].unique()):\n",
        "        y_ = line.get_ydata()[-1]\n",
        "        ax.annotate(\n",
        "            name,\n",
        "            xy=(1, y_),\n",
        "            xytext=(6, 0),\n",
        "            color=line.get_color(),\n",
        "            xycoords=ax.get_yaxis_transform(),\n",
        "            textcoords=\"offset points\",\n",
        "            size=14,\n",
        "            va=\"center\",\n",
        "        )\n",
        "    return ax\n",
        "\n",
        "\n",
        "def plot_periodogram(ts, detrend='linear', ax=None):\n",
        "    from scipy.signal import periodogram\n",
        "    fs = pd.Timedelta(\"1Y\") / pd.Timedelta(\"1D\")\n",
        "    freqencies, spectrum = periodogram(\n",
        "        ts,\n",
        "        fs=fs,\n",
        "        detrend=detrend,\n",
        "        window=\"boxcar\",\n",
        "        scaling='spectrum',\n",
        "    )\n",
        "    if ax is None:\n",
        "        _, ax = plt.subplots()\n",
        "    ax.step(freqencies, spectrum, color=\"purple\")\n",
        "    ax.set_xscale(\"log\")\n",
        "    ax.set_xticks([1, 2, 4, 6, 12, 26, 52, 104])\n",
        "    ax.set_xticklabels(\n",
        "        [\n",
        "            \"Annual\",\n",
        "            \"Semiannual\",\n",
        "            \"Quarterly\",\n",
        "            \"Bimonthly\",\n",
        "            \"Monthly\",\n",
        "            \"Biweekly\",\n",
        "            \"Weekly\",\n",
        "            \"Semiweekly\",\n",
        "        ],\n",
        "        rotation=30,\n",
        "    )\n",
        "    ax.ticklabel_format(axis=\"y\", style=\"sci\", scilimits=(0, 0))\n",
        "    ax.set_ylabel(\"Density\")\n",
        "    ax.set_title(\"Periodogram\")\n",
        "    return ax"
      ],
      "execution_count": null,
      "outputs": []
    },
    {
      "cell_type": "markdown",
      "metadata": {
        "id": "Kb454_p6_fhf"
      },
      "source": [
        "A *seasonal plot* can reveal seasonal effects in a time series. Here are two seasonal plots for the average player engagement for the Yankees, one for yearly seasonality and one for weekly."
      ]
    },
    {
      "cell_type": "code",
      "metadata": {
        "_kg_hide-input": true,
        "execution": {
          "iopub.status.busy": "2021-06-10T00:29:19.881736Z",
          "iopub.execute_input": "2021-06-10T00:29:19.882075Z",
          "iopub.status.idle": "2021-06-10T00:29:36.598698Z",
          "shell.execute_reply.started": "2021-06-10T00:29:19.882044Z",
          "shell.execute_reply": "2021-06-10T00:29:36.597955Z"
        },
        "trusted": true,
        "id": "88zof8VP_fhf"
      },
      "source": [
        "# Extract player engagement time series \n",
        "index = [\"playerId\", \"date\"]\n",
        "targets = [\"target1\", \"target2\", \"target3\", \"target4\"]\n",
        "Y = player_engagement_with_info.loc[:, index + targets]\n",
        "Y = Y.assign(date=lambda x: pd.to_datetime(x.date))\n",
        "Y = Y.set_index(\"date\").to_period(\"D\")\n",
        "Y = Y.pivot(columns=\"playerId\")\n",
        "\n",
        "# Select Yankees players\n",
        "yankees_players = player_engagement_with_info.query(\"rosterTeamName == 'Yankees'\").playerId.unique()\n",
        "yankees = Y.loc(axis=1)[:, yankees_players]\n",
        "\n",
        "# Create average engagement series\n",
        "team = (yankees / yankees.max(axis=0)).mean(axis=1)\n",
        "team.name = \"target\"\n",
        "\n",
        "# Yearly plot\n",
        "S = team.to_frame()\n",
        "S[\"month\"] = S.index.month  # the frequency\n",
        "S[\"year\"] = S.index.year  # the period\n",
        "_ = seasonal_plot(S, y=\"target\", period=\"year\", freq=\"month\")\n",
        "\n",
        "# Weekly plot\n",
        "S = team.to_frame()\n",
        "S[\"day\"] = S.index.dayofweek  # the frequency\n",
        "S[\"week\"] = S.index.week  # the period\n",
        "_ = seasonal_plot(S, y=\"target\", period=\"week\", freq=\"day\")"
      ],
      "execution_count": null,
      "outputs": []
    },
    {
      "cell_type": "markdown",
      "metadata": {
        "id": "yeNroNqy_fhg"
      },
      "source": [
        "We can verify this with the *periodogram*. The periodogram illustrates the strength of the frequencies within a signal -- specifically, the variance of the sine / cosine Fourier component oscillating at that frequency."
      ]
    },
    {
      "cell_type": "code",
      "metadata": {
        "_kg_hide-input": true,
        "execution": {
          "iopub.status.busy": "2021-06-10T00:29:36.600657Z",
          "iopub.execute_input": "2021-06-10T00:29:36.6011Z",
          "iopub.status.idle": "2021-06-10T00:29:37.077507Z",
          "shell.execute_reply.started": "2021-06-10T00:29:36.601055Z",
          "shell.execute_reply": "2021-06-10T00:29:37.076259Z"
        },
        "trusted": true,
        "id": "0F6vZNzL_fhg"
      },
      "source": [
        "_ = plot_periodogram(team)"
      ],
      "execution_count": null,
      "outputs": []
    },
    {
      "cell_type": "markdown",
      "metadata": {
        "id": "p6bwWBZ1_fhg"
      },
      "source": [
        "Both of these visualizations indicate yearly (or annual) seasonality in the engagement time series. We'll model this effect with Fourier features, which we create below."
      ]
    },
    {
      "cell_type": "markdown",
      "metadata": {
        "id": "Y0oXhN_d_fhh"
      },
      "source": [
        "# Data Pipeline #"
      ]
    },
    {
      "cell_type": "markdown",
      "metadata": {
        "id": "2YHrnwnT_fhh"
      },
      "source": [
        "The following cell creates our data splits for training. We will:\n",
        "- select a set of features from `player_engagement_with_info`\n",
        "- pivot the dataframe from long to wide format so that each column comprises a time series for the training period\n",
        "- create Fourier features to model the annual seasonality\n",
        "- split data into training and validation sets"
      ]
    },
    {
      "cell_type": "code",
      "metadata": {
        "_kg_hide-input": false,
        "execution": {
          "iopub.status.busy": "2021-06-10T00:29:37.079962Z",
          "iopub.execute_input": "2021-06-10T00:29:37.080401Z",
          "iopub.status.idle": "2021-06-10T00:29:40.040635Z",
          "shell.execute_reply.started": "2021-06-10T00:29:37.080355Z",
          "shell.execute_reply": "2021-06-10T00:29:40.039743Z"
        },
        "trusted": true,
        "id": "S4FbLDoz_fhh"
      },
      "source": [
        "df = player_engagement_with_info\n",
        "\n",
        "# Columns to select\n",
        "index = [\"playerId\", \"date\"]\n",
        "targets = [\"target1\", \"target2\", \"target3\", \"target4\"]\n",
        "features = [\n",
        "    \"runsScored\", \"hits\", \"stolenBases\", \"rbi\", \"atBats\", \"saves\", \"homeRuns\",\n",
        "    \"stolenBases\", \"strikeOuts\",\n",
        "]\n",
        "\n",
        "# Targets\n",
        "Y = df.loc[:, index + targets]\n",
        "Y = Y.assign(date=lambda x: pd.to_datetime(x.date))\n",
        "Y = Y.set_index(\"date\").to_period(\"D\")\n",
        "Y = Y.pivot(columns=\"playerId\")\n",
        "\n",
        "# Features\n",
        "X = df.loc[:, index + features].set_index(\"date\").to_period(\"D\")\n",
        "for col in features:\n",
        "    X[col] = X[col].fillna(-1)\n",
        "X = X.pivot(columns=[\"playerId\"])\n",
        "\n",
        "# Temporal features\n",
        "fourier = CalendarFourier(freq='A', order=8)\n",
        "deterministic = DeterministicProcess(\n",
        "    index=X.index,\n",
        "    order=0,\n",
        "    seasonal=False,  # set to True to create indicators for days of the week (weekly seasonality)\n",
        "    additional_terms=[fourier],\n",
        ")\n",
        "X = pd.concat([X, deterministic.in_sample()], axis=1)\n",
        "\n",
        "# Training splits\n",
        "X_train, X_valid, y_train, y_valid = train_test_split(\n",
        "    X,\n",
        "    Y,\n",
        "    test_size=30,  # 30-day validation set\n",
        "    shuffle=False,\n",
        ")"
      ],
      "execution_count": null,
      "outputs": []
    },
    {
      "cell_type": "markdown",
      "metadata": {
        "id": "eywiUc1Q_fhi"
      },
      "source": [
        "# Model #"
      ]
    },
    {
      "cell_type": "markdown",
      "metadata": {
        "id": "XVRvJO_F_fhi"
      },
      "source": [
        "For this getting started notebook, we'll just create a simple feedforward network."
      ]
    },
    {
      "cell_type": "code",
      "metadata": {
        "execution": {
          "iopub.status.busy": "2021-06-10T00:29:40.043172Z",
          "iopub.execute_input": "2021-06-10T00:29:40.043669Z",
          "iopub.status.idle": "2021-06-10T00:29:40.262463Z",
          "shell.execute_reply.started": "2021-06-10T00:29:40.043623Z",
          "shell.execute_reply": "2021-06-10T00:29:40.256529Z"
        },
        "trusted": true,
        "id": "FnGCojbt_fhi"
      },
      "source": [
        "OUTPUTS = y_train.shape[-1]\n",
        "early_stopping = keras.callbacks.EarlyStopping(patience=5,\n",
        "                                               restore_best_weights=True)\n",
        "\n",
        "model = keras.Sequential([\n",
        "    layers.Dense(1024, activation='relu'),\n",
        "    layers.BatchNormalization(),\n",
        "    layers.Dropout(0.2),\n",
        "    layers.Dense(1024, activation='relu'),\n",
        "    layers.BatchNormalization(),\n",
        "    layers.Dropout(0.2),\n",
        "    layers.Dense(1024, activation='relu'),\n",
        "    layers.BatchNormalization(),\n",
        "    layers.Dropout(0.2),\n",
        "    layers.Dense(OUTPUTS),\n",
        "])\n"
      ],
      "execution_count": null,
      "outputs": []
    },
    {
      "cell_type": "code",
      "metadata": {
        "execution": {
          "iopub.status.busy": "2021-06-10T00:29:40.270587Z",
          "iopub.execute_input": "2021-06-10T00:29:40.273655Z",
          "iopub.status.idle": "2021-06-10T00:29:51.811739Z",
          "shell.execute_reply.started": "2021-06-10T00:29:40.27337Z",
          "shell.execute_reply": "2021-06-10T00:29:51.809654Z"
        },
        "trusted": true,
        "id": "e2Cm9ix0_fhi"
      },
      "source": [
        "model.compile(\n",
        "    optimizer='adam',\n",
        "    loss='mae',\n",
        "    metrics=['mae'],\n",
        ")\n",
        "history = model.fit(\n",
        "    X_train,\n",
        "    y_train,\n",
        "    validation_data=(X_valid, y_valid),\n",
        "    epochs=50,\n",
        "    callbacks=[early_stopping]\n",
        ")"
      ],
      "execution_count": null,
      "outputs": []
    },
    {
      "cell_type": "markdown",
      "metadata": {
        "id": "tmDkg6Ie_fhj"
      },
      "source": [
        "# Evaluate #"
      ]
    },
    {
      "cell_type": "code",
      "metadata": {
        "_kg_hide-input": true,
        "execution": {
          "iopub.status.busy": "2021-06-10T00:29:51.812907Z",
          "iopub.status.idle": "2021-06-10T00:29:51.81333Z"
        },
        "trusted": true,
        "id": "sA_iBSCY_fhj"
      },
      "source": [
        "y_eval = model.predict(X_valid)\n",
        "y_eval = pd.DataFrame(y_eval,\n",
        "                      index=y_valid.index,\n",
        "                      columns=y_valid.columns)\n",
        "y_fit = model.predict(X_train)\n",
        "y_fit = pd.DataFrame(y_fit,\n",
        "                     index=y_train.index,\n",
        "                     columns=y_train.columns)"
      ],
      "execution_count": null,
      "outputs": []
    },
    {
      "cell_type": "markdown",
      "metadata": {
        "id": "lDLpL6CY_fhj"
      },
      "source": [
        "Let's look at predictions for Aaron Judge of the NY Yankees, the player with the overall highest engagement."
      ]
    },
    {
      "cell_type": "code",
      "metadata": {
        "_kg_hide-input": true,
        "execution": {
          "iopub.status.busy": "2021-06-10T00:29:51.814575Z",
          "iopub.status.idle": "2021-06-10T00:29:51.815309Z"
        },
        "trusted": true,
        "id": "s__7NGyI_fhk"
      },
      "source": [
        "player = 592450  # Aaron Judge of the NY Yankees\n",
        "fig, ax = plt.subplots(figsize=(11, 8))\n",
        "ax = y_eval.loc(axis=1)[:, player].plot(ax=ax, subplots=True, color='C0')\n",
        "ax = y_valid.loc(axis=1)[:, player].plot(subplots=True,\n",
        "                                         sharex=True,\n",
        "                                         ax=ax,\n",
        "                                         color='0.25')\n",
        "ax = y_fit.loc(axis=1)[:, player].plot(subplots=True,\n",
        "                                       sharex=True,\n",
        "                                       ax=ax,\n",
        "                                       color='C3')\n",
        "ax = y_train.loc(axis=1)[:, player].plot(subplots=True,\n",
        "                                         sharex=True,\n",
        "                                         ax=ax,\n",
        "                                         color='0.25')"
      ],
      "execution_count": null,
      "outputs": []
    },
    {
      "cell_type": "markdown",
      "metadata": {
        "id": "JisEQ2-a_fhk"
      },
      "source": [
        "# Create Submission #"
      ]
    },
    {
      "cell_type": "markdown",
      "metadata": {
        "id": "L_zc812V_fhk"
      },
      "source": [
        "The next cell illustrates how you to create a submission for this competition. As this is a code competition that relies on a time series module, submissions must follow the requirements described on the [Evaluation Page](https://www.kaggle.com/c/mlb-player-digital-engagement-forecasting/overview/evaluation) and [Data Page](https://www.kaggle.com/c/mlb-player-digital-engagement-forecasting/data)."
      ]
    },
    {
      "cell_type": "code",
      "metadata": {
        "execution": {
          "iopub.status.busy": "2021-06-10T00:29:51.816515Z",
          "iopub.status.idle": "2021-06-10T00:29:51.817215Z"
        },
        "trusted": true,
        "id": "m0BnUnxh_fhk"
      },
      "source": [
        "if 'kaggle_secrets' in sys.modules:  # only run while on Kaggle\n",
        "    import mlb\n",
        "\n",
        "    env = mlb.make_env()\n",
        "    iter_test = env.iter_test()\n",
        "\n",
        "    for (test_df, sample_prediction_df) in iter_test:\n",
        "    \n",
        "        # Example: unpack a dataframe from a json column\n",
        "        today_games = unpack_json(test_df['games'].iloc[0])\n",
        "    \n",
        "        # Make your predictions for the next day's engagement\n",
        "        sample_prediction_df['target1'] = 100.00\n",
        "    \n",
        "        # Submit your predictions \n",
        "        env.predict(sample_prediction_df)"
      ],
      "execution_count": null,
      "outputs": []
    }
  ]
}